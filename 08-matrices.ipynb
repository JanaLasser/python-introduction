{
 "cells": [
  {
   "cell_type": "markdown",
   "metadata": {},
   "source": [
    "<a name=\"top\"></a>Overview: Matrices\n",
    "==="
   ]
  },
  {
   "cell_type": "markdown",
   "metadata": {},
   "source": [
    "* [Matrices](#matrizen)\n",
    "  * [Multi-dimensional lists](#listen)\n",
    "  * [NumPy Arrays](#arrays)\n",
    "  * [Creating Arrays](#erstellen)\n",
    "  * [Maths on Arrays](#mathe)\n",
    "  * [Filters](#filter)\n",
    "* [Exercies 07: Matrices](#uebung07)"
   ]
  },
  {
   "cell_type": "markdown",
   "metadata": {},
   "source": [
    "**Learning Goals:** after this lecture you\n",
    "* know what a third party library is and how to use it\n",
    "* can save multi-dimensional data in arrays\n",
    "* can use simple maths and filtering on arrarys\n",
    "* know how to save and load arrays in files"
   ]
  },
  {
   "cell_type": "markdown",
   "metadata": {},
   "source": [
    "<a name=\"matrizen\"></a>Matrices\n",
    "==="
   ]
  },
  {
   "cell_type": "markdown",
   "metadata": {},
   "source": [
    "Until now, we were only looking at one-dimensional data containers:"
   ]
  },
  {
   "cell_type": "code",
   "execution_count": null,
   "metadata": {
    "collapsed": true
   },
   "outputs": [],
   "source": [
    "list = [1, 2, 3, 4, 5]"
   ]
  },
  {
   "cell_type": "markdown",
   "metadata": {},
   "source": [
    "So, what do we do to create a matrix?\n",
    "\\begin{equation*}\n",
    "A = \\begin{pmatrix} 1 & 2  & 3 \\\\ 4 & 5 & 6 \\\\ 7 & 8 & 9 \\end{pmatrix}\n",
    "\\end{equation*}  "
   ]
  },
  {
   "cell_type": "markdown",
   "metadata": {},
   "source": [
    "<a name=\"listen\"></a>Multi-dimensional lists\n",
    "---"
   ]
  },
  {
   "cell_type": "markdown",
   "metadata": {},
   "source": [
    "In theory, we can use nested lists as a matrix equivalent:"
   ]
  },
  {
   "cell_type": "code",
   "execution_count": null,
   "metadata": {},
   "outputs": [],
   "source": [
    "A = [[1, 2, 3], [4, 5, 6], [7, 8, 9]]\n",
    "print(A)"
   ]
  },
  {
   "cell_type": "markdown",
   "metadata": {},
   "source": [
    "Accessing single list elements isn't too hard:"
   ]
  },
  {
   "cell_type": "code",
   "execution_count": null,
   "metadata": {},
   "outputs": [],
   "source": [
    "print(A[1][1])"
   ]
  },
  {
   "cell_type": "markdown",
   "metadata": {},
   "source": [
    "However, getting equivalent functionality as slicing is quite comlicated already.\n",
    "Remember, for one-dimensional lists, it works like this:"
   ]
  },
  {
   "cell_type": "code",
   "execution_count": null,
   "metadata": {},
   "outputs": [],
   "source": [
    "a = [1, 2, 3, 4, 5]\n",
    "print(a[2:4])"
   ]
  },
  {
   "cell_type": "markdown",
   "metadata": {},
   "source": [
    "[top](#top)"
   ]
  },
  {
   "cell_type": "markdown",
   "metadata": {},
   "source": [
    "<a name=\"arrays\"></a>NumPy Arrays\n",
    "---"
   ]
  },
  {
   "cell_type": "markdown",
   "metadata": {},
   "source": [
    "[A more detailed introduction to NumPy can be found here https://docs.scipy.org/doc/numpy-dev/user/quickstart.html]"
   ]
  },
  {
   "cell_type": "markdown",
   "metadata": {},
   "source": [
    "To solve this issue, we can use a _third party library_. In contrast to the Python standard libraries, this typ of library is not included in every Python installation, but has to be installed manually.\n",
    "\n",
    "However, many scientific Python distributions (for example Anaconda) already include most of the important third party libraries. Our installation is no exception to this rule.\n",
    "\n",
    "For multi-dimensional lists (called _arrays_) we need a library called ```NumPy``` (numeric Python).\n",
    "Since it is installed already, we can simply import NumPy into our script:"
   ]
  },
  {
   "cell_type": "code",
   "execution_count": null,
   "metadata": {
    "collapsed": true
   },
   "outputs": [],
   "source": [
    "# the keyword 'as' assigns the keyword 'np' to 'numpy' \n",
    "# while importing it - this makes our code shorter and more readable\n",
    "import numpy as np"
   ]
  },
  {
   "cell_type": "code",
   "execution_count": null,
   "metadata": {},
   "outputs": [],
   "source": [
    "# convert the nested list A to a NumPy array using the asarray() function\n",
    "B = np.asarray(A)\n",
    "\n",
    "# display A and B to compare\n",
    "print('Nested list:\\n {}\\n'.format(A))\n",
    "print('NumPy nD-array:\\n {}'.format(B))"
   ]
  },
  {
   "cell_type": "markdown",
   "metadata": {},
   "source": [
    "We can access elements of multi-dimensional arrays using multiple indices (one per dimension of the array):"
   ]
  },
  {
   "cell_type": "code",
   "execution_count": null,
   "metadata": {},
   "outputs": [],
   "source": [
    "print(B[1,1])"
   ]
  },
  {
   "cell_type": "markdown",
   "metadata": {},
   "source": [
    "Doesn't seem that impressive, but we can use slicing again! Thus, we can make multi-dimensional slice:"
   ]
  },
  {
   "cell_type": "code",
   "execution_count": null,
   "metadata": {},
   "outputs": [],
   "source": [
    "print(B[0:2, 0:2])  # [row, column]"
   ]
  },
  {
   "cell_type": "code",
   "execution_count": null,
   "metadata": {},
   "outputs": [],
   "source": [
    "print(B[:, 0:2])  # [row, column]"
   ]
  },
  {
   "cell_type": "code",
   "execution_count": null,
   "metadata": {},
   "outputs": [],
   "source": [
    "print(B[0:2, :])  # [row, column]"
   ]
  },
  {
   "cell_type": "markdown",
   "metadata": {},
   "source": [
    "**Important:** The order of indices is important, as you can see above!"
   ]
  },
  {
   "cell_type": "markdown",
   "metadata": {},
   "source": [
    "[top](#top)"
   ]
  },
  {
   "cell_type": "markdown",
   "metadata": {},
   "source": [
    "<a name=\"erstellen\"></a>Creating Arrays\n",
    "---"
   ]
  },
  {
   "cell_type": "markdown",
   "metadata": {},
   "source": [
    "We have seen that we can convert a container into an array using the ```asarray()``` function.\n",
    "There are a lot more functions that allow us to create arrays. Let's take a look at three quite handy ones:"
   ]
  },
  {
   "cell_type": "markdown",
   "metadata": {},
   "source": [
    "* ```arange()```: same as ```range()```, but as an array.\n",
    "* ```reshape()```: changes the form of an array.\n",
    "* ```linspace()```: similar to ```arange()```, but doesn't create integers. Instead it fills the array with a linear interpolation between start and end."
   ]
  },
  {
   "cell_type": "code",
   "execution_count": null,
   "metadata": {},
   "outputs": [],
   "source": [
    "# create a 1-d array with 16 elements\n",
    "A = np.arange(16)\n",
    "print(A)\n",
    "print(type(A))"
   ]
  },
  {
   "cell_type": "code",
   "execution_count": null,
   "metadata": {},
   "outputs": [],
   "source": [
    "# reshape A to a quadratic 2-d array\n",
    "A = A.reshape((4,4))\n",
    "print(A)\n",
    "\n",
    "# note: the number of elements has to be the same!"
   ]
  },
  {
   "cell_type": "code",
   "execution_count": null,
   "metadata": {},
   "outputs": [],
   "source": [
    "start = 0\n",
    "stop = 10\n",
    "number = 50\n",
    "\n",
    "# linspace creates a 'number' of elements, uniformly distibuted\n",
    "# between start and stop \n",
    "B = np.linspace(start, stop, number)  # (start, stop, number)\n",
    "\n",
    "print(B)"
   ]
  },
  {
   "cell_type": "markdown",
   "metadata": {},
   "source": [
    "Additionally, we can load arrays from files or save them as such:\n",
    "* ```np.loadtxt()```\n",
    "* ```np.savetxt()```"
   ]
  },
  {
   "cell_type": "code",
   "execution_count": null,
   "metadata": {},
   "outputs": [],
   "source": [
    "polygone = np.loadtxt('polygons.txt')\n",
    "print(polygone)"
   ]
  },
  {
   "cell_type": "markdown",
   "metadata": {},
   "source": [
    "If an array is so big that direct visual display is not helpful, we can find out its size by using an _attribute_ of the array-object - ```shape```:"
   ]
  },
  {
   "cell_type": "code",
   "execution_count": null,
   "metadata": {},
   "outputs": [],
   "source": [
    "print(polygone.shape)"
   ]
  },
  {
   "cell_type": "code",
   "execution_count": null,
   "metadata": {},
   "outputs": [],
   "source": [
    "# shape is a tuple, an iterable container similar to a list\n",
    "# it has two values that we can access\n",
    "height, width = polygone.shape\n",
    "\n",
    "print('Number of rows: {}'.format(height))\n",
    "print('Number of columns: {}'.format(width))"
   ]
  },
  {
   "cell_type": "markdown",
   "metadata": {},
   "source": [
    "Saving an array into a file is about as easy as loading one from a file:"
   ]
  },
  {
   "cell_type": "code",
   "execution_count": null,
   "metadata": {
    "collapsed": true
   },
   "outputs": [],
   "source": [
    "np.savetxt('array_b.txt', B)"
   ]
  },
  {
   "cell_type": "markdown",
   "metadata": {},
   "source": [
    "[top](#top)"
   ]
  },
  {
   "cell_type": "markdown",
   "metadata": {},
   "source": [
    "<a name=\"mathe\"></a>Maths on Arrays\n",
    "---"
   ]
  },
  {
   "cell_type": "markdown",
   "metadata": {},
   "source": [
    "Standard operations, like addition, subtraction, multiplication or division on arrays are interpreted _element wise_ on every element of the array:"
   ]
  },
  {
   "cell_type": "code",
   "execution_count": null,
   "metadata": {},
   "outputs": [],
   "source": [
    "A = np.arange(16).reshape((4,4))\n",
    "\n",
    "print('before:')\n",
    "print(A)\n",
    "A = A + 2\n",
    "print('\\nafter:')\n",
    "print(A)"
   ]
  },
  {
   "cell_type": "markdown",
   "metadata": {},
   "source": [
    "This does not work with normal lists!"
   ]
  },
  {
   "cell_type": "code",
   "execution_count": null,
   "metadata": {},
   "outputs": [],
   "source": [
    "a = [1, 2, 3, 4]\n",
    "a + 2"
   ]
  },
  {
   "cell_type": "markdown",
   "metadata": {},
   "source": [
    "Normal matrix-multiplication can be done by using the ```dot()``` function:"
   ]
  },
  {
   "cell_type": "code",
   "execution_count": null,
   "metadata": {},
   "outputs": [],
   "source": [
    "# create two 3x3 matrices from arrays\n",
    "A = np.asarray([[1, 2, 3], [0, 1, 0], [2, 0, 1]])\n",
    "B = np.asarray([[3, 0, 4], [0, 0, 1], [2, 2, 2]])\n",
    "\n",
    "# multiply the matrices and save the result\n",
    "C = np.dot(A, B)\n",
    "\n",
    "# check the result\n",
    "print('A:')\n",
    "print(A)\n",
    "print('\\nB:')\n",
    "print(B)\n",
    "print('\\nC:')\n",
    "print(C)"
   ]
  },
  {
   "cell_type": "markdown",
   "metadata": {},
   "source": [
    "[top](#top)"
   ]
  },
  {
   "cell_type": "markdown",
   "metadata": {},
   "source": [
    "<a name=\"filter\"></a>Filters\n",
    "---"
   ]
  },
  {
   "cell_type": "markdown",
   "metadata": {},
   "source": [
    "We can also use logical function on arrays to _filter_ them. The corresponding function is ```where()```:"
   ]
  },
  {
   "cell_type": "code",
   "execution_count": null,
   "metadata": {},
   "outputs": [],
   "source": [
    "# which of the elements is smaller than 10?\n",
    "# where returns the indices of the elements that fulfill the condtion\n",
    "np.where(C < 10)"
   ]
  },
  {
   "cell_type": "code",
   "execution_count": null,
   "metadata": {},
   "outputs": [],
   "source": [
    "# which elements in C are smaller than 10?\n",
    "C[np.where(C < 10)]"
   ]
  },
  {
   "cell_type": "code",
   "execution_count": null,
   "metadata": {},
   "outputs": [],
   "source": [
    "# filter C such that every element smaller 10\n",
    "# is set to 0 and all other to 1\n",
    "D = np.where(C < 10, 0, 1)\n",
    "print(D)"
   ]
  },
  {
   "cell_type": "markdown",
   "metadata": {},
   "source": [
    "[top](#top)"
   ]
  },
  {
   "cell_type": "markdown",
   "metadata": {},
   "source": [
    "<a name=\"uebung07\"></a>Exercies 07: Matrices\n",
    "==="
   ]
  },
  {
   "cell_type": "markdown",
   "metadata": {},
   "source": [
    "1. **Matrices**\n",
    "  1. Create a list of 100 random integers. Convert this list to a NumPy array and reshape it to a 10x10 matrix.\n",
    "  2. Save this matrix in a text file.\n",
    "  3. **(Optional)** Investigate how you can write this much shorter, using ```numpy.random.randint()```.\n",
    "  4. Set the 5x5 sub-matrices in each corner of the 10x10 matrix to different variables.\n",
    "  5. Multiply those sub-matrices and display the result.\n",
    "  6. **(Optional)** Experiment a bit using the filter function ```where()```. Which type of logical statments can be used? How about operations? Saving elemtents of two matrixes into a third one?"
   ]
  },
  {
   "cell_type": "markdown",
   "metadata": {},
   "source": [
    "[top](#top)"
   ]
  }
 ],
 "metadata": {
  "kernelspec": {
   "display_name": "Python 3",
   "language": "python",
   "name": "python3"
  },
  "language_info": {
   "codemirror_mode": {
    "name": "ipython",
    "version": 3
   },
   "file_extension": ".py",
   "mimetype": "text/x-python",
   "name": "python",
   "nbconvert_exporter": "python",
   "pygments_lexer": "ipython3",
   "version": "3.5.2"
  }
 },
 "nbformat": 4,
 "nbformat_minor": 1
}
