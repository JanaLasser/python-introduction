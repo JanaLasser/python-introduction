{
 "cells": [
  {
   "cell_type": "markdown",
   "metadata": {},
   "source": [
    "<a name=\"loesung05\"></a>Solutions exercise 05\n",
    "==="
   ]
  },
  {
   "cell_type": "code",
   "execution_count": 1,
   "metadata": {},
   "outputs": [
    {
     "name": "stdout",
     "output_type": "stream",
     "text": [
      "sum: 13\n",
      "difference: 3\n",
      "product: 40\n",
      "quotient: 1.6\n"
     ]
    }
   ],
   "source": [
    "# 1.a\n",
    "\n",
    "# Function header with arguments (name and number)\n",
    "def calculate(x, y):\n",
    "    # Function body \n",
    "    \n",
    "    # calculations\n",
    "    summ = x + y\n",
    "    difference = x - y\n",
    "    product = x * y\n",
    "    quotient = x / y\n",
    "    \n",
    "    # displaying values\n",
    "    print('sum: {}'.format(summ))\n",
    "    print('difference: {}'.format(difference))\n",
    "    print('product: {}'.format(product))\n",
    "    print('quotient: {}'.format(quotient))\n",
    "    # definition of the function ends here\n",
    "    \n",
    "# call the function with the arguments 8 -> x, 5 -> y\n",
    "calculate(8, 5)"
   ]
  },
  {
   "cell_type": "code",
   "execution_count": 2,
   "metadata": {},
   "outputs": [
    {
     "data": {
      "text/plain": [
       "55"
      ]
     },
     "execution_count": 2,
     "metadata": {},
     "output_type": "execute_result"
    }
   ],
   "source": [
    "# 1.b\n",
    "# Function header with arguments (name and number)\n",
    "def squares_sum(list):\n",
    "    \n",
    "    # we save the intermediate result in this local variable\n",
    "    summ = 0\n",
    "    \n",
    "    # iterate over all numbers in the list, we passed to the function\n",
    "    for number in list:\n",
    "        # add the square of the number to the intermediate result\n",
    "        summ  = summ + number * number\n",
    "    \n",
    "    # return the final sum to the program\n",
    "    return summ\n",
    "\n",
    "# create a list to test the function \n",
    "new_list = list(range(1,6))\n",
    "\n",
    "# test the function\n",
    "squares_sum(new_list)"
   ]
  },
  {
   "cell_type": "code",
   "execution_count": 3,
   "metadata": {},
   "outputs": [
    {
     "name": "stdout",
     "output_type": "stream",
     "text": [
      "[1, 1, 2, 2, 3, 4, 7, 10, 20]\n"
     ]
    }
   ],
   "source": [
    "# 1.c\n",
    "# Implementation of a \"Bubble Sort\" algorithm\n",
    "# (see https://en.wikipedia.org/wiki/Bubble_sort)\n",
    "\n",
    "# Function header with arguments (name and number)\n",
    "def my_sort(original_list):\n",
    "    \n",
    "    # Iterate over all numbers in the list\n",
    "    for iteration in range(len(original_list) - 1):\n",
    "        # Move each element in the original list (starting at index 0) as far down the list,\n",
    "        # until the next element is higher than itself\n",
    "        for index in range(len(original_list) - 1):\n",
    "            if original_list[index] > original_list[index + 1]:\n",
    "                temp = original_list[index]\n",
    "                original_list[index] = original_list[index + 1]\n",
    "                original_list[index + 1] = temp\n",
    "                \n",
    "test_list = [3,4,1,7, 2, 10, 2, 20, 1]\n",
    "my_sort(test_list)\n",
    "print(test_list)\n",
    "                "
   ]
  },
  {
   "cell_type": "code",
   "execution_count": 4,
   "metadata": {},
   "outputs": [
    {
     "name": "stdout",
     "output_type": "stream",
     "text": [
      "56\n",
      "6\n",
      "8\n"
     ]
    }
   ],
   "source": [
    "# 2.a & 2.b\n",
    "# define the function with 5 positional arguments\n",
    "def polynom(x, a, b, c, d):\n",
    "    return a * x**3 + b * x**2 + c * x + d\n",
    "\n",
    "# test it\n",
    "print(polynom(2,3,4,5,6))\n",
    "print(polynom(0,0,0,0,6))\n",
    "print(polynom(2,1,0,0,0))"
   ]
  },
  {
   "cell_type": "code",
   "execution_count": 5,
   "metadata": {},
   "outputs": [
    {
     "name": "stdout",
     "output_type": "stream",
     "text": [
      "4\n",
      "15\n",
      "40\n",
      "67\n",
      "72\n"
     ]
    }
   ],
   "source": [
    "# 2.c\n",
    "# define the function again, this time\n",
    "# a, b, c and d are default-arguments\n",
    "# with a default-value of 1\n",
    "def polynom(x, a=1, b=1, c=1, d=1):\n",
    "    return a * x**3 + b * x**2 + c * x + d\n",
    "\n",
    "# now we can call the function with x as the single argument\n",
    "# a, b, c and d are set to zero in this case\n",
    "print(polynom(1))\n",
    "print(polynom(2))\n",
    "print(polynom(3))\n",
    "\n",
    "# we can stil set a number of the other arguments\n",
    "# if we pass more than one argument, they will get interpeted\n",
    "# in the order of definition in the funtion (first a, then b etc.)\n",
    "print(polynom(3,2))\n",
    "\n",
    "# if we want to set only 'd', we have to specify which value we want to set\n",
    "print(polynom(3,2,d=6))"
   ]
  },
  {
   "cell_type": "code",
   "execution_count": 6,
   "metadata": {},
   "outputs": [
    {
     "name": "stdout",
     "output_type": "stream",
     "text": [
      "f(x=2) = 1*x^3 + 1*x^2 + 1*x + 1 = 15\n",
      "15\n"
     ]
    }
   ],
   "source": [
    "# 2.d\n",
    "# defining the function with one argument 'x'\n",
    "# four default arguments (a,b,c,d)\n",
    "# and one keyword argument (display)\n",
    "def polynom(x, a=1, b=1, c=1, d=1, display=None):\n",
    "    # calculate the result of the polynomial\n",
    "    result = a * x**3 + b * x**2 + c * x + d\n",
    "    \n",
    "    # test whether display exist    \n",
    "    if display:\n",
    "        # if it does, display a neat polynomial in the command line\n",
    "        print('f(x={}) = {}*x^3 + {}*x^2 + {}*x + {} = {}'\\\n",
    "             .format(x, a, b, c, d, result))\n",
    "\n",
    "    # and return the result\n",
    "    return result\n",
    "\n",
    "# test the function\n",
    "result = polynom(2,display=True)\n",
    "result = polynom(2)\n",
    "print(result)"
   ]
  }
 ],
 "metadata": {
  "kernelspec": {
   "display_name": "Python 3",
   "language": "python",
   "name": "python3"
  },
  "language_info": {
   "codemirror_mode": {
    "name": "ipython",
    "version": 3
   },
   "file_extension": ".py",
   "mimetype": "text/x-python",
   "name": "python",
   "nbconvert_exporter": "python",
   "pygments_lexer": "ipython3",
   "version": "3.5.2"
  }
 },
 "nbformat": 4,
 "nbformat_minor": 2
}
