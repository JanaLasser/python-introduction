{
 "cells": [
  {
   "cell_type": "markdown",
   "metadata": {},
   "source": [
    "<a name=\"loesung02\"></a>Solutions exercise 02\n",
    "==="
   ]
  },
  {
   "cell_type": "code",
   "execution_count": 1,
   "metadata": {
    "collapsed": true
   },
   "outputs": [],
   "source": [
    "# 1.a\n",
    "sentence = ['I', 'want', 'to', 'go', 'home']"
   ]
  },
  {
   "cell_type": "code",
   "execution_count": 2,
   "metadata": {},
   "outputs": [
    {
     "name": "stdout",
     "output_type": "stream",
     "text": [
      "Iwanttogohome\n",
      "I want to go home \n"
     ]
    }
   ],
   "source": [
    "# 1.b\n",
    "new_string = ''\n",
    "for word in sentence:\n",
    "    new_string = new_string + word\n",
    "    \n",
    "print(new_string)\n",
    "\n",
    "# alternatively (nicer):\n",
    "new_string = ''\n",
    "for word in sentence:\n",
    "    new_string = new_string + word + ' '\n",
    "    \n",
    "print(new_string)"
   ]
  },
  {
   "cell_type": "code",
   "execution_count": 4,
   "metadata": {},
   "outputs": [
    {
     "name": "stdout",
     "output_type": "stream",
     "text": [
      "[2, 4, 6, 8, 10]\n",
      "[3, 5, 7, 9]\n",
      "[1, 2, 3]\n",
      "[8, 9, 10]\n"
     ]
    }
   ],
   "source": [
    "# 1.c\n",
    "numbers = [1,2,3,4,5,6,7,8,9,10]\n",
    "# even numbers\n",
    "print(numbers[1::2])\n",
    "\n",
    "# uneven numbers\n",
    "print(numbers[2::2])\n",
    "\n",
    "# the first three numbers\n",
    "print(numbers[0:3])\n",
    "\n",
    "# the last three numbers\n",
    "print(numbers[-3:])"
   ]
  },
  {
   "cell_type": "code",
   "execution_count": 5,
   "metadata": {},
   "outputs": [
    {
     "name": "stdout",
     "output_type": "stream",
     "text": [
      "[39, 42, 34, 35, 48]\n"
     ]
    }
   ],
   "source": [
    "# 1.d\n",
    "liste = [6, 9, 1, 2, 15]\n",
    "new_list = []\n",
    "for number in liste:\n",
    "    new_list.append(number + sum(liste))\n",
    "print(new_list)"
   ]
  },
  {
   "cell_type": "code",
   "execution_count": 7,
   "metadata": {},
   "outputs": [
    {
     "name": "stdout",
     "output_type": "stream",
     "text": [
      "[0, 42, 0, 35, 0]\n"
     ]
    }
   ],
   "source": [
    "# 1.e\n",
    "new_list[0::2] = [0] * (int(len(new_list)/2) + 1)\n",
    "print(new_list)"
   ]
  }
 ],
 "metadata": {
  "kernelspec": {
   "display_name": "Python 3",
   "language": "python",
   "name": "python3"
  },
  "language_info": {
   "codemirror_mode": {
    "name": "ipython",
    "version": 3
   },
   "file_extension": ".py",
   "mimetype": "text/x-python",
   "name": "python",
   "nbconvert_exporter": "python",
   "pygments_lexer": "ipython3",
   "version": "3.6.1"
  }
 },
 "nbformat": 4,
 "nbformat_minor": 2
}
