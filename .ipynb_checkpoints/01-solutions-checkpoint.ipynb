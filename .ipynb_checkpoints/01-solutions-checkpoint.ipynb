{
 "cells": [
  {
   "cell_type": "markdown",
   "metadata": {},
   "source": [
    "<a name=\"loesung\"></a>Solutions exercise 01\n",
    "==="
   ]
  },
  {
   "cell_type": "code",
   "execution_count": 1,
   "metadata": {},
   "outputs": [
    {
     "name": "stdout",
     "output_type": "stream",
     "text": [
      "2\n",
      "0\n",
      "12\n",
      "2.0\n",
      "256\n"
     ]
    }
   ],
   "source": [
    "# 2.a \n",
    "print(1 + 1)\n",
    "print(1 - 1)\n",
    "print(3 * 4)\n",
    "print(10 / 5)\n",
    "print(2 ** 8)"
   ]
  },
  {
   "cell_type": "code",
   "execution_count": 2,
   "metadata": {},
   "outputs": [
    {
     "name": "stdout",
     "output_type": "stream",
     "text": [
      "3\n",
      "<class 'int'>\n"
     ]
    }
   ],
   "source": [
    "# 2.b\n",
    "result = int(10 / 3)\n",
    "print(result)\n",
    "print(type(result))"
   ]
  },
  {
   "cell_type": "code",
   "execution_count": 3,
   "metadata": {},
   "outputs": [
    {
     "name": "stdout",
     "output_type": "stream",
     "text": [
      "32\n",
      "50\n"
     ]
    }
   ],
   "source": [
    "# 2.c\n",
    "result = 10 * 3 + 2\n",
    "result_2 = 10 * (3 + 2)\n",
    "\n",
    "print(result)\n",
    "print(result_2)"
   ]
  },
  {
   "cell_type": "code",
   "execution_count": 4,
   "metadata": {},
   "outputs": [
    {
     "name": "stdout",
     "output_type": "stream",
     "text": [
      "0.30000000000000004\n"
     ]
    }
   ],
   "source": [
    "# 2.d\n",
    "print(0.1 + 0.2) # not exactly 0.3!"
   ]
  },
  {
   "cell_type": "code",
   "execution_count": 10,
   "metadata": {
    "collapsed": true
   },
   "outputs": [],
   "source": [
    "# 3.a\n",
    "first_name = 'Emmy'\n",
    "last_name = 'Noether'\n",
    "quote = '''“In the judgment of the most competent living mathematicians, \n",
    "Fraulein Noether was the most significant mathematical genius \n",
    "thus far produced since the higher education of women began.”\n",
    "                                            ― Albert Einstein\n",
    "'''"
   ]
  },
  {
   "cell_type": "code",
   "execution_count": 11,
   "metadata": {
    "scrolled": true
   },
   "outputs": [
    {
     "name": "stdout",
     "output_type": "stream",
     "text": [
      "On Emmy Noether: “In the judgment of the most competent living mathematicians, \n",
      "Fraulein Noether was the most significant mathematical genius \n",
      "thus far produced since the higher education of women began.”\n",
      "                                            ― Albert Einstein\n",
      "\n"
     ]
    }
   ],
   "source": [
    "# 3.c\n",
    "print('On {} {}: {}'.format(first_name, last_name, quote))"
   ]
  }
 ],
 "metadata": {
  "kernelspec": {
   "display_name": "Python 3",
   "language": "python",
   "name": "python3"
  },
  "language_info": {
   "codemirror_mode": {
    "name": "ipython",
    "version": 3
   },
   "file_extension": ".py",
   "mimetype": "text/x-python",
   "name": "python",
   "nbconvert_exporter": "python",
   "pygments_lexer": "ipython3",
   "version": "3.6.1"
  }
 },
 "nbformat": 4,
 "nbformat_minor": 2
}
