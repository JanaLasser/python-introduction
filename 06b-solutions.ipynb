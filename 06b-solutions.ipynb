{
 "cells": [
  {
   "cell_type": "markdown",
   "metadata": {},
   "source": [
    "# Solutions Exercises 06"
   ]
  },
  {
   "cell_type": "code",
   "execution_count": 17,
   "metadata": {},
   "outputs": [
    {
     "name": "stdout",
     "output_type": "stream",
     "text": [
      "What can I lookup for you? guus\n",
      "No results for guus.\n"
     ]
    }
   ],
   "source": [
    "# Read list from file.\n",
    "f = open('email_addresses.txt')\n",
    "the_list = {}\n",
    "for line in f:\n",
    "    name_email = line.rstrip().split(' ')\n",
    "    name = name_email[0]\n",
    "    email = name_email[1]\n",
    "    the_list[name] = email\n",
    "f.close()\n",
    "\n",
    "# Lookup something for the user.\n",
    "what = input('What can I lookup for you? ')\n",
    "if what in the_list:\n",
    "    print('I found: {} -> {}'.format(what,the_list[what]))\n",
    "else:\n",
    "    print('No results for {}.'.format(what))"
   ]
  }
 ],
 "metadata": {
  "kernelspec": {
   "display_name": "Python 3",
   "language": "python",
   "name": "python3"
  },
  "language_info": {
   "codemirror_mode": {
    "name": "ipython",
    "version": 3
   },
   "file_extension": ".py",
   "mimetype": "text/x-python",
   "name": "python",
   "nbconvert_exporter": "python",
   "pygments_lexer": "ipython3",
   "version": "3.6.2"
  }
 },
 "nbformat": 4,
 "nbformat_minor": 1
}
