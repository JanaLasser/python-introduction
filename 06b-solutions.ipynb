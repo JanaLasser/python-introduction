{
 "cells": [
  {
   "cell_type": "markdown",
   "metadata": {},
   "source": [
    "# Solutions Exercises 06b"
   ]
  },
  {
   "cell_type": "code",
   "execution_count": 1,
   "metadata": {
    "collapsed": true
   },
   "outputs": [],
   "source": [
    "# 1.a\n",
    "name_email = {'G. Bertens': 'guus.bertens@whuteva.com',\n",
    "             'T. Eckstein': 'torsten.eckstein@example.com',\n",
    "             'F. Cosi': 'filippo.cosi@python.rules'}"
   ]
  },
  {
   "cell_type": "code",
   "execution_count": 2,
   "metadata": {
    "collapsed": true
   },
   "outputs": [],
   "source": [
    "# 1.b\n",
    "email_name = {}\n",
    "for name, email in name_email.items():\n",
    "    email_name[email] = name"
   ]
  },
  {
   "cell_type": "code",
   "execution_count": 3,
   "metadata": {
    "collapsed": true
   },
   "outputs": [],
   "source": [
    "# 1.c\n",
    "email_name['left@neighbours.net'] = 'L. Neighbour'\n",
    "email_name['right@neighbours.net'] = 'R. Neighbour'"
   ]
  },
  {
   "cell_type": "code",
   "execution_count": 4,
   "metadata": {
    "collapsed": false,
    "scrolled": true
   },
   "outputs": [
    {
     "name": "stdout",
     "output_type": "stream",
     "text": [
      "right@neighbours.net -> R. Neighbour\n",
      "filippo.cosi@python.rules -> F. Cosi\n",
      "guus.bertens@whuteva.com -> G. Bertens\n",
      "torsten.eckstein@example.com -> T. Eckstein\n",
      "left@neighbours.net -> L. Neighbour\n"
     ]
    }
   ],
   "source": [
    "# 1.d\n",
    "for email, name in email_name.items():\n",
    "    print('{} -> {}'.format(email,name))"
   ]
  },
  {
   "cell_type": "code",
   "execution_count": 5,
   "metadata": {
    "collapsed": true
   },
   "outputs": [],
   "source": [
    "# 2.a\n",
    "f = open('email_addresses.txt')\n",
    "addressbook = {}\n",
    "for line in f:\n",
    "    name_email = line.rstrip().split(' ')\n",
    "    name = name_email[0]\n",
    "    email = name_email[1]\n",
    "    addressbook[name] = email\n",
    "f.close()"
   ]
  },
  {
   "cell_type": "code",
   "execution_count": 6,
   "metadata": {
    "collapsed": false
   },
   "outputs": [
    {
     "name": "stdout",
     "output_type": "stream",
     "text": [
      "Guus -> guus.bertens@hiddenaddr.es\n",
      "MPIDS -> info@ds.mpg.de\n",
      "Filippo -> filippo.cosi@cantreach.it\n",
      "GAU -> info@uni-goettingen.de\n",
      "Torsten -> torsten.eckstein@doesntexist.com\n"
     ]
    }
   ],
   "source": [
    "# 2.b\n",
    "for name, email in addressbook.items():\n",
    "    print('{} -> {}'.format(name, email))"
   ]
  },
  {
   "cell_type": "code",
   "execution_count": 7,
   "metadata": {
    "collapsed": false
   },
   "outputs": [
    {
     "name": "stdout",
     "output_type": "stream",
     "text": [
      "Who can I lookup for you? Guus\n",
      "I found: Guus -> guus.bertens@hiddenaddr.es\n"
     ]
    }
   ],
   "source": [
    "# 2.c\n",
    "who = input('Who can I lookup for you? ')\n",
    "if who in addressbook:\n",
    "    print('I found: {} -> {}'.format(who,addressbook[who]))\n",
    "else:\n",
    "    print('No results for {}.'.format(who))"
   ]
  }
 ],
 "metadata": {
  "kernelspec": {
   "display_name": "Python 3",
   "language": "python",
   "name": "python3"
  },
  "language_info": {
   "codemirror_mode": {
    "name": "ipython",
    "version": 3
   },
   "file_extension": ".py",
   "mimetype": "text/x-python",
   "name": "python",
   "nbconvert_exporter": "python",
   "pygments_lexer": "ipython3",
   "version": "3.5.3"
  }
 },
 "nbformat": 4,
 "nbformat_minor": 1
}
