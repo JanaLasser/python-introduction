{
 "cells": [
  {
   "cell_type": "markdown",
   "metadata": {},
   "source": [
    "# Zeitplan"
   ]
  },
  {
   "cell_type": "markdown",
   "metadata": {},
   "source": [
    "**09:15 - 09:30**  $\\quad$ Update materials  \n",
    "**09:30 - 10:30**  $\\quad$ Exercise 04: _More Lists_  \n",
    "**10:30 - 11:00**  $\\quad$ Input: _Functions_  \n",
    "**11:00 - 11:15**  $\\quad$ Coffee break  \n",
    "**11:15 - 12:00**  $\\quad$ Exercise 05: _Functions_  \n",
    "\n",
    "**12:00 - 13:00**  $\\quad$ Lunch break  \n",
    "\n",
    "**13:00 - 13:30**  $\\quad$ Input: _Standard Libraries_   \n",
    "**13:30 - 14:30**  $\\quad$ Exercise 06: _Standard Libraries_  \n",
    "**14:30 - 14:45**  $\\quad$ Input: _Matrixes_     \n",
    "**14:45 - 15:00**  $\\quad$ Coffee break    \n",
    "**15:00 - 15:15**  $\\quad$ Input: _Plots_  \n",
    "**15:15 - 15:45**  $\\quad$ Exercise 07: _Matrixes_   \n",
    "**15:15 - 15:45**  $\\quad$ Exercise 08: _Plots_    \n",
    "**15:45 - 16:00**  $\\quad$ Input: _Examples_  \n",
    "**16:15 - 16:00**  $\\quad$ Evaluation & Feedback "
   ]
  },
  {
   "cell_type": "markdown",
   "metadata": {},
   "source": [
    "<a name=\"top\"></a>Overview: Functions\n",
    "==="
   ]
  },
  {
   "cell_type": "markdown",
   "metadata": {},
   "source": [
    "* [Functions](#funktionen)\n",
    "  * [Anatomy of a function](#anatomie)\n",
    "  * [Syntax](#syntax)\n",
    "  * [Namespaces](#namespaces)\n",
    "  * [Return values](#return)\n",
    "  * [Examples](#beispiele)\n",
    "* [Arguments](#argumente)\n",
    "  * [Positional arguments](#positional)\n",
    "  * [Default arguments](#default)\n",
    "  * [Keyword arguments](#keyword)\n",
    "  * [Advantages of functions](#vorteile)\n",
    "* [Exercies 05: Functions](#uebung05)"
   ]
  },
  {
   "cell_type": "markdown",
   "metadata": {},
   "source": [
    "**Learning Goals:** After this lecture, you\n",
    "* know why using functions is a good idea\n",
    "* can make your own functions\n",
    "* understand how you can make your functions extremely versatile using default and keyword arguments"
   ]
  },
  {
   "cell_type": "markdown",
   "metadata": {},
   "source": [
    "<a name=\"funktionen\"></a>Functions\n",
    "==="
   ]
  },
  {
   "cell_type": "markdown",
   "metadata": {},
   "source": [
    "Often we want to execute the same action multiple times in our code. Of course, we can simply copy & paste the code for that action, but this quickly gets confusing. Additionally, this can lead to very complicated code, if we need to slightly change how things get executed in every copy.           \n",
    "The way to solve this problem (in nearly every programming language) is using _functions_."
   ]
  },
  {
   "cell_type": "markdown",
   "metadata": {},
   "source": [
    "<a name=\"anatomie\"></a>Anatomy of a function\n",
    "==="
   ]
  },
  {
   "cell_type": "markdown",
   "metadata": {},
   "source": [
    "We already got to knw quite a few functions during the course until now.\n",
    "Every time we used a command followed by round brackets, such as  ```print()```, we were really using a function.\n",
    "No, let's define what a function is and how it works."
   ]
  },
  {
   "cell_type": "markdown",
   "metadata": {},
   "source": [
    "* Functions are a defined set of actions with a specific name.\n",
    "* We use a function by _calling_ it, which means writing its name, followed by round brackets.\n",
    "* Functions can take variables as _arguments_ and manipulate them.\n",
    "* Functions can _return_ variables as output to the rest of the program."
   ]
  },
  {
   "cell_type": "markdown",
   "metadata": {},
   "source": [
    "##### A simple function"
   ]
  },
  {
   "cell_type": "code",
   "execution_count": null,
   "metadata": {
    "collapsed": true
   },
   "outputs": [],
   "source": [
    "word = 'hello'\n",
    "print(word)"
   ]
  },
  {
   "cell_type": "markdown",
   "metadata": {},
   "source": [
    "* ```print``` is the name of the function\n",
    "* \"word\" is the variable we give to the function, the _argument_\n",
    "* the function then does its job: displaying the _argument_ in the command line"
   ]
  },
  {
   "cell_type": "markdown",
   "metadata": {},
   "source": [
    "##### Another example"
   ]
  },
  {
   "cell_type": "code",
   "execution_count": null,
   "metadata": {
    "collapsed": true
   },
   "outputs": [],
   "source": [
    "numbers = [1, 2, 3, 4]\n",
    "summe = sum(numbers)\n",
    "\n",
    "print(summe)"
   ]
  },
  {
   "cell_type": "markdown",
   "metadata": {},
   "source": [
    "* ```sum``` is the name of the function\n",
    "* \"numbers\" is the _argument_ we give to the function\n",
    "* this function sums all elements of the argument\n",
    "\n",
    "**IMPORTANT:** we can see that _not_ every variable can be an argument for every function - summing over a string doesn't make any sense, for example:"
   ]
  },
  {
   "cell_type": "code",
   "execution_count": null,
   "metadata": {
    "collapsed": true
   },
   "outputs": [],
   "source": [
    "sum(['a','b'])"
   ]
  },
  {
   "cell_type": "markdown",
   "metadata": {},
   "source": [
    "If the argument we gave the function does not work with the action of the function, the computer throws a **TypeError**, which tells us that the type was wrong."
   ]
  },
  {
   "cell_type": "markdown",
   "metadata": {},
   "source": [
    "[top](#top)"
   ]
  },
  {
   "cell_type": "markdown",
   "metadata": {},
   "source": [
    "<a name=\"syntax\"></a>Syntax\n",
    "---"
   ]
  },
  {
   "cell_type": "markdown",
   "metadata": {},
   "source": [
    "Until now we only used built-in Python functions, with predefined actions and arguments.\n",
    "However, we can also define and write our own functions!\n",
    "\n",
    "It is commonplace during programming to use functions for actions we need to use multiple times.\n",
    "There is no need to define everything yourself though - why would you write your own ```sum``` function for example?"
   ]
  },
  {
   "cell_type": "markdown",
   "metadata": {},
   "source": [
    "To define a new function we use the ```def``` keyword:"
   ]
  },
  {
   "cell_type": "code",
   "execution_count": null,
   "metadata": {
    "collapsed": true
   },
   "outputs": [],
   "source": [
    "# this is the header of the function\n",
    "# in which we define its name and  \n",
    "# the arguments it takes\n",
    "def my_function(argument):\n",
    "    \n",
    "    # this is the body of the function\n",
    "    # in which the actions are defined\n",
    "    cube = argument ** 3\n",
    "    print(cube)\n",
    "    \n",
    "def square(argument):\n",
    "    squar = argument ** 2\n",
    "    print(squar)\n",
    "# thus we have two functions:\n",
    "# one which takes an argument, cubes it and prints the cube\n",
    "# and one which does the same for the square"
   ]
  },
  {
   "cell_type": "code",
   "execution_count": null,
   "metadata": {
    "collapsed": true
   },
   "outputs": [],
   "source": [
    "square(10)"
   ]
  },
  {
   "cell_type": "code",
   "execution_count": null,
   "metadata": {
    "collapsed": true
   },
   "outputs": [],
   "source": [
    "my_function(10)"
   ]
  },
  {
   "cell_type": "code",
   "execution_count": null,
   "metadata": {
    "collapsed": true
   },
   "outputs": [],
   "source": [
    "my_function(3)\n",
    "blubb = 10\n",
    "my_function(blubb)"
   ]
  },
  {
   "cell_type": "markdown",
   "metadata": {},
   "source": [
    "It is important that you stick to the syntax shown here! Just as with loops and if-else statements, you need to close the control part of the function with a colon and indent the body of the function to seperate it from the normal code."
   ]
  },
  {
   "cell_type": "markdown",
   "metadata": {},
   "source": [
    "Defining a function does not produce any output, it only allows us to use the function in the code.\n",
    "To use it, we have to _call_ a function just as we did with the built-in functions"
   ]
  },
  {
   "cell_type": "code",
   "execution_count": null,
   "metadata": {
    "collapsed": true
   },
   "outputs": [],
   "source": [
    "x = 3\n",
    "# call the function we defined with x as an argument\n",
    "my_function(x)"
   ]
  },
  {
   "cell_type": "markdown",
   "metadata": {},
   "source": [
    "**Important:** executing the function does not change the value of the argument:"
   ]
  },
  {
   "cell_type": "code",
   "execution_count": null,
   "metadata": {
    "collapsed": true
   },
   "outputs": [],
   "source": [
    "# set the value of y\n",
    "y = 4\n",
    "\n",
    "# call our function with y as the argument\n",
    "my_function(y)\n",
    "\n",
    "# ceck whether the value of y changed\n",
    "print('Value of y: {}'.format(y))"
   ]
  },
  {
   "cell_type": "markdown",
   "metadata": {},
   "source": [
    "[top](#top)"
   ]
  },
  {
   "cell_type": "markdown",
   "metadata": {},
   "source": [
    "<a name=\"namespaces\"></a>Namespaces\n",
    "---"
   ]
  },
  {
   "cell_type": "markdown",
   "metadata": {},
   "source": [
    "**IMPORTANT:** within the function we defined the variable 'cube'. This variable is only defined _locally_ and thus not known to the program in general! Let's check this:"
   ]
  },
  {
   "cell_type": "code",
   "execution_count": null,
   "metadata": {
    "collapsed": true
   },
   "outputs": [],
   "source": [
    "# the function is here as a reminder, since it is already defined from the code above\n",
    "a = 10\n",
    "\n",
    "def my_function(argument):\n",
    "    cube = argument ** 3\n",
    "    print(cube)\n",
    "    print('a: {}'.format(a))\n",
    "\n",
    "my_function(4)"
   ]
  },
  {
   "cell_type": "markdown",
   "metadata": {},
   "source": [
    "We call the code within the function its _body_. All variables defined _within_ a function body are in the function's namespace, and are known **only** within the function, not outside of it.\n",
    "\n",
    "Python knows different namespaces:\n",
    "* the global namespace, which is known everywhere\n",
    "* the namespace of functions\n",
    "\n",
    "The arguments we define for a function are also known within it (and with exactly the name we defined them as). So, in my_function the variable 'argument' is known and we can use it in its body."
   ]
  },
  {
   "cell_type": "markdown",
   "metadata": {},
   "source": [
    "[top](#top)"
   ]
  },
  {
   "cell_type": "markdown",
   "metadata": {},
   "source": [
    "<a name=\"return\"></a>Return values\n",
    "---"
   ]
  },
  {
   "cell_type": "markdown",
   "metadata": {},
   "source": [
    "Sometimes we might want to use a variable from within the function outside of it. This basically means moving the variable from the function namespace to the global one. The normal way to do this is by using a _return value_, which we can do by using the ```return``` keyword:"
   ]
  },
  {
   "cell_type": "code",
   "execution_count": null,
   "metadata": {
    "collapsed": true
   },
   "outputs": [],
   "source": [
    "# we slightly changed the function from before\n",
    "# instead of displaying cube in the command line,\n",
    "# it now returns the vaule of cube to the code\n",
    "def my_function(argument):\n",
    "    cube = argument ** 3\n",
    "    \n",
    "    # here, we return cube\n",
    "    return cube"
   ]
  },
  {
   "cell_type": "markdown",
   "metadata": {},
   "source": [
    "As before, we have to call the function, to test it:"
   ]
  },
  {
   "cell_type": "code",
   "execution_count": null,
   "metadata": {
    "collapsed": true
   },
   "outputs": [],
   "source": [
    "# define a variable\n",
    "x = 10\n",
    "\n",
    "# pass the variable to a function,\n",
    "# and save its return value in a variable\n",
    "what_we_got_back = my_function(x)\n",
    "\n",
    "# check the result\n",
    "print(what_we_got_back)"
   ]
  },
  {
   "cell_type": "markdown",
   "metadata": {},
   "source": [
    "[top](#top)"
   ]
  },
  {
   "cell_type": "markdown",
   "metadata": {},
   "source": [
    "<a name=\"beispiele\"></a>Examples\n",
    "---"
   ]
  },
  {
   "cell_type": "markdown",
   "metadata": {},
   "source": [
    "Here are some more examples to illustrate the use of functions:"
   ]
  },
  {
   "cell_type": "code",
   "execution_count": null,
   "metadata": {
    "collapsed": true
   },
   "outputs": [],
   "source": [
    "# a simple polynomial\n",
    "def f(x):\n",
    "    # note: we also can return the result\n",
    "    # directly, without saving it to a \n",
    "    # variable first\n",
    "    result = 2 * x**2 + 4 * x + 10\n",
    "    return result\n",
    "\n",
    "x = 10\n",
    "calculate = f(x)\n",
    "\n",
    "print(calculate)"
   ]
  },
  {
   "cell_type": "code",
   "execution_count": null,
   "metadata": {
    "collapsed": true
   },
   "outputs": [],
   "source": [
    "# a function that could write emails\n",
    "def print_greeting(person):\n",
    "\n",
    "    # we can return any value; it doesn't need to be in\n",
    "    # a variable first.\n",
    "    return 'Dear Prof {},\\nI would like to do a PhD with you.\\n'\\\n",
    "          .format(person)\n",
    "    \n",
    "email_body = 'very convincing text'    \n",
    "    \n",
    "statement1 = print_greeting('Bodenschatz') + email_body\n",
    "statement2 = print_greeting('Tilgner')\n",
    "statement3 = print_greeting('Grubmueller')\n",
    "    "
   ]
  },
  {
   "cell_type": "code",
   "execution_count": null,
   "metadata": {
    "collapsed": true
   },
   "outputs": [],
   "source": [
    "print(statement1)\n",
    "print(statement2)\n",
    "print(statement3)"
   ]
  },
  {
   "cell_type": "code",
   "execution_count": null,
   "metadata": {
    "collapsed": true
   },
   "outputs": [],
   "source": [
    "# a function, which prints a help text\n",
    "def print_help():\n",
    "    \n",
    "    # note: the function does not have an argument\n",
    "    print('''*** important keyboard shortcuts: ***\n",
    "             edit mode - ENTER\n",
    "             command mode - ESC\n",
    "             cell to markdown - m\n",
    "             cell to code - y''')\n",
    "    \n",
    "print_help()"
   ]
  },
  {
   "cell_type": "markdown",
   "metadata": {},
   "source": [
    "[top](#top)"
   ]
  },
  {
   "cell_type": "markdown",
   "metadata": {},
   "source": [
    "<a name=\"Argumente\"></a>Arguments\n",
    "==="
   ]
  },
  {
   "cell_type": "markdown",
   "metadata": {},
   "source": [
    "So far we have passed one or zero arguments to each function we used. \n",
    "Of course, we can use more arguments than just one - in fact, there is no limit to the number we can use!"
   ]
  },
  {
   "cell_type": "code",
   "execution_count": null,
   "metadata": {
    "collapsed": true
   },
   "outputs": [],
   "source": [
    "# a function with two arguments\n",
    "def lunch(main, side):\n",
    "    \n",
    "    # this function only prints a message    \n",
    "    print('today for lunch there is {} with {} as a side'\\\n",
    "          .format(main, side))\n",
    "    \n"
   ]
  },
  {
   "cell_type": "code",
   "execution_count": null,
   "metadata": {
    "collapsed": true
   },
   "outputs": [],
   "source": [
    "lunch('schnitzel','potatoes')\n",
    "lunch('curry','rice')\n",
    "\n",
    "# this function does accept numbers as arguments\n",
    "# the result doesn't make a lot of sense though...\n",
    "lunch(3, 'apple')"
   ]
  },
  {
   "cell_type": "code",
   "execution_count": null,
   "metadata": {
    "collapsed": true
   },
   "outputs": [],
   "source": [
    "lunch('potatoes','schnitzel')"
   ]
  },
  {
   "cell_type": "markdown",
   "metadata": {},
   "source": [
    "<a name=\"positional\"></a>Positional arguments\n",
    "---"
   ]
  },
  {
   "cell_type": "markdown",
   "metadata": {},
   "source": [
    "If we pass more than one argument to a function, the order of arguments is very important! The function will interpret the arguments in the order they are defined in its header:"
   ]
  },
  {
   "cell_type": "code",
   "execution_count": null,
   "metadata": {
    "collapsed": true
   },
   "outputs": [],
   "source": [
    "lunch('rice', 'schnitzel')"
   ]
  },
  {
   "cell_type": "code",
   "execution_count": null,
   "metadata": {
    "collapsed": true
   },
   "outputs": [],
   "source": [
    "# This function takes name, surname and age of a person\n",
    "# and then prints a short description of the person.\n",
    "def describe_person(first_name, surname, age):\n",
    "\n",
    "    # Note: title() makes a string begin with a capital letter\n",
    "    print(\"First name: {}\".format(first_name.title()))\n",
    "    print(\"Surname: {}\".format(surname.title()))\n",
    "    print(\"Age: {}\\n\".format(age))\n",
    "\n",
    "describe_person('jana', 'lasser', 26)\n",
    "describe_person('nina', 'merz', 32)\n",
    "describe_person('simon', 'mueller', 68)"
   ]
  },
  {
   "cell_type": "markdown",
   "metadata": {},
   "source": [
    "When we call the function, the arguments get assigned to the varibles according to their order:\n",
    "* position 1 $\\rightarrow$ first_name\n",
    "* position 2 $\\rightarrow$ surname\n",
    "* position 3 $\\rightarrow$ age"
   ]
  },
  {
   "cell_type": "markdown",
   "metadata": {},
   "source": [
    "Thus, if we pass (jana, lasser, 26) to the function, the result we get is right:\n",
    "* First name: Jana\n",
    "* Surname: Lasser\n",
    "* Age: 26"
   ]
  },
  {
   "cell_type": "markdown",
   "metadata": {},
   "source": [
    "However, if we pass (lasser, jana, 26) instead, we get a wrong result:\n",
    "* First name: Lasser\n",
    "* Surname: Jana\n",
    "* Age: 26"
   ]
  },
  {
   "cell_type": "markdown",
   "metadata": {},
   "source": [
    "It gets even worse, if we pass the wrong type of variable, since not all actions of the function have to make sense for each type of variable:"
   ]
  },
  {
   "cell_type": "code",
   "execution_count": null,
   "metadata": {
    "collapsed": true
   },
   "outputs": [],
   "source": [
    "describe_person(26, 'jana', 'lasser')"
   ]
  },
  {
   "cell_type": "markdown",
   "metadata": {},
   "source": [
    "[top](#top)"
   ]
  },
  {
   "cell_type": "markdown",
   "metadata": {},
   "source": [
    "<a name=\"default\"></a>Default arguments\n",
    "---"
   ]
  },
  {
   "cell_type": "markdown",
   "metadata": {},
   "source": [
    "Sometimes, we want to write a function, which we do not _need_ to pass an argument to, but _can_.\n",
    "For example, we might want to execute a type of default action, unless we specify something else. To do this, we can define _default values_:"
   ]
  },
  {
   "cell_type": "code",
   "execution_count": null,
   "metadata": {
    "collapsed": true
   },
   "outputs": [],
   "source": [
    "# This function displays a message to \"name\"\n",
    "# if \"name\" is given, if not, the message is\n",
    "# addressed to 'everyone' instead (default case)\n",
    "def thank_you(name='everyone'):\n",
    "    print(\"\\nYou are doing good work, {}!\".format(name))\n",
    "    \n",
    "thank_you('Bianca')\n",
    "thank_you('Katrin')\n",
    "thank_you()"
   ]
  },
  {
   "cell_type": "markdown",
   "metadata": {},
   "source": [
    "Of course we can mix positional arguments and default values.\n",
    "\n",
    "**IMPORTANT:** in the header, positional arguments without default values go **before** positional arguments with default values!"
   ]
  },
  {
   "cell_type": "code",
   "execution_count": null,
   "metadata": {
    "collapsed": true
   },
   "outputs": [],
   "source": [
    "# a function, which expontianites an argument\n",
    "# if no exponent is given, two is used as a default\n",
    "def power(base, exponent=2):\n",
    "    return base ** exponent\n",
    "\n",
    "# we pass both base and exponent\n",
    "print(power(2,4))\n",
    "\n",
    "# we pass only the base, 2 is used for the exponent automatically\n",
    "print(power(2))\n",
    "\n",
    "result = (power(2,8) + 3)*4\n",
    "print(result)"
   ]
  },
  {
   "cell_type": "code",
   "execution_count": null,
   "metadata": {
    "collapsed": true
   },
   "outputs": [],
   "source": [
    "power()"
   ]
  },
  {
   "cell_type": "markdown",
   "metadata": {},
   "source": [
    "#####  Excursus: None"
   ]
  },
  {
   "cell_type": "markdown",
   "metadata": {},
   "source": [
    "In nearly every programming language, there is a value, which represents 'nothing'. This value is neither 0 nor **False**. It is neither a number, nor a boolean value, but a special object representing 'nothing'.\n",
    "\n",
    "In Python this value is **none**. It is used if something explicitly _is not defined_. Be aware, that the thruth value of **none** is **False**, while every other object (number, string, list) has a truth value of **True**. This allows us to easily check the existence of something."
   ]
  },
  {
   "cell_type": "markdown",
   "metadata": {},
   "source": [
    "[top](#top)"
   ]
  },
  {
   "cell_type": "markdown",
   "metadata": {},
   "source": [
    "<a name=\"keyword\"></a>Keyword arguments\n",
    "---"
   ]
  },
  {
   "cell_type": "markdown",
   "metadata": {},
   "source": [
    "We've just seen _positional arguments_.  They are called _positional_, because their position matters.  To see this, consider that the first argument in a function call, goes in the first variable in the function header.  The second argument in a call, goes in the second variable in the header, and so on.\n",
    "\n",
    "There is another type of argument: _keyword arguments_. Keyword arguments are called that way, because they explicitly specify to what variable they belong. Keyword arguments are often given default values (which can also be **none**), which means that if you call a function, you only need to use those keyword arguments that you want to use.\n",
    "\n",
    "One example of using keyword-arguments is allowing to use more information, without requiring it. \n",
    "Let's say we want to augment our describe_person function to allow for mother tongue, age and day of death. However, we don't want to use all of these possibilities all the time, so we use keyword-arguments:"
   ]
  },
  {
   "cell_type": "code",
   "execution_count": null,
   "metadata": {
    "collapsed": true
   },
   "outputs": [],
   "source": [
    "# Function header with positional and keyword-arguments\n",
    "def describe_person(first_name, surname, age=None, \\\n",
    "                    mother_tongue=None, date_of_death=None):\n",
    "    \n",
    "    # this part is not optional\n",
    "    print(\"First name: {}\".format(first_name))\n",
    "    print(\"Surname: {}\".format(surname))\n",
    "    \n",
    "    # optional information:\n",
    "    if age:\n",
    "        print(\"Age: {}\".format(age))\n",
    "    if mother_tongue:\n",
    "        print(\"Mother tonuge: {}\".format(mother_tongue))\n",
    "    if date_of_death:\n",
    "        print(\"Date of death: {}\".format(date_of_death))\n",
    "        \n",
    "    # add an empty line at the end.\n",
    "    print(\"\")\n",
    "\n",
    "describe_person('torsten', 'eckstein')\n",
    "describe_person('jana', 'lasser', mother_tongue='German')\n",
    "describe_person('adele', 'goldberg', age=68, mother_tongue='Hebrew')\n",
    "describe_person('michael', 'jackson', mother_tongue='English', date_of_death=2009)"
   ]
  },
  {
   "cell_type": "markdown",
   "metadata": {},
   "source": [
    "[top](#top)"
   ]
  },
  {
   "cell_type": "markdown",
   "metadata": {},
   "source": [
    "<a name=\"vorteile\"></a>Advantages of functions\n",
    "---"
   ]
  },
  {
   "cell_type": "markdown",
   "metadata": {},
   "source": [
    "The approach of structuring programs by using functions is called _procedural programming_. It is a style of writing code (called _programming paradigm_) just like _object-oriented programming_. \n",
    "\n",
    "Advantages of procedural programming:\n",
    "* Instructions are written only once, packaged into a function and then can get reused, wherever they are needed $\\rightarrow$ this saves time.\n",
    "* Having all instructions in one place makes it easier to write error free code.\n",
    "* Changes have only to be implemented in one place and work in the entire code.\n",
    "* Functions can make the code simpler and easier to read - important aspects!"
   ]
  },
  {
   "cell_type": "markdown",
   "metadata": {},
   "source": [
    "[top](#top)"
   ]
  },
  {
   "cell_type": "markdown",
   "metadata": {},
   "source": [
    "<a name=\"uebung05\"></a>Exercise 05: Functions\n",
    "==="
   ]
  },
  {
   "cell_type": "markdown",
   "metadata": {},
   "source": [
    "1. **Functions**\n",
    "  1. Write a function that accepts two numbers as arguments and displays their sum, difference, product, and quotient to the command line.\n",
    "  2. Write a function that accepts a list of numbers as an argument and returns the sum of the squares of the numbers in the list.\n",
    "  3. **(Optional)** Write a function that accepts a list of numbers as an argument, then sorts and returns the list (don't use ```sort()```, that'd be boring)\n",
    "2. **Arguments**\n",
    "  1. Write a function, which accepts five arguments (x, a, b, c, d), calulates the polynomial \n",
    "  $f(x) = ax^3 + bx^2 + cx + d$  \n",
    "  with them and returns the value of $f$.\n",
    "  2. Experiment with the function and try different polynomials.\n",
    "  3. Modify the function so that the arguments a, b, c have default values.\n",
    "  4. **(Optional)** add a keyword argument \"display\" to the function.\n",
    "    * If display = False the function acts as before.\n",
    "    * If display = True the function displays the values of the coefficients neatly in the command line."
   ]
  },
  {
   "cell_type": "markdown",
   "metadata": {},
   "source": [
    "[top](#top)"
   ]
  }
 ],
 "metadata": {
  "kernelspec": {
   "display_name": "Python 3",
   "language": "python",
   "name": "python3"
  },
  "language_info": {
   "codemirror_mode": {
    "name": "ipython",
    "version": 3
   },
   "file_extension": ".py",
   "mimetype": "text/x-python",
   "name": "python",
   "nbconvert_exporter": "python",
   "pygments_lexer": "ipython3",
   "version": "3.5.2"
  }
 },
 "nbformat": 4,
 "nbformat_minor": 1
}
