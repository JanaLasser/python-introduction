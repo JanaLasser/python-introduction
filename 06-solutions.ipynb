{
 "cells": [
  {
   "cell_type": "markdown",
   "metadata": {},
   "source": [
    "<a name=\"loesung06\"></a>Lösung Übung 06\n",
    "==="
   ]
  },
  {
   "cell_type": "code",
   "execution_count": 5,
   "metadata": {},
   "outputs": [
    {
     "name": "stdout",
     "output_type": "stream",
     "text": [
      "pi in degrees is 180.0\n",
      "pi / 2 in degrees is 90.0\n",
      "2*pi in degrees is 360.0\n"
     ]
    }
   ],
   "source": [
    "# 1.a for the documentation see\n",
    "# https://docs.python.org/2/library/math.html#angular-conversion\n",
    "import math\n",
    "pi = math.pi\n",
    "print('pi in degrees is {}'.format(math.degrees(pi)))\n",
    "print('pi / 2 in degrees is {}'.format(math.degrees(pi/2)))\n",
    "print('2*pi in degrees is {}'.format(math.degrees(2*pi)))"
   ]
  },
  {
   "cell_type": "code",
   "execution_count": 6,
   "metadata": {
    "collapsed": true
   },
   "outputs": [],
   "source": [
    "# 1.b\n",
    "A = [0,0]\n",
    "B = [3,0]\n",
    "C = [4,2]\n",
    "\n",
    "# point1 and point2 are lists containting \n",
    "# the x- and y- coordinates\n",
    "def distance(point1, point2):\n",
    "    # save the x- and y- coordinates seperatly\n",
    "    x1 = point1[0]\n",
    "    y1 = point1[1]\n",
    "    x2 = point2[0]\n",
    "    y2 = point2[1]\n",
    "    \n",
    "    # calculate the distance between the points\n",
    "    distance = math.sqrt((x1 - x2)**2 + (y1 - y2)**2)\n",
    "    \n",
    "    # return the value\n",
    "    return distance"
   ]
  },
  {
   "cell_type": "code",
   "execution_count": 7,
   "metadata": {},
   "outputs": [
    {
     "name": "stdout",
     "output_type": "stream",
     "text": [
      "distance between B and C is 2.23606797749979\n",
      "distance between A and C is 4.47213595499958\n",
      "distance between A and B is 3.0\n"
     ]
    }
   ],
   "source": [
    "# 1.c\n",
    "\n",
    "# calculate the three distances using the function\n",
    "a = distance(B,C)\n",
    "b = distance(A,C)\n",
    "c = distance(A,B)\n",
    "\n",
    "# display the results\n",
    "print('distance between B and C is {}'.format(a))\n",
    "print('distance between A and C is {}'.format(b))\n",
    "print('distance between A and B is {}'.format(c))"
   ]
  },
  {
   "cell_type": "code",
   "execution_count": 8,
   "metadata": {},
   "outputs": [
    {
     "name": "stdout",
     "output_type": "stream",
     "text": [
      "alpha = 26.56505117707798, beta = 116.56505117707802, gamma = 36.86989764584401\n",
      "check sum of angles: 180.00000000000003\n"
     ]
    }
   ],
   "source": [
    "# 1.d\n",
    "def calculate_alpha(a, b, c):\n",
    "    cos = (b**2 + c**2 - a**2)/(2*b*c)\n",
    "    alpha = math.degrees(math.acos(cos))\n",
    "    return alpha\n",
    "\n",
    "def calculate_beta(a, b, c):\n",
    "    cos = (a**2 + c**2 - b**2)/(2*a*c)\n",
    "    beta = math.degrees(math.acos(cos))\n",
    "    return beta\n",
    "\n",
    "def calculate_gamma(a, b, c):\n",
    "    cos = (a**2 + b**2 - c**2)/(2*a*b)\n",
    "    gamma = math.degrees(math.acos(cos))\n",
    "    return gamma\n",
    "\n",
    "alpha = calculate_alpha(a, b, c)\n",
    "beta = calculate_beta(a, b, c)\n",
    "gamma = calculate_gamma(a, b, c)\n",
    "\n",
    "print('alpha = {}, beta = {}, gamma = {}'.format(alpha, beta, gamma))\n",
    "print('check sum of angles: {}'.format(alpha + beta + gamma))"
   ]
  },
  {
   "cell_type": "code",
   "execution_count": 2,
   "metadata": {},
   "outputs": [
    {
     "ename": "FileExistsError",
     "evalue": "[Errno 17] File exists: 'Exercise-06'",
     "output_type": "error",
     "traceback": [
      "\u001b[0;31m---------------------------------------------------------------------------\u001b[0m",
      "\u001b[0;31mFileExistsError\u001b[0m                           Traceback (most recent call last)",
      "\u001b[0;32m<ipython-input-2-d55a19b14a74>\u001b[0m in \u001b[0;36m<module>\u001b[0;34m()\u001b[0m\n\u001b[1;32m      3\u001b[0m \u001b[0;32mfrom\u001b[0m \u001b[0mos\u001b[0m\u001b[0;34m.\u001b[0m\u001b[0mpath\u001b[0m \u001b[0;32mimport\u001b[0m \u001b[0mjoin\u001b[0m\u001b[0;34m\u001b[0m\u001b[0m\n\u001b[1;32m      4\u001b[0m \u001b[0mfolder_name\u001b[0m \u001b[0;34m=\u001b[0m \u001b[0;34m'Exercise-06'\u001b[0m\u001b[0;34m\u001b[0m\u001b[0m\n\u001b[0;32m----> 5\u001b[0;31m \u001b[0mos\u001b[0m\u001b[0;34m.\u001b[0m\u001b[0mmkdir\u001b[0m\u001b[0;34m(\u001b[0m\u001b[0mfolder_name\u001b[0m\u001b[0;34m)\u001b[0m\u001b[0;34m\u001b[0m\u001b[0m\n\u001b[0m",
      "\u001b[0;31mFileExistsError\u001b[0m: [Errno 17] File exists: 'Exercise-06'"
     ]
    }
   ],
   "source": [
    "# 2.a\n",
    "import os\n",
    "from os.path import join\n",
    "folder_name = 'Exercise-06'\n",
    "os.mkdir(folder_name)"
   ]
  },
  {
   "cell_type": "code",
   "execution_count": 11,
   "metadata": {},
   "outputs": [
    {
     "name": "stdout",
     "output_type": "stream",
     "text": [
      "/Users/eckstein/Documents/Python_course/New_Python_Introduction/Exercise-06\n"
     ]
    }
   ],
   "source": [
    "# 2.b\n",
    "current_directory = os.getcwd()\n",
    "path = join(current_directory, folder_name)\n",
    "print(path)"
   ]
  },
  {
   "cell_type": "code",
   "execution_count": 12,
   "metadata": {
    "collapsed": true
   },
   "outputs": [],
   "source": [
    "# 2.c\n",
    "for i in range(5):\n",
    "    file_name = 'datei_{}.txt'.format(i)\n",
    "    open(join(path,file_name), 'w')\n",
    "    file_name = 'datei_{}.csv'.format(i)\n",
    "    open(join(path,file_name), 'w')"
   ]
  },
  {
   "cell_type": "code",
   "execution_count": 13,
   "metadata": {},
   "outputs": [
    {
     "name": "stdout",
     "output_type": "stream",
     "text": [
      "renaming file datei_0.csv to renamed_0.csv\n",
      "renaming file datei_0.txt to renamed_0.txt\n",
      "renaming file datei_1.csv to renamed_1.csv\n",
      "renaming file datei_1.txt to renamed_1.txt\n",
      "renaming file datei_2.csv to renamed_2.csv\n",
      "renaming file datei_2.txt to renamed_2.txt\n",
      "renaming file datei_3.csv to renamed_3.csv\n",
      "renaming file datei_3.txt to renamed_3.txt\n",
      "renaming file datei_4.csv to renamed_4.csv\n",
      "renaming file datei_4.txt to renamed_4.txt\n"
     ]
    }
   ],
   "source": [
    "# 2.d\n",
    "# create a list of the files contained in the folder\n",
    "files = os.listdir(path)\n",
    "# sort the list alphabetically (not guaranteed to be done from the start)\n",
    "files.sort()\n",
    "\n",
    "# create two temporal varibles to track file names\n",
    "i = 0\n",
    "j = 0\n",
    "\n",
    "# iterate over all files in the folder\n",
    "for file in files:\n",
    "    # case for a .txt file\n",
    "    if file.endswith('.txt'):\n",
    "        # create a new file name\n",
    "        new_name = 'renamed_{}.txt'.format(i)\n",
    "        print('renaming file {} to {}'.format(file, new_name))\n",
    "        # rename the file using rename(old_path, new_path)\n",
    "        os.rename(join(path, file), join(path, new_name))\n",
    "        # increase the temporary variable i by one\n",
    "        i = i + 1\n",
    "    # case for a .csv file\n",
    "    elif file.endswith('.csv'):\n",
    "        new_name = 'renamed_{}.csv'.format(j)\n",
    "        print('renaming file {} to {}'.format(file, new_name))\n",
    "        os.rename(join(path, file), join(path, new_name))\n",
    "        j = j + 1\n",
    "    # case for a different type of file\n",
    "    else:\n",
    "        print('found a different file: {}'.format(file))\n",
    "    "
   ]
  },
  {
   "cell_type": "code",
   "execution_count": 14,
   "metadata": {},
   "outputs": [
    {
     "name": "stdout",
     "output_type": "stream",
     "text": [
      "creating folder june-01\n",
      "week_start 1\n",
      "week_end 8\n",
      "creating file 2017-06-1.txt in folder june-01\n",
      "creating file 2017-06-2.txt in folder june-01\n",
      "creating file 2017-06-3.txt in folder june-01\n",
      "creating file 2017-06-4.txt in folder june-01\n",
      "creating file 2017-06-5.txt in folder june-01\n",
      "creating file 2017-06-6.txt in folder june-01\n",
      "creating file 2017-06-7.txt in folder june-01\n",
      "creating folder june-02\n",
      "week_start 8\n",
      "week_end 15\n",
      "creating file 2017-06-8.txt in folder june-02\n",
      "creating file 2017-06-9.txt in folder june-02\n",
      "creating file 2017-06-10.txt in folder june-02\n",
      "creating file 2017-06-11.txt in folder june-02\n",
      "creating file 2017-06-12.txt in folder june-02\n",
      "creating file 2017-06-13.txt in folder june-02\n",
      "creating file 2017-06-14.txt in folder june-02\n",
      "creating folder june-03\n",
      "week_start 15\n",
      "week_end 22\n",
      "creating file 2017-06-15.txt in folder june-03\n",
      "creating file 2017-06-16.txt in folder june-03\n",
      "creating file 2017-06-17.txt in folder june-03\n",
      "creating file 2017-06-18.txt in folder june-03\n",
      "creating file 2017-06-19.txt in folder june-03\n",
      "creating file 2017-06-20.txt in folder june-03\n",
      "creating file 2017-06-21.txt in folder june-03\n",
      "creating folder june-04\n",
      "week_start 22\n",
      "week_end 29\n",
      "creating file 2017-06-22.txt in folder june-04\n",
      "creating file 2017-06-23.txt in folder june-04\n",
      "creating file 2017-06-24.txt in folder june-04\n",
      "creating file 2017-06-25.txt in folder june-04\n",
      "creating file 2017-06-26.txt in folder june-04\n",
      "creating file 2017-06-27.txt in folder june-04\n",
      "creating file 2017-06-28.txt in folder june-04\n"
     ]
    }
   ],
   "source": [
    "# 3.e\n",
    "\n",
    "# Iteration over four weeks\n",
    "for i in range(4):\n",
    "    # name for the week folder\n",
    "    folder_name = 'june-0{}'.format(i + 1)\n",
    "    # path to the new folder\n",
    "    working_directory = os.getcwd()\n",
    "    path = join(working_directory, folder_name)\n",
    "    print('creating folder {}'.format(folder_name))\n",
    "    \n",
    "    # create the folder only if it does not exist yet\n",
    "    # see documentation\n",
    "    # https://docs.python.org/3/tutorial/errors.html\n",
    "    # for an explanation of error handling in python \n",
    "    try:\n",
    "        os.mkdir(path)\n",
    "    except FileExistsError:\n",
    "        pass\n",
    "    \n",
    "    # calculate start and end of the current week in days\n",
    "    week_start = i * 7 + 1\n",
    "    print('week_start {}'.format(week_start))\n",
    "    week_end = (i + 1) * 7 + 1\n",
    "    print('week_end {}'.format(week_end))\n",
    "    \n",
    "    # iterate over the 7 days of the week\n",
    "    for j in range(week_start, week_end):\n",
    "        # name for the new file\n",
    "        file_name = '2017-06-{}.txt'.format(j)\n",
    "        print('creating file {} in folder {}'\\\n",
    "              .format(file_name, folder_name))\n",
    "        # create the file in the current folder\n",
    "        open(join(path, file_name),'w')\n",
    "    "
   ]
  },
  {
   "cell_type": "code",
   "execution_count": 67,
   "metadata": {
    "collapsed": true
   },
   "outputs": [],
   "source": [
    "# 3.f\n",
    "# Documentation for writing to and reading from files:\n",
    "# https://docs.python.org/3/tutorial/inputoutput.html\n",
    "test_file = open('testdatei.txt', 'w')\n",
    "test_file.write('test-text')\n",
    "test_file.close()"
   ]
  },
  {
   "cell_type": "code",
   "execution_count": 3,
   "metadata": {},
   "outputs": [],
   "source": [
    "# 3.g\n",
    "\n",
    "# List of the weekdays we want to write to text\n",
    "weekdays = ['monday', 'tuesday', 'wednesday', 'thursday',\\\n",
    "             'friday', 'saturday', 'sunday']\n",
    "\n",
    "# iterate over the 4 weeks\n",
    "for i in range(4):\n",
    "    # path to the week folder\n",
    "    folder_name = 'june-0{}'.format(i + 1)\n",
    "    working_directory = os.getcwd()\n",
    "    path = join(working_directory, folder_name)\n",
    "    \n",
    "    # list of the files in the current directory\n",
    "    files = os.listdir(path)\n",
    "    # sort the list alphabetically ascending\n",
    "    files.sort()\n",
    "    # if the first file is a hidden file, cut him from the list using a slice\n",
    "    files = files[1:]\n",
    "    # iteriere über die 7 Tage der aktuellen Woche\n",
    "    for index, file in enumerate(files):\n",
    "        if file.endswith('.txt'):\n",
    "            file = open(join(path, file), 'w')\n",
    "            file.write(weekdays[index])\n",
    "            file.close()\n",
    "    "
   ]
  },
  {
   "cell_type": "code",
   "execution_count": 4,
   "metadata": {},
   "outputs": [
    {
     "name": "stdout",
     "output_type": "stream",
     "text": [
      "[2, 10, 9, 10, 10, 7, 2, 11]\n"
     ]
    }
   ],
   "source": [
    "# 3.a\n",
    "import random\n",
    "\n",
    "# random length of the list\n",
    "length = random.randint(5,11)\n",
    "\n",
    "# create a list of length 'length' with random integers in range 0 to 10 using list comprehension\n",
    "numbers = [random.randint(0,11) for i in range(length)]\n",
    "print(numbers)"
   ]
  },
  {
   "cell_type": "code",
   "execution_count": 5,
   "metadata": {},
   "outputs": [
    {
     "name": "stdout",
     "output_type": "stream",
     "text": [
      "[10, 9, 7, 10, 2, 11, 2, 10]\n"
     ]
    }
   ],
   "source": [
    "# 3.b \n",
    "# Documentation for 'shuffle'\n",
    "# https://docs.python.org/3/library/random.html\n",
    "\n",
    "# important: shuffle operates \"in place\", and thus has no return value\n",
    "# but rather changes the given list directly\n",
    "random.shuffle(numbers)\n",
    "print(numbers)"
   ]
  },
  {
   "cell_type": "code",
   "execution_count": 6,
   "metadata": {
    "collapsed": true
   },
   "outputs": [],
   "source": [
    "# 3.c \n",
    "\n",
    "# definition of a comparision function\n",
    "def compare(original):\n",
    "    # create a copy of the list given\n",
    "    copy = original[:]\n",
    "    \n",
    "    # shuffle the copy\n",
    "    random.shuffle(copy)\n",
    "    \n",
    "    # cases: if copy and original are the same\n",
    "    # (comparison: copy == original), return True\n",
    "    if copy == original:\n",
    "        return True\n",
    "    # else False\n",
    "    else:\n",
    "        return False"
   ]
  },
  {
   "cell_type": "code",
   "execution_count": 7,
   "metadata": {},
   "outputs": [
    {
     "name": "stdout",
     "output_type": "stream",
     "text": [
      "Lists are the same after iteration 9\n"
     ]
    }
   ],
   "source": [
    "# 3.d\n",
    "# number of iterations\n",
    "N = 100\n",
    "\n",
    "# \"cut\" the list, to test different lengths\n",
    "numbers = numbers[0:4]\n",
    "\n",
    "# shuffle the list N times and compare with the original each time\n",
    "for i in range(N):\n",
    "    \n",
    "    # if compare returns True\n",
    "    if compare(numbers):\n",
    "        # display a message with the current iteration number\n",
    "        print('Lists are the same after iteration {}'.format(i))\n",
    "        \n",
    "        # and leave the for loop\n",
    "        break"
   ]
  }
 ],
 "metadata": {
  "kernelspec": {
   "display_name": "Python 3",
   "language": "python",
   "name": "python3"
  },
  "language_info": {
   "codemirror_mode": {
    "name": "ipython",
    "version": 3
   },
   "file_extension": ".py",
   "mimetype": "text/x-python",
   "name": "python",
   "nbconvert_exporter": "python",
   "pygments_lexer": "ipython3",
   "version": "3.6.1"
  }
 },
 "nbformat": 4,
 "nbformat_minor": 1
}
