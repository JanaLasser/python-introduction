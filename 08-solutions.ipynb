{
 "cells": [
  {
   "cell_type": "markdown",
   "metadata": {},
   "source": [
    "<a name=\"loesung07\"></a>Solutions exercise 07\n",
    "==="
   ]
  },
  {
   "cell_type": "code",
   "execution_count": 1,
   "metadata": {},
   "outputs": [
    {
     "name": "stdout",
     "output_type": "stream",
     "text": [
      "[[ 43  52  76  15  11  48  12  16  13  45]\n",
      " [ 19  86  32  62  94  78  69   9  98  81]\n",
      " [ 89  17  26  42  80  53   4  95  25  92]\n",
      " [ 49  30  72  12  83  99  15   9  13  86]\n",
      " [ 71   2  72  59  48  48  77  24  73  87]\n",
      " [ 10  65  88  24  18   6  97  73   0  69]\n",
      " [100   1  14  77  89  15  84  12  37   5]\n",
      " [ 21  44  86  66   7  37 101  49  92  67]\n",
      " [  0  48  80  28  50  67  32  64  29  73]\n",
      " [ 81  79  77  97   6  82   1  16  23  27]]\n"
     ]
    }
   ],
   "source": [
    "# 1.a\n",
    "# import random and numpy\n",
    "# note: call numpy using 'np'\n",
    "import random\n",
    "import numpy as np\n",
    "\n",
    "# create a list of 100 random integers between 0 and 100\n",
    "numbers = [random.randint(0,101) for i in range(100)]\n",
    "# convert the list to an array\n",
    "numbers = np.asarray(numbers)\n",
    "# \"reshape\" the 1-d array to a 2-d 10x10 matrix\n",
    "numbers = numbers.reshape((10,10))\n",
    "print(numbers)"
   ]
  },
  {
   "cell_type": "code",
   "execution_count": 2,
   "metadata": {
    "collapsed": true
   },
   "outputs": [],
   "source": [
    "# 1.b\n",
    "np.savetxt('random-numbers.txt', numbers)"
   ]
  },
  {
   "cell_type": "code",
   "execution_count": 3,
   "metadata": {},
   "outputs": [
    {
     "name": "stdout",
     "output_type": "stream",
     "text": [
      "[[65 29  4 80 24 51 68 25  9  5]\n",
      " [54 51 20  0  5 96 62 35 99 46]\n",
      " [76 40 35 93 62 55 67 60 16 75]\n",
      " [40 51 11 87 11 18 86 50 14 16]\n",
      " [30 26 59 43 30 14  4 26 91 52]\n",
      " [48  8 78 56 40 29 94  1 79 95]\n",
      " [23 36 91 99 38  5 68 24 75 59]\n",
      " [71 53 41 24 73 29 35 20  4 12]\n",
      " [10 34 54 51 22 81 98 90 19 46]\n",
      " [57 25 36 96 56 50 86 70 60 92]]\n"
     ]
    }
   ],
   "source": [
    "# 1.c\n",
    "# Documentation to numpy.random.randint:\n",
    "# https://docs.scipy.org/doc/numpy/reference/generated/numpy.random.randint.html\n",
    "\n",
    "numbers = np.random.randint(0, 101, (10,10))\n",
    "print(numbers)"
   ]
  },
  {
   "cell_type": "code",
   "execution_count": 4,
   "metadata": {},
   "outputs": [
    {
     "name": "stdout",
     "output_type": "stream",
     "text": [
      "upper left:\n",
      "[[65 29  4 80 24]\n",
      " [54 51 20  0  5]\n",
      " [76 40 35 93 62]\n",
      " [40 51 11 87 11]\n",
      " [30 26 59 43 30]]\n",
      "upper right:\n",
      "[[51 68 25  9  5]\n",
      " [96 62 35 99 46]\n",
      " [55 67 60 16 75]\n",
      " [18 86 50 14 16]\n",
      " [14  4 26 91 52]]\n",
      "lower left:\n",
      "[[48  8 78 56 40]\n",
      " [23 36 91 99 38]\n",
      " [71 53 41 24 73]\n",
      " [10 34 54 51 22]\n",
      " [57 25 36 96 56]]\n",
      "lower right:\n",
      "[[29 94  1 79 95]\n",
      " [ 5 68 24 75 59]\n",
      " [29 35 20  4 12]\n",
      " [81 98 90 19 46]\n",
      " [50 86 70 60 92]]\n"
     ]
    }
   ],
   "source": [
    "# 1.d\n",
    "print('upper left:')\n",
    "upper_left = numbers[:5, :5]\n",
    "print(upper_left)\n",
    "print('upper right:')\n",
    "upper_right = numbers[:5, 5:]\n",
    "print(upper_right)\n",
    "print('lower left:')\n",
    "down_left = numbers [5:, :5]\n",
    "print(down_left)\n",
    "print('lower right:')\n",
    "down_right = numbers[5:, 5:]\n",
    "print(down_right)"
   ]
  },
  {
   "cell_type": "code",
   "execution_count": 5,
   "metadata": {},
   "outputs": [
    {
     "name": "stdout",
     "output_type": "stream",
     "text": [
      "[[ 8095 13462  7504  6824  4487]\n",
      " [ 8820  8194  4465  6310  4376]\n",
      " [12183 18239 11662 12148  9557]\n",
      " [ 9261 14145  8081  7804  5335]\n",
      " [ 8465 11423  8130  7120  8019]]\n"
     ]
    }
   ],
   "source": [
    "# 1.e\n",
    "matrix_product = np.dot(upper_left, upper_right)\n",
    "print(matrix_product)\n",
    "\n",
    "# the same for the other multiplications"
   ]
  },
  {
   "cell_type": "code",
   "execution_count": 6,
   "metadata": {},
   "outputs": [
    {
     "name": "stdout",
     "output_type": "stream",
     "text": [
      "[[48  8  1 79 95]\n",
      " [23 36 24 99 59]\n",
      " [71 53 41  4 73]\n",
      " [81 34 90 19 46]\n",
      " [50 86 70 96 56]]\n"
     ]
    }
   ],
   "source": [
    "# 1.f\n",
    "# create a new matrix\n",
    "# take a look in the matrix upper_right:\n",
    "# if upper_right > 50, take an element from lower_left\n",
    "# if upper_right < 50, take an element from lower_right\n",
    "new_matrix = np.where(upper_right > 50, down_left, down_right)\n",
    "print(new_matrix)"
   ]
  }
 ],
 "metadata": {
  "kernelspec": {
   "display_name": "Python 3",
   "language": "python",
   "name": "python3"
  },
  "language_info": {
   "codemirror_mode": {
    "name": "ipython",
    "version": 3
   },
   "file_extension": ".py",
   "mimetype": "text/x-python",
   "name": "python",
   "nbconvert_exporter": "python",
   "pygments_lexer": "ipython3",
   "version": "3.5.2"
  }
 },
 "nbformat": 4,
 "nbformat_minor": 1
}
