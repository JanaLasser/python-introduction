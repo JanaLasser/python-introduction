{
 "cells": [
  {
   "cell_type": "markdown",
   "metadata": {},
   "source": [
    "<a name=\"top\"></a>Overview: Standard libraries\n",
    "==="
   ]
  },
  {
   "cell_type": "markdown",
   "metadata": {},
   "source": [
    "* [The Python standard library](#standard)\n",
    "  * [Importing modules](#importieren)\n",
    "  * [Maths](#math)\n",
    "  * [Files and folders](#ospath)\n",
    "  * [Statistics and random numbers](#statistics)\n",
    "* [Exercise 06: Standard libraries](#uebung06)"
   ]
  },
  {
   "cell_type": "markdown",
   "metadata": {},
   "source": [
    "**Learning Goals:** After this lecture you\n",
    "* know how to import functions from other modules\n",
    "* can use the ```math``` modul for complex mathematical calculations\n",
    "* understand how to manipulate folders and files using the ```os.path``` module\n",
    "* have an idea how to do statistic with the ```statistics``` module"
   ]
  },
  {
   "cell_type": "markdown",
   "metadata": {},
   "source": [
    "<a name=\"standard\"></a>The Python standard library\n",
    "==="
   ]
  },
  {
   "cell_type": "markdown",
   "metadata": {},
   "source": [
    "<a name=\"importieren\"></a>Importing modules\n",
    "---"
   ]
  },
  {
   "cell_type": "markdown",
   "metadata": {},
   "source": [
    "We already know a few functions, which are pre-built into Python. As you have seen they are very helpful, as for example:\n",
    "* ```print()```\n",
    "* ```sum()```\n",
    "* ```len()```\n",
    "* ..."
   ]
  },
  {
   "cell_type": "markdown",
   "metadata": {},
   "source": [
    "You can find a list of directly available functions here: https://docs.python.org/2/library/functions.html"
   ]
  },
  {
   "cell_type": "markdown",
   "metadata": {},
   "source": [
    "Additionally, there are a number of _standard libraries_ in python, which automatically get installed together with Python. This means, you already have these libraries on the pc (or in our case - the jupyter notebook). \n",
    "However, the functionalities provided are rather specific, so the libraries are not automatically _included_ in every script you write.\n",
    "\n",
    "Thus, if you want to use a function from a part of the standard libraries (_modules_) you have to _import_ that module first."
   ]
  },
  {
   "cell_type": "markdown",
   "metadata": {},
   "source": [
    "[top](#top)"
   ]
  },
  {
   "cell_type": "markdown",
   "metadata": {},
   "source": [
    "<a name=\"math\"></a>Maths\n",
    "---"
   ]
  },
  {
   "cell_type": "markdown",
   "metadata": {},
   "source": [
    "A standard example is the ```math``` module. It contains a number of helpful functions (for doing advanced maths) as for example ```sin()``` and ```cos()```. To import a module in Python we use the ```import``` keyword:"
   ]
  },
  {
   "cell_type": "code",
   "execution_count": 1,
   "metadata": {
    "collapsed": true
   },
   "outputs": [],
   "source": [
    "# we import the modul, from now on we can use it in this entire script\n",
    "import math"
   ]
  },
  {
   "cell_type": "markdown",
   "metadata": {},
   "source": [
    "We access functions of the module by using a \"module.function\" syntax:"
   ]
  },
  {
   "cell_type": "code",
   "execution_count": 2,
   "metadata": {},
   "outputs": [
    {
     "data": {
      "text/plain": [
       "0.1411200080598672"
      ]
     },
     "execution_count": 2,
     "metadata": {},
     "output_type": "execute_result"
    }
   ],
   "source": [
    "math.sin(3)"
   ]
  },
  {
   "cell_type": "code",
   "execution_count": 3,
   "metadata": {},
   "outputs": [
    {
     "name": "stdout",
     "output_type": "stream",
     "text": [
      "-1.0\n"
     ]
    }
   ],
   "source": [
    "result = math.cos(math.pi)\n",
    "print(result)"
   ]
  },
  {
   "cell_type": "markdown",
   "metadata": {},
   "source": [
    "##### Documentation"
   ]
  },
  {
   "cell_type": "markdown",
   "metadata": {},
   "source": [
    "You'd assume that ```math``` includes functions like sine, cosine, absolute value or such to do appropriate rounding.\n",
    "If you're interested in what else ```math``` contains, you should take a look at the online-documentation dof the module:"
   ]
  },
  {
   "cell_type": "markdown",
   "metadata": {},
   "source": [
    "Documentation of ```math```: https://docs.python.org/2/library/math.html"
   ]
  },
  {
   "cell_type": "markdown",
   "metadata": {},
   "source": [
    "Alternatively, we can get hlp on single functions directly in the notebook:"
   ]
  },
  {
   "cell_type": "code",
   "execution_count": 11,
   "metadata": {},
   "outputs": [
    {
     "name": "stdout",
     "output_type": "stream",
     "text": [
      "Help on built-in function cos in module math:\n",
      "\n",
      "cos(...)\n",
      "    cos(x)\n",
      "    \n",
      "    Return the cosine of x (measured in radians).\n",
      "\n"
     ]
    }
   ],
   "source": [
    "help(math.cos)"
   ]
  },
  {
   "cell_type": "code",
   "execution_count": 4,
   "metadata": {
    "collapsed": true
   },
   "outputs": [],
   "source": [
    "? math.cos"
   ]
  },
  {
   "cell_type": "markdown",
   "metadata": {},
   "source": [
    "[top](#top)"
   ]
  },
  {
   "cell_type": "markdown",
   "metadata": {},
   "source": [
    "<a name=\"ospath\"></a>Files and folders\n",
    "---"
   ]
  },
  {
   "cell_type": "markdown",
   "metadata": {},
   "source": [
    "The ```os``` module allows us to interact with the files and folders in the operating system on which Python is running (```os``` - **o**perating **s**ystem):"
   ]
  },
  {
   "cell_type": "code",
   "execution_count": 5,
   "metadata": {
    "collapsed": true
   },
   "outputs": [],
   "source": [
    "import os"
   ]
  },
  {
   "cell_type": "markdown",
   "metadata": {},
   "source": [
    "Using ```os``` we can, for example, get the information on the path to our current working directory (the directory, in which _this notebook_ is located):"
   ]
  },
  {
   "cell_type": "code",
   "execution_count": 6,
   "metadata": {},
   "outputs": [
    {
     "name": "stdout",
     "output_type": "stream",
     "text": [
      "/Users/eckstein/Documents/Python_course/New_Python_Introduction\n"
     ]
    }
   ],
   "source": [
    "path = os.getcwd()  # [c]urrent [w]orking [d]irectory, cwd\n",
    "\n",
    "# the return vaule of 'os.getcwd()' is a string containing the path\n",
    "print(path)"
   ]
  },
  {
   "cell_type": "markdown",
   "metadata": {},
   "source": [
    "We can also get a list of the files in our working directory:"
   ]
  },
  {
   "cell_type": "code",
   "execution_count": 7,
   "metadata": {},
   "outputs": [
    {
     "name": "stdout",
     "output_type": "stream",
     "text": [
      "['.DS_Store', '.ipynb_checkpoints', '06-loesung.ipynb', '06-standardbibliothek.ipynb', 'Python_introduction']\n"
     ]
    }
   ],
   "source": [
    "# os.listdir returns a list containing strings of file names \n",
    "files = os.listdir(path)\n",
    "\n",
    "# note: a number of hidden files are shown as well\n",
    "# hidden files have a name that starts with a point\n",
    "print(files)"
   ]
  },
  {
   "cell_type": "markdown",
   "metadata": {},
   "source": [
    "Now we are going to create a few new files. Since we want to keep a tidy directory, we first create a new folder to hold these files:"
   ]
  },
  {
   "cell_type": "code",
   "execution_count": 8,
   "metadata": {
    "collapsed": true
   },
   "outputs": [],
   "source": [
    "new_folder_name = 'my_folder'\n",
    "os.mkdir(new_folder_name)"
   ]
  },
  {
   "cell_type": "code",
   "execution_count": 10,
   "metadata": {},
   "outputs": [
    {
     "name": "stdout",
     "output_type": "stream",
     "text": [
      "['.DS_Store', '.ipynb_checkpoints', '06-loesung.ipynb', '06-standardbibliothek.ipynb', 'my_folder', 'Python_introduction']\n"
     ]
    }
   ],
   "source": [
    "print(os.listdir(path))"
   ]
  },
  {
   "cell_type": "markdown",
   "metadata": {},
   "source": [
    "Since we want our new files to go into the new folder, we have to update the path we are using. To do this, we use a _sub-module_ of ```os```, called ```os.path```:"
   ]
  },
  {
   "cell_type": "code",
   "execution_count": 12,
   "metadata": {},
   "outputs": [
    {
     "name": "stdout",
     "output_type": "stream",
     "text": [
      "/Users/eckstein/Documents/Python_course/New_Python_Introduction/my_folder\n"
     ]
    }
   ],
   "source": [
    "path = os.path.join(path, new_folder_name)\n",
    "print(path)"
   ]
  },
  {
   "cell_type": "markdown",
   "metadata": {},
   "source": [
    "Since we don't want to have to write ```os.path.join()``` every time we want to modify a path, we're going to import the function ```join()``` directly into the global namespace of our script:"
   ]
  },
  {
   "cell_type": "code",
   "execution_count": 13,
   "metadata": {
    "collapsed": true
   },
   "outputs": [],
   "source": [
    "from os.path import join"
   ]
  },
  {
   "cell_type": "markdown",
   "metadata": {},
   "source": [
    "Now ea can interact with files, and for example open them in the script, write something into them and then close them again (we don't even need the module ```os``` for that). If we try to open a file that does not exist, the pc throws an error:"
   ]
  },
  {
   "cell_type": "code",
   "execution_count": 15,
   "metadata": {},
   "outputs": [
    {
     "ename": "FileNotFoundError",
     "evalue": "[Errno 2] No such file or directory: '/Users/eckstein/Documents/Python_course/New_Python_Introduction/my_folder/my_file.txt'",
     "output_type": "error",
     "traceback": [
      "\u001b[0;31m---------------------------------------------------------------------------\u001b[0m",
      "\u001b[0;31mFileNotFoundError\u001b[0m                         Traceback (most recent call last)",
      "\u001b[0;32m<ipython-input-15-72d6c4b52505>\u001b[0m in \u001b[0;36m<module>\u001b[0;34m()\u001b[0m\n\u001b[1;32m      1\u001b[0m \u001b[0mfilename\u001b[0m \u001b[0;34m=\u001b[0m \u001b[0;34m'my_file.txt'\u001b[0m\u001b[0;34m\u001b[0m\u001b[0m\n\u001b[0;32m----> 2\u001b[0;31m \u001b[0mopen\u001b[0m\u001b[0;34m(\u001b[0m\u001b[0mjoin\u001b[0m\u001b[0;34m(\u001b[0m\u001b[0mpath\u001b[0m\u001b[0;34m,\u001b[0m\u001b[0mfilename\u001b[0m\u001b[0;34m)\u001b[0m\u001b[0;34m)\u001b[0m\u001b[0;34m\u001b[0m\u001b[0m\n\u001b[0m",
      "\u001b[0;31mFileNotFoundError\u001b[0m: [Errno 2] No such file or directory: '/Users/eckstein/Documents/Python_course/New_Python_Introduction/my_folder/my_file.txt'"
     ]
    }
   ],
   "source": [
    "filename = 'my_file.txt'\n",
    "open(join(path,filename))"
   ]
  },
  {
   "cell_type": "markdown",
   "metadata": {},
   "source": [
    " To solve this problem, we pass an additional argument ot the ```open``` function, which tells it we want to **w**rite into the file (and by logical extentions, if no file exists, to create it): "
   ]
  },
  {
   "cell_type": "code",
   "execution_count": 16,
   "metadata": {},
   "outputs": [
    {
     "data": {
      "text/plain": [
       "<_io.TextIOWrapper name='/Users/eckstein/Documents/Python_course/New_Python_Introduction/my_folder/my_file.txt' mode='w' encoding='UTF-8'>"
      ]
     },
     "execution_count": 16,
     "metadata": {},
     "output_type": "execute_result"
    }
   ],
   "source": [
    "# passing w (short for write) to 'open()' allows it\n",
    "# to write into a file and create the file if it does not exist\n",
    "open(os.path.join(path, filename), 'w')"
   ]
  },
  {
   "cell_type": "code",
   "execution_count": 17,
   "metadata": {},
   "outputs": [],
   "source": [
    "# remove the file again:\n",
    "os.remove(join(path, filename))"
   ]
  },
  {
   "cell_type": "markdown",
   "metadata": {},
   "source": [
    "Now let's automatically create a number of files. To do this, we put the functions we used before into a loop:"
   ]
  },
  {
   "cell_type": "code",
   "execution_count": 18,
   "metadata": {
    "collapsed": true
   },
   "outputs": [],
   "source": [
    "# loop over i 0 to 10 \n",
    "for i in range(10):\n",
    "    \n",
    "    # create a file name based on a static string and i\n",
    "    file_name = 'file_{}.txt'.format(i)\n",
    "    \n",
    "    # create a file with the name 'file_path' in the directory 'path'\n",
    "    open(join(path, file_name), 'w+')"
   ]
  },
  {
   "cell_type": "markdown",
   "metadata": {},
   "source": [
    "We can also modify these file names automatically:"
   ]
  },
  {
   "cell_type": "code",
   "execution_count": 23,
   "metadata": {},
   "outputs": [
    {
     "name": "stdout",
     "output_type": "stream",
     "text": [
      "['2017-06-11_0.txt', '2017-06-11_1.txt', '2017-06-11_2.txt', '2017-06-11_3.txt', '2017-06-11_4.txt', '2017-06-11_5.txt', '2017-06-11_6.txt', '2017-06-11_7.txt', '2017-06-11_8.txt', '2017-06-11_9.txt']\n"
     ]
    }
   ],
   "source": [
    "file_names = os.listdir(path)\n",
    "print(file_names)\n",
    "# note: we should not touch any hidden files!"
   ]
  },
  {
   "cell_type": "code",
   "execution_count": 24,
   "metadata": {},
   "outputs": [],
   "source": [
    "# iterate over the files in 'path'\n",
    "# we use enumerate() to get an index\n",
    "# which we use for the new file name\n",
    "for i, name in enumerate(file_names):\n",
    "    \n",
    "    # we only want to touch files that end in '.txt'\n",
    "    if name.endswith('.txt'):\n",
    "        \n",
    "        # create a new name\n",
    "        new_name = '2017-06-11_{}.txt'.format(i)\n",
    "        # we use rename(old_path, new_path) to rename the files\n",
    "        os.rename(join(path, name), join(path,new_name))\n",
    "        \n",
    "# IMPORTANT: always pass the entire path to the file!"
   ]
  },
  {
   "cell_type": "markdown",
   "metadata": {},
   "source": [
    "[top](#top)"
   ]
  },
  {
   "cell_type": "markdown",
   "metadata": {},
   "source": [
    "<a name=\"statistics\"></a>Statistics and random numbers\n",
    "---"
   ]
  },
  {
   "cell_type": "markdown",
   "metadata": {},
   "source": [
    "The standard libraries also include basic functionality for statistics and random numbers. You can find the documentation of these two modules here:\n",
    "* ```statistics```: https://docs.python.org/3/library/statistics.html\n",
    "* ```random```: https://docs.python.org/3/library/random.html"
   ]
  },
  {
   "cell_type": "code",
   "execution_count": 25,
   "metadata": {
    "collapsed": true
   },
   "outputs": [],
   "source": [
    "import random\n",
    "import statistics"
   ]
  },
  {
   "cell_type": "markdown",
   "metadata": {},
   "source": [
    "We can, for example, create a list of random integer numbers:"
   ]
  },
  {
   "cell_type": "code",
   "execution_count": 27,
   "metadata": {},
   "outputs": [
    {
     "name": "stdout",
     "output_type": "stream",
     "text": [
      "[8, 8, 0, 5, 5, 5, 1, 0, 9, 10]\n"
     ]
    }
   ],
   "source": [
    "# use list-comprehension to create ten random \n",
    "# integers between 0 and 10 and save them in a list\n",
    "random_numbers = [random.randint(0,10) for i in range(10)]\n",
    "\n",
    "# every execution of this cell produces different random numbers\n",
    "print(random_numbers)"
   ]
  },
  {
   "cell_type": "markdown",
   "metadata": {},
   "source": [
    "We can also do a bit of statistics and look at the mean median and standard deviation of the numbers"
   ]
  },
  {
   "cell_type": "code",
   "execution_count": 28,
   "metadata": {},
   "outputs": [
    {
     "name": "stdout",
     "output_type": "stream",
     "text": [
      "mean: -0.7, stdev: 5.078276172963508, median: -1.0\n",
      "mean: -0.9, stdev: 6.740425308044985, median: -1.0\n",
      "mean: 1, stdev: 5.354126134736337, median: 0.5\n",
      "mean: 1.7, stdev: 4.9452558635075246, median: 4.5\n",
      "mean: -0.5, stdev: 6.433419688539594, median: 0.0\n",
      "mean: -0.1, stdev: 6.15449248742557, median: 1.0\n",
      "mean: 0.1, stdev: 5.526702854726717, median: 1.5\n",
      "mean: -1.8, stdev: 4.184627953726724, median: -3.0\n",
      "mean: -0.6, stdev: 6.380525927469546, median: -1.0\n",
      "mean: 0.3, stdev: 6.000925854492047, median: -0.5\n"
     ]
    }
   ],
   "source": [
    "# create ten lists of random integers\n",
    "for i in range(10):\n",
    "    \n",
    "    # create a list of ten integers in -10 to 10\n",
    "    numbers = [random.randint(-10,10) for i in range(10)]\n",
    "    \n",
    "    mean = statistics.mean(numbers)     # Mean\n",
    "    std = statistics.stdev(numbers)     # Standard deviation\n",
    "    median = statistics.median(numbers) # Median\n",
    "    \n",
    "    # display the results neatly formated\n",
    "    print('mean: {}, stdev: {}, median: {}'\\\n",
    "         .format(mean, std, median))"
   ]
  },
  {
   "cell_type": "markdown",
   "metadata": {},
   "source": [
    "[top](#top)"
   ]
  },
  {
   "cell_type": "markdown",
   "metadata": {},
   "source": [
    "<a name=\"uebung06\"></a>Exercise 06: Standard libraries\n",
    "==="
   ]
  },
  {
   "cell_type": "markdown",
   "metadata": {},
   "source": [
    "1. **Math**\n",
    "  1. Read the documentation of ```math``` to understand how to convert from degrees to radians and vice versa. Conver $\\pi$, $\\pi/2$ and $2\\pi$ to degrees and $100^\\circ$, $200^\\circ$ and $300^\\circ$ to radians.\n",
    "  2. Given are the coordinates of the corners of a triangle:  \n",
    "  $A = (0,0); \\quad B = (3,0); \\quad C = (4,2)$.  \n",
    "  Write a function, which accepts the $(x,y)$ coordinates of two corners and then calculates the length of the distance between the corners. Use the ```math``` module.\n",
    "  3. Use you function to calculate the lengths of all the edges $a, b, c$ of the triangle. \n",
    "  4. **(Optional)** Also calculate the opposite angles $\\alpha, \\beta, \\gamma$ of the triangle.\n",
    "  Hint: Law of cosines https://en.wikipedia.org/wiki/Law_of_cosines\n",
    "2. **Files and folders**\n",
    "  1. Create a new folder using ```mkdir()```.\n",
    "  2. Find the path to the this directory and save it in a variable.\n",
    "  3. Automatically create 5 new .txt files and 5 new .csv files in your new folder.\n",
    "  4. Automatically rename theses files. Use different names depending on whether the file is .csv or .txt.\n",
    "  5. **(Optional)** Automatically create a folder for every week in June. In every folder, create a file for every day of the week which the foler represents. Use the specific date of the file as its name (e.g. 2017-06-01 for the 1. Juni 2017).\n",
    "  6. **(Optional)** Investigate, how to write from a script into a file. Test the concept on a .txt file.\n",
    "  7. **(Optional)** Write the appropriate date into each of the file you created for June.\n",
    "3. **Statistics and random numbers**\n",
    "  1. Create a list with a random length $\\in [5,10]$ filled with random integers.\n",
    "  2. Take a look at the ```shuffle()``` function of the ```random``` module and use it to mix the order of the elements of the list.\n",
    "  3. **(Optional)**: Create a copy of the list. Write a function, which mixes the copy, compares it to the original and returns ```True``` if they are the same, ```False``` else. \n",
    "  4. **(Optional)** Write a loop, which shuffels the list N times. How long does it take until the copy randomly has the same order as the original? How does the number of necessary iterations depend on the length of the list?"
   ]
  },
  {
   "cell_type": "markdown",
   "metadata": {},
   "source": [
    "[top](#top)"
   ]
  }
 ],
 "metadata": {
  "kernelspec": {
   "display_name": "Python 3",
   "language": "python",
   "name": "python3"
  },
  "language_info": {
   "codemirror_mode": {
    "name": "ipython",
    "version": 3
   },
   "file_extension": ".py",
   "mimetype": "text/x-python",
   "name": "python",
   "nbconvert_exporter": "python",
   "pygments_lexer": "ipython3",
   "version": "3.6.1"
  }
 },
 "nbformat": 4,
 "nbformat_minor": 1
}
