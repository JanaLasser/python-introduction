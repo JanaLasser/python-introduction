{
 "cells": [
  {
   "cell_type": "markdown",
   "metadata": {},
   "source": [
    "<a name=\"top\"></a>Overview: Standard libraries\n",
    "==="
   ]
  },
  {
   "cell_type": "markdown",
   "metadata": {},
   "source": [
    "* [The Python standard library](#standard)\n",
    "  * [Importing modules](#importieren)\n",
    "  * [Maths](#math)\n",
    "  * [Files and folders](#ospath)\n",
    "  * [Statistics and random numbers](#statistics)\n",
    "* [Exercise 06: Standard libraries](#uebung06)"
   ]
  },
  {
   "cell_type": "markdown",
   "metadata": {},
   "source": [
    "**Learning Goals:** After this lecture you\n",
    "* know how to import functions from other modules\n",
    "* can use the ```math``` module for complex mathematical calculations\n",
    "* understand how to manipulate folders and files using the ```os.path``` module\n",
    "* have an idea how to do statistics with the ```statistics``` module"
   ]
  },
  {
   "cell_type": "markdown",
   "metadata": {},
   "source": [
    "<a name=\"standard\"></a>The Python standard library\n",
    "==="
   ]
  },
  {
   "cell_type": "markdown",
   "metadata": {},
   "source": [
    "<a name=\"importieren\"></a>Importing modules\n",
    "---"
   ]
  },
  {
   "cell_type": "markdown",
   "metadata": {},
   "source": [
    "We already know a few functions, which are pre-built into Python. As you have seen they are very helpful, as for example:\n",
    "* ```print()```\n",
    "* ```sum()```\n",
    "* ```len()```\n",
    "* ..."
   ]
  },
  {
   "cell_type": "markdown",
   "metadata": {},
   "source": [
    "You can find a list of directly available functions here: https://docs.python.org/2/library/functions.html"
   ]
  },
  {
   "cell_type": "markdown",
   "metadata": {},
   "source": [
    "Additionally, there are a number of _standard libraries_ in python, which automatically get installed together with Python. This means, you already have these libraries on the computer (or in our case - the jupyter notebook). \n",
    "However, the functionalities provided are rather specific, so the libraries are not automatically _included_ in every script you write.\n",
    "\n",
    "Thus, if you want to use a function from a part of the standard libraries (_modules_) you have to _import_ that module first."
   ]
  },
  {
   "cell_type": "markdown",
   "metadata": {},
   "source": [
    "[top](#top)"
   ]
  },
  {
   "cell_type": "markdown",
   "metadata": {},
   "source": [
    "<a name=\"math\"></a>Maths\n",
    "---"
   ]
  },
  {
   "cell_type": "markdown",
   "metadata": {},
   "source": [
    "A standard example is the ```math``` module. It contains a number of helpful functions (for doing advanced maths), for example ```sin()``` and ```cos()```. To import a module in Python we use the ```import``` keyword:"
   ]
  },
  {
   "cell_type": "code",
   "execution_count": null,
   "metadata": {
    "collapsed": true
   },
   "outputs": [],
   "source": [
    "# we import the modul, from now on we can use it in this entire script\n",
    "import math"
   ]
  },
  {
   "cell_type": "markdown",
   "metadata": {},
   "source": [
    "We access functions of the module by using a \"module.function\" syntax:"
   ]
  },
  {
   "cell_type": "code",
   "execution_count": null,
   "metadata": {
    "collapsed": true
   },
   "outputs": [],
   "source": [
    "math.sin(3)"
   ]
  },
  {
   "cell_type": "code",
   "execution_count": null,
   "metadata": {
    "collapsed": true
   },
   "outputs": [],
   "source": [
    "result = math.cos(math.pi)\n",
    "print(result)"
   ]
  },
  {
   "cell_type": "markdown",
   "metadata": {},
   "source": [
    "##### Documentation"
   ]
  },
  {
   "cell_type": "markdown",
   "metadata": {},
   "source": [
    "You'd assume that ```math``` includes functions like sine, cosine, absolute value or such to do appropriate rounding.\n",
    "If you're interested in what else ```math``` contains, you should take a look at the online-documentation dof the module:"
   ]
  },
  {
   "cell_type": "markdown",
   "metadata": {},
   "source": [
    "Documentation of ```math```: https://docs.python.org/3/library/math.html"
   ]
  },
  {
   "cell_type": "markdown",
   "metadata": {},
   "source": [
    "Alternatively, we can get help on single functions directly in the notebook:"
   ]
  },
  {
   "cell_type": "code",
   "execution_count": null,
   "metadata": {
    "collapsed": true
   },
   "outputs": [],
   "source": [
    "help(math.cos)"
   ]
  },
  {
   "cell_type": "code",
   "execution_count": null,
   "metadata": {
    "collapsed": true
   },
   "outputs": [],
   "source": [
    "? math.cos"
   ]
  },
  {
   "cell_type": "markdown",
   "metadata": {},
   "source": [
    "[top](#top)"
   ]
  },
  {
   "cell_type": "markdown",
   "metadata": {},
   "source": [
    "<a name=\"ospath\"></a>Files and folders\n",
    "---"
   ]
  },
  {
   "cell_type": "markdown",
   "metadata": {},
   "source": [
    "The ```os``` module allows us to interact with the files and folders in the operating system on which Python is running (```os``` - **o**perating **s**ystem):"
   ]
  },
  {
   "cell_type": "code",
   "execution_count": null,
   "metadata": {
    "collapsed": true
   },
   "outputs": [],
   "source": [
    "import os"
   ]
  },
  {
   "cell_type": "markdown",
   "metadata": {},
   "source": [
    "Using ```os``` we can, for example, get the information on the path to our current working directory (the directory, in which _this notebook_ is located):"
   ]
  },
  {
   "cell_type": "code",
   "execution_count": null,
   "metadata": {
    "collapsed": true
   },
   "outputs": [],
   "source": [
    "path = os.getcwd()  # [c]urrent [w]orking [d]irectory, cwd\n",
    "\n",
    "# the return vaule of 'os.getcwd()' is a string containing the path\n",
    "print(path)"
   ]
  },
  {
   "cell_type": "markdown",
   "metadata": {},
   "source": [
    "We can also get a list of the files in our working directory:"
   ]
  },
  {
   "cell_type": "code",
   "execution_count": null,
   "metadata": {
    "collapsed": true
   },
   "outputs": [],
   "source": [
    "# os.listdir returns a list containing strings of file names \n",
    "files = os.listdir(path)\n",
    "\n",
    "# note: a number of hidden files are shown as well\n",
    "# hidden files have a name that starts with a point\n",
    "print(files)"
   ]
  },
  {
   "cell_type": "markdown",
   "metadata": {},
   "source": [
    "Now we are going to create a few new files. Since we want to keep a tidy directory, we first create a new folder to hold these files:"
   ]
  },
  {
   "cell_type": "code",
   "execution_count": null,
   "metadata": {
    "collapsed": true
   },
   "outputs": [],
   "source": [
    "new_folder_name = 'my_folder'\n",
    "os.mkdir(new_folder_name)"
   ]
  },
  {
   "cell_type": "code",
   "execution_count": null,
   "metadata": {
    "collapsed": true
   },
   "outputs": [],
   "source": [
    "print(os.listdir(path))"
   ]
  },
  {
   "cell_type": "markdown",
   "metadata": {},
   "source": [
    "Since we want our new files to go into the new folder, we have to update the path we are using. To do this, we use a _sub-module_ of ```os```, called ```os.path```:"
   ]
  },
  {
   "cell_type": "code",
   "execution_count": null,
   "metadata": {
    "collapsed": true
   },
   "outputs": [],
   "source": [
    "path = os.path.join(path, new_folder_name)\n",
    "print(path)"
   ]
  },
  {
   "cell_type": "markdown",
   "metadata": {},
   "source": [
    "Since we don't want to have to write ```os.path.join()``` every time we want to modify a path, we're going to import the function ```join()``` directly into the global namespace of our script:"
   ]
  },
  {
   "cell_type": "code",
   "execution_count": null,
   "metadata": {
    "collapsed": true
   },
   "outputs": [],
   "source": [
    "from os.path import join"
   ]
  },
  {
   "cell_type": "markdown",
   "metadata": {},
   "source": [
    "Now we can interact with files, and for example open them in the script, write something into them and then close them again (we don't even need the module ```os``` for that). If we try to open a file that does not exist, the computer throws an error:"
   ]
  },
  {
   "cell_type": "code",
   "execution_count": null,
   "metadata": {
    "collapsed": true
   },
   "outputs": [],
   "source": [
    "filename = 'my_file.txt'\n",
    "open(join(path,filename))"
   ]
  },
  {
   "cell_type": "markdown",
   "metadata": {},
   "source": [
    " To solve this problem, we pass an additional argument ot the ```open``` function, which tells it we want to **w**rite into the file (and by logical extention, if no file exists, to create it): "
   ]
  },
  {
   "cell_type": "code",
   "execution_count": null,
   "metadata": {
    "collapsed": true
   },
   "outputs": [],
   "source": [
    "# passing w (short for write) to 'open()' allows it\n",
    "# to write into a file and create the file if it does not exist\n",
    "open(os.path.join(path, filename), 'w')"
   ]
  },
  {
   "cell_type": "code",
   "execution_count": null,
   "metadata": {
    "collapsed": true
   },
   "outputs": [],
   "source": [
    "# remove the file again:\n",
    "os.remove(join(path, filename))"
   ]
  },
  {
   "cell_type": "markdown",
   "metadata": {},
   "source": [
    "Now let's automatically create a number of files. To do this, we put the functions we used before into a loop:"
   ]
  },
  {
   "cell_type": "code",
   "execution_count": null,
   "metadata": {
    "collapsed": true
   },
   "outputs": [],
   "source": [
    "# loop over i 0 to 10 \n",
    "for i in range(10):\n",
    "    \n",
    "    # create a file name based on a static string and i\n",
    "    file_name = 'file_{}.txt'.format(i)\n",
    "    \n",
    "    # create a file with the name 'file_path' in the directory 'path'\n",
    "    open(join(path, file_name), 'w')"
   ]
  },
  {
   "cell_type": "markdown",
   "metadata": {},
   "source": [
    "We can also modify these file names automatically:"
   ]
  },
  {
   "cell_type": "code",
   "execution_count": null,
   "metadata": {
    "collapsed": true
   },
   "outputs": [],
   "source": [
    "file_names = os.listdir(path)\n",
    "print(file_names)\n",
    "# note: we should not touch any hidden files!"
   ]
  },
  {
   "cell_type": "code",
   "execution_count": null,
   "metadata": {
    "collapsed": true
   },
   "outputs": [],
   "source": [
    "# iterate over the files in 'path'\n",
    "# we use enumerate() to get an index\n",
    "# which we use for the new file name\n",
    "for i, name in enumerate(file_names):\n",
    "    \n",
    "    # we only want to touch files that end in '.txt'\n",
    "    if name.endswith('.txt'):\n",
    "        \n",
    "        # create a new name\n",
    "        new_name = '2017-06-11_{}.txt'.format(i)\n",
    "        # we use rename(old_path, new_path) to rename the files\n",
    "        os.rename(join(path, name), join(path,new_name))\n",
    "        \n",
    "# IMPORTANT: always pass the entire path to the file!"
   ]
  },
  {
   "cell_type": "markdown",
   "metadata": {},
   "source": [
    "[top](#top)"
   ]
  },
  {
   "cell_type": "markdown",
   "metadata": {},
   "source": [
    "<a name=\"statistics\"></a>Statistics and random numbers\n",
    "---"
   ]
  },
  {
   "cell_type": "markdown",
   "metadata": {},
   "source": [
    "The standard libraries also include basic functionality for statistics and random numbers. You can find the documentation of these two modules here:\n",
    "* ```statistics```: https://docs.python.org/3/library/statistics.html\n",
    "* ```random```: https://docs.python.org/3/library/random.html"
   ]
  },
  {
   "cell_type": "code",
   "execution_count": null,
   "metadata": {
    "collapsed": true
   },
   "outputs": [],
   "source": [
    "import random\n",
    "import statistics"
   ]
  },
  {
   "cell_type": "markdown",
   "metadata": {},
   "source": [
    "We can, for example, create a list of random integer numbers:"
   ]
  },
  {
   "cell_type": "code",
   "execution_count": null,
   "metadata": {
    "collapsed": true
   },
   "outputs": [],
   "source": [
    "# use list-comprehension to create ten random \n",
    "# integers between 0 and 10 and save them in a list\n",
    "random_numbers = [random.randint(0,10) for i in range(10)]\n",
    "\n",
    "# every execution of this cell produces different random numbers\n",
    "print(random_numbers)"
   ]
  },
  {
   "cell_type": "markdown",
   "metadata": {},
   "source": [
    "We can also do a bit of statistics and look at the mean median and standard deviation of the numbers"
   ]
  },
  {
   "cell_type": "code",
   "execution_count": null,
   "metadata": {
    "collapsed": true
   },
   "outputs": [],
   "source": [
    "# create ten lists of random integers\n",
    "for i in range(10):\n",
    "    \n",
    "    # create a list of ten integers in -10 to 10\n",
    "    numbers = [random.randint(-10,10) for i in range(10)]\n",
    "    \n",
    "    mean = statistics.mean(numbers)     # Mean\n",
    "    std = statistics.stdev(numbers)     # Standard deviation\n",
    "    median = statistics.median(numbers) # Median\n",
    "    \n",
    "    # display the results neatly formated\n",
    "    print('mean: {}, stdev: {}, median: {}'\\\n",
    "         .format(mean, std, median))"
   ]
  },
  {
   "cell_type": "markdown",
   "metadata": {},
   "source": [
    "[top](#top)"
   ]
  },
  {
   "cell_type": "markdown",
   "metadata": {},
   "source": [
    "<a name=\"uebung06\"></a>Exercise 06: Standard libraries\n",
    "==="
   ]
  },
  {
   "cell_type": "markdown",
   "metadata": {},
   "source": [
    "1. **Math**\n",
    "  1. Read the documentation of ```math``` to understand how to convert from degrees to radians and vice versa. Convert $\\pi$, $\\pi/2$ and $2\\pi$ to degrees and $100^\\circ$, $200^\\circ$ and $300^\\circ$ to radians.\n",
    "  2. Given are the coordinates of the corners of a triangle:  \n",
    "  $A = (0,0); \\quad B = (3,0); \\quad C = (4,2)$.  \n",
    "  Write a function, which accepts the $(x,y)$ coordinates of two corners and then calculates the length of the distance between the corners. Use the ```math``` module.\n",
    "  3. Use your function to calculate the lengths of all the edges $a, b, c$ of the triangle. \n",
    "  4. **(Optional)** Also calculate the opposite angles $\\alpha, \\beta, \\gamma$ of the triangle.\n",
    "  Hint: Law of cosines https://en.wikipedia.org/wiki/Law_of_cosines\n",
    "2. **Files and folders**\n",
    "  1. Create a new directory using ```mkdir()```.\n",
    "  2. Find the path to the this directory and save it in a variable.\n",
    "  3. Automatically create 5 new .txt files and 5 new .csv files in your new directory.\n",
    "  4. Automatically rename theses files. Use different names depending on whether the file is .csv or .txt.\n",
    "  5. **(Optional)** Automatically create a directory for every week in June. In every directory, create a file for every day of the week which the directory represents. Use the specific date of the file as its name (e.g. 2017-06-01 for the 1. Juni 2017).\n",
    "  6. **(Optional)** Investigate, how to write from a script into a file. Test the concept on a .txt file.\n",
    "  7. **(Optional)** Write the appropriate date into each of the file you created for June.\n",
    "3. **Statistics and random numbers**\n",
    "  1. Create a list with a random length $\\in [5,10]$ filled with random integers.\n",
    "  2. Take a look at the ```shuffle()``` function of the ```random``` module and use it to mix the order of the elements of the list.\n",
    "  3. **(Optional)**: Create a copy of the list. Write a function, which mixes the copy, compares it to the original and returns ```True``` if they are the same, ```False``` else.\n",
    "  4. **(Optional)** Write a loop, which shuffels the list N times. How long does it take until the copy randomly has the same order as the original? How does the number of necessary iterations depend on the length of the list?"
   ]
  },
  {
   "cell_type": "markdown",
   "metadata": {},
   "source": [
    "[top](#top)"
   ]
  }
 ],
 "metadata": {
  "kernelspec": {
   "display_name": "Python 3",
   "language": "python",
   "name": "python3"
  },
  "language_info": {
   "codemirror_mode": {
    "name": "ipython",
    "version": 3
   },
   "file_extension": ".py",
   "mimetype": "text/x-python",
   "name": "python",
   "nbconvert_exporter": "python",
   "pygments_lexer": "ipython3",
   "version": "3.5.2"
  }
 },
 "nbformat": 4,
 "nbformat_minor": 1
}
