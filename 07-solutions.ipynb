{
 "cells": [
  {
   "cell_type": "markdown",
   "metadata": {},
   "source": [
    "<a name=\"loesung07\"></a>Lösung Übung 07\n",
    "==="
   ]
  },
  {
   "cell_type": "code",
   "execution_count": 1,
   "metadata": {},
   "outputs": [
    {
     "name": "stdout",
     "output_type": "stream",
     "text": [
      "[[ 64  54  67   1  31  95  63  41  43  91]\n",
      " [ 58  96  78  35  15  51  24  99   4  62]\n",
      " [ 22  92  60  20  86  55  12  96  69  14]\n",
      " [ 48  87  59  47  70  36  92  51  30  65]\n",
      " [ 66  79  11 100  12  22  22  43  62  83]\n",
      " [ 82  33  59  99  48   7  44  54  93  57]\n",
      " [ 12  87  91  57  18  62  45  27  97   4]\n",
      " [ 11  30  81  63  49  86  74  85  29  69]\n",
      " [ 43  99  56  20  10  64  51   4  44  65]\n",
      " [ 38  24  43  17  94  30  41  97  89  58]]\n"
     ]
    }
   ],
   "source": [
    "# 1.a\n",
    "# import random and numpy\n",
    "# note: call numpy using 'np'\n",
    "import random\n",
    "import numpy as np\n",
    "\n",
    "# create a list of 100 random integers between 0 and 100\n",
    "numbers = [random.randint(0,101) for i in range(100)]\n",
    "# convert the list to an array\n",
    "numbers = np.asarray(numbers)\n",
    "# \"reshape\" the 1-d array to a 2-d 10x10 matrix\n",
    "numbers = numbers.reshape((10,10))\n",
    "print(numbers)"
   ]
  },
  {
   "cell_type": "code",
   "execution_count": 2,
   "metadata": {
    "collapsed": true
   },
   "outputs": [],
   "source": [
    "# 1.b\n",
    "np.savetxt('random-numbers.txt', numbers)"
   ]
  },
  {
   "cell_type": "code",
   "execution_count": 3,
   "metadata": {},
   "outputs": [
    {
     "name": "stdout",
     "output_type": "stream",
     "text": [
      "[[31 29 55  0 72 39  8 75 55 65]\n",
      " [31 80 25 25 70 40 71 95 85 14]\n",
      " [ 9 30 34 31 98 83 27 12 42 72]\n",
      " [22 41 41 30  7 25  6 84 76 18]\n",
      " [81 29 76 93 85 71 80 60 43 22]\n",
      " [19 23 60 14 13  5 11 40  3 43]\n",
      " [28 99 11 24 48 15 50 97 45 10]\n",
      " [11  8 81 16 25 78 96 39  7 55]\n",
      " [23  2  9 38 30  9 93 65  2 11]\n",
      " [35  6 78 53  5 95 49 66 38 72]]\n"
     ]
    }
   ],
   "source": [
    "# 1.c\n",
    "# Documentation to numpy.random.randint:\n",
    "# https://docs.scipy.org/doc/numpy/reference/generated/numpy.random.randint.html\n",
    "\n",
    "numbers = np.random.randint(0, 101, (10,10))\n",
    "print(numbers)"
   ]
  },
  {
   "cell_type": "code",
   "execution_count": 4,
   "metadata": {},
   "outputs": [
    {
     "name": "stdout",
     "output_type": "stream",
     "text": [
      "upper left:\n",
      "[[31 29 55  0 72]\n",
      " [31 80 25 25 70]\n",
      " [ 9 30 34 31 98]\n",
      " [22 41 41 30  7]\n",
      " [81 29 76 93 85]]\n",
      "upper right:\n",
      "[[39  8 75 55 65]\n",
      " [40 71 95 85 14]\n",
      " [83 27 12 42 72]\n",
      " [25  6 84 76 18]\n",
      " [71 80 60 43 22]]\n",
      "down left:\n",
      "[[19 23 60 14 13]\n",
      " [28 99 11 24 48]\n",
      " [11  8 81 16 25]\n",
      " [23  2  9 38 30]\n",
      " [35  6 78 53  5]]\n",
      "down right:\n",
      "[[ 5 11 40  3 43]\n",
      " [15 50 97 45 10]\n",
      " [78 96 39  7 55]\n",
      " [ 9 93 65  2 11]\n",
      " [95 49 66 38 72]]\n"
     ]
    }
   ],
   "source": [
    "# 1.d\n",
    "print('upper left:')\n",
    "upper_left = numbers[0:5, 0:5]\n",
    "print(upper_left)\n",
    "print('upper right:')\n",
    "upper_right = numbers[0:5, 5:]\n",
    "print(upper_right)\n",
    "print('down left:')\n",
    "down_left = numbers [5:, 0:5]\n",
    "print(down_left)\n",
    "print('down right:')\n",
    "down_right = numbers[5:, 5:]\n",
    "print(down_right)"
   ]
  },
  {
   "cell_type": "code",
   "execution_count": 11,
   "metadata": {},
   "outputs": [
    {
     "name": "stdout",
     "output_type": "stream",
     "text": [
      "[[ 1287  1335  2412  1811  2457]\n",
      " [12179 11281 13762 11129 15337]\n",
      " [ 9011 10544 14659 11243 13953]\n",
      " [14376 18185 17623 11645 21225]\n",
      " [ 9823 12048 19179 12594 17692]]\n"
     ]
    }
   ],
   "source": [
    "# 1.e\n",
    "matrix_product = np.dot(upper_left, upper_right)\n",
    "print(matrix_produkt)\n",
    "\n",
    "# the same for the other multiplications"
   ]
  },
  {
   "cell_type": "code",
   "execution_count": 5,
   "metadata": {},
   "outputs": [
    {
     "name": "stdout",
     "output_type": "stream",
     "text": [
      "[[ 5 11 60 14 13]\n",
      " [15 99 11 24 10]\n",
      " [11 96 39  7 25]\n",
      " [ 9 93  9 38 11]\n",
      " [35  6 78 38 72]]\n"
     ]
    }
   ],
   "source": [
    "# 1.f\n",
    "# create a new matrix\n",
    "# take a look in the matrix upper_right:\n",
    "# if upper_right > 50, take an element from down_left\n",
    "# if upper_right < 50, nim ein Element aus down_right\n",
    "new_matrix = np.where(upper_right > 50, down_left, down_right)\n",
    "print(new_matrix)"
   ]
  },
  {
   "cell_type": "code",
   "execution_count": null,
   "metadata": {
    "collapsed": true
   },
   "outputs": [],
   "source": []
  }
 ],
 "metadata": {
  "kernelspec": {
   "display_name": "Python 3",
   "language": "python",
   "name": "python3"
  },
  "language_info": {
   "codemirror_mode": {
    "name": "ipython",
    "version": 3
   },
   "file_extension": ".py",
   "mimetype": "text/x-python",
   "name": "python",
   "nbconvert_exporter": "python",
   "pygments_lexer": "ipython3",
   "version": "3.6.1"
  }
 },
 "nbformat": 4,
 "nbformat_minor": 1
}
