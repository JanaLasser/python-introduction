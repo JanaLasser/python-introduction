{
 "cells": [
  {
   "cell_type": "markdown",
   "metadata": {},
   "source": [
    "# Solutions Exercises 06b"
   ]
  },
  {
   "cell_type": "code",
   "execution_count": 1,
   "metadata": {
    "collapsed": true
   },
   "outputs": [],
   "source": [
    "# 1.a\n",
    "name_email = {'G. Bertens': 'guus.bertens@whuteva.com',\n",
    "             'T. Eckstein': 'torsten.eckstein@example.com',\n",
    "             'F. Cosi': 'filippo.cosi@python.rules'}"
   ]
  },
  {
   "cell_type": "code",
   "execution_count": 2,
   "metadata": {
    "collapsed": true
   },
   "outputs": [],
   "source": [
    "# 1.b\n",
    "email_name = {}\n",
    "for name, email in name_email.items():\n",
    "    email_name[email] = name"
   ]
  },
  {
   "cell_type": "code",
   "execution_count": 3,
   "metadata": {
    "collapsed": true
   },
   "outputs": [],
   "source": [
    "# 1.c\n",
    "email_name['left@neighbours.net'] = 'L. Neighbour'\n",
    "email_name['right@neighbours.net'] = 'R. Neighbour'"
   ]
  },
  {
   "cell_type": "code",
   "execution_count": 4,
   "metadata": {
    "collapsed": false,
    "scrolled": true
   },
   "outputs": [
    {
     "name": "stdout",
     "output_type": "stream",
     "text": [
      "guus.bertens@whuteva.com -> G. Bertens\n",
      "left@neighbours.net -> L. Neighbour\n",
      "right@neighbours.net -> R. Neighbour\n",
      "filippo.cosi@python.rules -> F. Cosi\n",
      "torsten.eckstein@example.com -> T. Eckstein\n"
     ]
    }
   ],
   "source": [
    "# 1.d\n",
    "for email, name in email_name.items():\n",
    "    print('{} -> {}'.format(email,name))"
   ]
  },
  {
   "cell_type": "code",
   "execution_count": 5,
   "metadata": {
    "collapsed": true
   },
   "outputs": [],
   "source": [
    "# 2.a\n",
    "mouse1 = {'name': 'Charles',\n",
    "         'brains': 2,\n",
    "         'kidneys': 1,\n",
    "         'spleens': 1}\n",
    "mouse2 = {'name': 'Chester',\n",
    "         'brains': 2,\n",
    "         'kidneys': 2,\n",
    "         'spleens': 1}\n",
    "mouse3 = {'name': 'Chad',\n",
    "         'brains': 1,\n",
    "         'kidneys': 1,\n",
    "         'spleens': 1}\n",
    "mouse4 = {'name': 'Chip',\n",
    "         'brains': 1,\n",
    "         'kidneys': 2,\n",
    "         'spleens': 2}"
   ]
  },
  {
   "cell_type": "code",
   "execution_count": 6,
   "metadata": {
    "collapsed": true
   },
   "outputs": [],
   "source": [
    "# 2.b\n",
    "mice = [mouse1, mouse2, mouse3, mouse4]\n",
    "\n",
    "# It can also be done all in one statement.  This does the same.\n",
    "mice = [\n",
    "    {'name': 'Charles', 'brains': 2, 'kidneys': 1, 'spleens': 1},\n",
    "    {'name': 'Chester', 'brains': 2, 'kidneys': 2, 'spleens': 1},\n",
    "    {'name': 'Chad',    'brains': 1, 'kidneys': 1, 'spleens': 1},\n",
    "    {'name': 'Chip',    'brains': 1, 'kidneys': 2, 'spleens': 2}\n",
    "]"
   ]
  },
  {
   "cell_type": "code",
   "execution_count": 7,
   "metadata": {
    "collapsed": false
   },
   "outputs": [
    {
     "name": "stdout",
     "output_type": "stream",
     "text": [
      "1\n"
     ]
    }
   ],
   "source": [
    "# 2.c\n",
    "print(mice[2]['kidneys'])"
   ]
  },
  {
   "cell_type": "code",
   "execution_count": 8,
   "metadata": {
    "collapsed": false
   },
   "outputs": [
    {
     "name": "stdout",
     "output_type": "stream",
     "text": [
      "Mouse \"Charles\": score 0\n",
      "Mouse \"Chester\": score -1\n",
      "Mouse \"Chad\": score -1\n",
      "Mouse \"Chip\": score -3\n"
     ]
    }
   ],
   "source": [
    "# 2.d\n",
    "for mouse in mice:\n",
    "    score = mouse['brains'] - mouse['kidneys'] - mouse['spleens']\n",
    "    print('Mouse \"{}\": score {}'.format(mouse['name'],score))\n",
    "    mouse['score'] = score"
   ]
  },
  {
   "cell_type": "code",
   "execution_count": 9,
   "metadata": {
    "collapsed": false
   },
   "outputs": [
    {
     "name": "stdout",
     "output_type": "stream",
     "text": [
      "Best score: mouse \"Charles\" with score 0\n"
     ]
    }
   ],
   "source": [
    "# 2.e\n",
    "for i, mouse in enumerate(mice):\n",
    "    if i == 0 or mouse['score'] > bestscore:\n",
    "        bestname = mouse['name']\n",
    "        bestscore = mouse['score']\n",
    "print('Best score: mouse \"{}\" with score {}'.format(bestname,bestscore))"
   ]
  },
  {
   "cell_type": "code",
   "execution_count": 10,
   "metadata": {
    "collapsed": true
   },
   "outputs": [],
   "source": [
    "# 3.a\n",
    "f = open('email_addresses.txt')\n",
    "addressbook = {}\n",
    "for line in f:\n",
    "    name_email = line.rstrip().split(' ')\n",
    "    name = name_email[0]\n",
    "    email = name_email[1]\n",
    "    addressbook[name] = email\n",
    "f.close()"
   ]
  },
  {
   "cell_type": "code",
   "execution_count": 11,
   "metadata": {
    "collapsed": false
   },
   "outputs": [
    {
     "name": "stdout",
     "output_type": "stream",
     "text": [
      "Guus -> guus.bertens@hiddenaddr.es\n",
      "Filippo -> filippo.cosi@cantreach.it\n",
      "MPIDS -> info@ds.mpg.de\n",
      "GAU -> info@uni-goettingen.de\n",
      "Torsten -> torsten.eckstein@doesntexist.com\n"
     ]
    }
   ],
   "source": [
    "# 3.b\n",
    "for name, email in addressbook.items():\n",
    "    print('{} -> {}'.format(name, email))"
   ]
  },
  {
   "cell_type": "code",
   "execution_count": 12,
   "metadata": {
    "collapsed": false
   },
   "outputs": [
    {
     "name": "stdout",
     "output_type": "stream",
     "text": [
      "Who can I lookup for you? Guus\n",
      "I found: Guus -> guus.bertens@hiddenaddr.es\n"
     ]
    }
   ],
   "source": [
    "# 3.c\n",
    "who = input('Who can I lookup for you? ')\n",
    "if who in addressbook:\n",
    "    print('I found: {} -> {}'.format(who,addressbook[who]))\n",
    "else:\n",
    "    print('No results for {}.'.format(who))"
   ]
  }
 ],
 "metadata": {
  "kernelspec": {
   "display_name": "Python 3",
   "language": "python",
   "name": "python3"
  },
  "language_info": {
   "codemirror_mode": {
    "name": "ipython",
    "version": 3
   },
   "file_extension": ".py",
   "mimetype": "text/x-python",
   "name": "python",
   "nbconvert_exporter": "python",
   "pygments_lexer": "ipython3",
   "version": "3.5.3"
  }
 },
 "nbformat": 4,
 "nbformat_minor": 1
}
