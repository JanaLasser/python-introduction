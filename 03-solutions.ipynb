{
 "cells": [
  {
   "cell_type": "markdown",
   "metadata": {},
   "source": [
    "<a name='loesung03'></a>Solutions exercise 03\n",
    "==="
   ]
  },
  {
   "cell_type": "code",
   "execution_count": null,
   "metadata": {},
   "outputs": [],
   "source": [
    "# 1.a\n",
    "number = 3\n",
    "if number % 3 == 0:\n",
    "    print('number is divisible by 3')"
   ]
  },
  {
   "cell_type": "code",
   "execution_count": null,
   "metadata": {},
   "outputs": [],
   "source": [
    "# 1.b\n",
    "word = 'test'\n",
    "if 'e' in word and len(word) < 5:\n",
    "    print('e in \"{}\" and \"{}\" < 5'.format(word, word))"
   ]
  },
  {
   "cell_type": "code",
   "execution_count": null,
   "metadata": {},
   "outputs": [],
   "source": [
    "# 2.1\n",
    "numbers = [0,1,2,3,4,5,6,7,8,9,10,11,12,13,14,15,16,17,18,19,20]\n",
    "# or:\n",
    "numbers = list(range(0,21))\n",
    "\n",
    "# iterate all numbers in the list\n",
    "for number in numbers:\n",
    "    \n",
    "    # case for zero\n",
    "    if number == 0:\n",
    "        print('found zero!')\n",
    "        \n",
    "    # case for even numbers\n",
    "    elif number % 2 == 0:\n",
    "        print('{} is an even number!'.format(number))\n",
    "        # special case for two (even AND a prime)\n",
    "        if number == 2:\n",
    "            print('{} is a prime number!'.format(number))\n",
    "    \n",
    "    # case for prime numbers\n",
    "    else:\n",
    "        # we start with the idea that the number\n",
    "        # is a prime and then check whether the opposite is true\n",
    "        prime = True\n",
    "        \n",
    "        # iterate all numbers we had until now and\n",
    "        # check whether number is divisible by one of them\n",
    "        for factor in numbers[2:number]: \n",
    "            if number % factor == 0:\n",
    "                # if yes, set prime to false\n",
    "                prime = False\n",
    "        \n",
    "        # If we did not find a number that fulfills our \n",
    "        # condition, the current number is a prime\n",
    "        if prime:\n",
    "            print('{} is a prime number!'.format(number))"
   ]
  }
 ],
 "metadata": {
  "kernelspec": {
   "display_name": "Python 3",
   "language": "python",
   "name": "python3"
  },
  "language_info": {
   "codemirror_mode": {
    "name": "ipython",
    "version": 3
   },
   "file_extension": ".py",
   "mimetype": "text/x-python",
   "name": "python",
   "nbconvert_exporter": "python",
   "pygments_lexer": "ipython3",
   "version": "3.6.1"
  }
 },
 "nbformat": 4,
 "nbformat_minor": 2
}
