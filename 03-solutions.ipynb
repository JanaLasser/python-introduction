{
 "cells": [
  {
   "cell_type": "markdown",
   "metadata": {},
   "source": [
    "<a name='loesung03'></a>Solutions exercise 03\n",
    "==="
   ]
  },
  {
   "cell_type": "code",
   "execution_count": 1,
   "metadata": {},
   "outputs": [
    {
     "name": "stdout",
     "output_type": "stream",
     "text": [
      "number is divisible by 3\n"
     ]
    }
   ],
   "source": [
    "# 1.a\n",
    "number = 3\n",
    "if number % 3 == 0:\n",
    "    print('number is divisible by 3')"
   ]
  },
  {
   "cell_type": "code",
   "execution_count": 2,
   "metadata": {},
   "outputs": [
    {
     "name": "stdout",
     "output_type": "stream",
     "text": [
      "e in \"test\" and \"test\" < 5\n"
     ]
    }
   ],
   "source": [
    "# 1.b\n",
    "word = 'test'\n",
    "if 'e' in word and len(word) < 5:\n",
    "    print('e in \"{}\" and \"{}\" < 5'.format(word, word))"
   ]
  },
  {
   "cell_type": "code",
   "execution_count": 3,
   "metadata": {},
   "outputs": [
    {
     "name": "stdout",
     "output_type": "stream",
     "text": [
      "found zero!\n",
      "1 is a prime number!\n",
      "2 is an even number!\n",
      "2 is a prime number!\n",
      "3 is a prime number!\n",
      "4 is an even number!\n",
      "5 is a prime number!\n",
      "6 is an even number!\n",
      "7 is a prime number!\n",
      "8 is an even number!\n",
      "10 is an even number!\n",
      "11 is a prime number!\n",
      "12 is an even number!\n",
      "13 is a prime number!\n",
      "14 is an even number!\n",
      "16 is an even number!\n",
      "17 is a prime number!\n",
      "18 is an even number!\n",
      "19 is a prime number!\n",
      "20 is an even number!\n"
     ]
    }
   ],
   "source": [
    "# 2.1\n",
    "numbers = [0,1,2,3,4,5,6,7,8,9,10,11,12,13,14,15,16,17,18,19,20]\n",
    "# or:\n",
    "numbers = list(range(0,21))\n",
    "\n",
    "# iterate all numbers in the list\n",
    "for number in numbers:\n",
    "    \n",
    "    # case for zero\n",
    "    if number == 0:\n",
    "        print('found zero!')\n",
    "        \n",
    "    # case for even numbers\n",
    "    elif number % 2 == 0:\n",
    "        print('{} is an even number!'.format(number))\n",
    "        # special case for two (even AND a prime)\n",
    "        if number == 2:\n",
    "            print('{} is a prime number!'.format(number))\n",
    "    \n",
    "    # case for prime numbers\n",
    "    else:\n",
    "        # we start with the idea that the number\n",
    "        # is a prime and then check whether the opposite is true\n",
    "        prime = True\n",
    "        \n",
    "        # iterate all numbers we had until now and\n",
    "        # check whether number is divisible by one of them\n",
    "        for factor in numbers[2:number]: \n",
    "            if number % factor == 0:\n",
    "                # if yes, set prime to false\n",
    "                prime = False\n",
    "        \n",
    "        # If we did not find a number that fulfills our \n",
    "        # condition, the current number is a prime\n",
    "        if prime:\n",
    "            print('{} is a prime number!'.format(number))"
   ]
  }
 ],
 "metadata": {
  "kernelspec": {
   "display_name": "Python 3",
   "language": "python",
   "name": "python3"
  },
  "language_info": {
   "codemirror_mode": {
    "name": "ipython",
    "version": 3
   },
   "file_extension": ".py",
   "mimetype": "text/x-python",
   "name": "python",
   "nbconvert_exporter": "python",
   "pygments_lexer": "ipython3",
   "version": "3.5.2"
  }
 },
 "nbformat": 4,
 "nbformat_minor": 2
}
