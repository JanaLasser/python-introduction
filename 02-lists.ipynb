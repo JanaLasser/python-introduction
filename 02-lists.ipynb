{
 "cells": [
  {
   "cell_type": "markdown",
   "metadata": {},
   "source": [
    "<a name=\"top\"></a>Overview: Lists\n",
    "==="
   ]
  },
  {
   "cell_type": "markdown",
   "metadata": {},
   "source": [
    "* [Lists](#listen)\n",
    "  * [Index](#index)\n",
    "  * [Iterating lists](#iteration)\n",
    "  * [Break & Continue](#beakcontinue)\n",
    "  * [Slicing](#slicing)\n",
    "  * [Copying](#kopieren)\n",
    "* [Exercise 02: lists](#uebung02)"
   ]
  },
  {
   "cell_type": "markdown",
   "metadata": {},
   "source": [
    "**Learning goals:** By the end or this lecture you will\n",
    "* have learned the concept of an _iterable_ container in Python\n",
    "* know how to store and access variables in lists"
   ]
  },
  {
   "cell_type": "markdown",
   "metadata": {},
   "source": [
    "<a name=\"listen\"></a>Lists\n",
    "==="
   ]
  },
  {
   "cell_type": "markdown",
   "metadata": {},
   "source": [
    "* lists are collections of items, stored in a variable\n",
    "* there is no restrictions on what can be stored in a list\n",
    "* lists are declared using squared brackets\n",
    "* items in a list are separated with commas"
   ]
  },
  {
   "cell_type": "markdown",
   "metadata": {},
   "source": [
    "_Everything in Python that can be perceived as a collection of different items is an **iterable**_ (i.e. we can _iterate_ over its items)."
   ]
  },
  {
   "cell_type": "markdown",
   "metadata": {
    "collapsed": true
   },
   "source": [
    "##### Example "
   ]
  },
  {
   "cell_type": "code",
   "execution_count": 1,
   "metadata": {},
   "outputs": [
    {
     "name": "stdout",
     "output_type": "stream",
     "text": [
      "integer is a data type in Python.\n",
      "float is a data type in Python.\n",
      "string is a data type in Python.\n",
      "list is a data type in Python.\n"
     ]
    }
   ],
   "source": [
    "# this is a list\n",
    "data_types = ['integer', 'float', 'string', 'list']\n",
    "\n",
    "# and like this you can iterate its items\n",
    "for typ in data_types:\n",
    "    print (\"{} is a data type in Python.\".format(typ))"
   ]
  },
  {
   "cell_type": "markdown",
   "metadata": {},
   "source": [
    "[top](#top)"
   ]
  },
  {
   "cell_type": "markdown",
   "metadata": {
    "collapsed": true
   },
   "source": [
    "##### List index"
   ]
  },
  {
   "cell_type": "markdown",
   "metadata": {
    "collapsed": true
   },
   "source": [
    "You can access a specific item in a list using its **index** (i.e. position) in the list.  \n",
    "**NOTE:** the list index starts with zero."
   ]
  },
  {
   "cell_type": "code",
   "execution_count": 2,
   "metadata": {},
   "outputs": [
    {
     "name": "stdout",
     "output_type": "stream",
     "text": [
      "integer\n"
     ]
    }
   ],
   "source": [
    "# access the element in position 0\n",
    "first_type = data_types[0]\n",
    "print(first_type)"
   ]
  },
  {
   "cell_type": "markdown",
   "metadata": {
    "collapsed": true
   },
   "source": [
    "You can also use negative indices to traverse the list from end to start."
   ]
  },
  {
   "cell_type": "code",
   "execution_count": 3,
   "metadata": {},
   "outputs": [
    {
     "name": "stdout",
     "output_type": "stream",
     "text": [
      "integer\n"
     ]
    }
   ],
   "source": [
    "# access the last element of the list\n",
    "last_type = data_types[0]\n",
    "print(last_type)"
   ]
  },
  {
   "cell_type": "markdown",
   "metadata": {},
   "source": [
    "To check the amount of obejcts in a list (its length) we can use the ```len()``` function:"
   ]
  },
  {
   "cell_type": "code",
   "execution_count": 4,
   "metadata": {},
   "outputs": [
    {
     "name": "stdout",
     "output_type": "stream",
     "text": [
      "There are 4 elements in the list data_types.\n"
     ]
    }
   ],
   "source": [
    "# length of the list data_types\n",
    "number_of_types = len(data_types)\n",
    "\n",
    "print(\"There are {} elements in the list data_types.\" \\\n",
    "      .format(number_of_types))"
   ]
  },
  {
   "cell_type": "markdown",
   "metadata": {},
   "source": [
    "If you try to access an index that lies outside the length of the list, you will get an **IndexError**:  "
   ]
  },
  {
   "cell_type": "code",
   "execution_count": 10,
   "metadata": {},
   "outputs": [
    {
     "ename": "IndexError",
     "evalue": "list index out of range",
     "output_type": "error",
     "traceback": [
      "\u001b[0;31m---------------------------------------------------------------------------\u001b[0m",
      "\u001b[0;31mIndexError\u001b[0m                                Traceback (most recent call last)",
      "\u001b[0;32m<ipython-input-10-520910a9f3ad>\u001b[0m in \u001b[0;36m<module>\u001b[0;34m()\u001b[0m\n\u001b[0;32m----> 1\u001b[0;31m \u001b[0mdata_types\u001b[0m\u001b[0;34m[\u001b[0m\u001b[0;36m4\u001b[0m\u001b[0;34m]\u001b[0m\u001b[0;34m\u001b[0m\u001b[0m\n\u001b[0m",
      "\u001b[0;31mIndexError\u001b[0m: list index out of range"
     ]
    }
   ],
   "source": [
    "data_types[4]"
   ]
  },
  {
   "cell_type": "markdown",
   "metadata": {},
   "source": [
    "[top](#top)"
   ]
  },
  {
   "cell_type": "markdown",
   "metadata": {},
   "source": [
    "<a name=\"iteration\"></a>Iterating lists\n",
    "---"
   ]
  },
  {
   "cell_type": "markdown",
   "metadata": {},
   "source": [
    "Iterating lists is one of the most important concepts in Python, if you handle big amounts of data or want to automatize tasks. Even if a list has millions of elements, iterating it takes only two lines of code. This way, you can quickly write code to complete a task for every element of a list."
   ]
  },
  {
   "cell_type": "markdown",
   "metadata": {},
   "source": [
    "##### The loop"
   ]
  },
  {
   "cell_type": "markdown",
   "metadata": {},
   "source": [
    "We use a _loop_ to access all the elements in a list. A loop is a block of code that repeats itself until it runs out of items to work with, or until a certain condition is met. In this case, our loop will run four times (once for every item in our list):"
   ]
  },
  {
   "cell_type": "code",
   "execution_count": 15,
   "metadata": {},
   "outputs": [
    {
     "name": "stdout",
     "output_type": "stream",
     "text": [
      "integer\n",
      "float\n",
      "string\n",
      "list\n"
     ]
    }
   ],
   "source": [
    "for typ in data_types:\n",
    "    print(typ)"
   ]
  },
  {
   "cell_type": "markdown",
   "metadata": {},
   "source": [
    "What happened?\n",
    "* ```for``` is a _keyword_ in python that is used to start a _loop_.\n",
    "* ```typ``` is a temporary variable that is only known to the program _within_ the loop.\n",
    "* The temporary variable has the value of each of the items in the list for each run of the loop respectively.\n",
    "* The loop will run four times as the number of items in the list is four and then finish.  \n",
    "\n",
    "The ```for``` keyword is also an example of a control element (more on that later).         \n",
    "**NOTE:** The colon after the first line is important! It tells python knows that the control element ends and the loop starts at this point."
   ]
  },
  {
   "cell_type": "markdown",
   "metadata": {
    "collapsed": true
   },
   "source": [
    "##### Inside and outside loops"
   ]
  },
  {
   "cell_type": "markdown",
   "metadata": {
    "collapsed": true
   },
   "source": [
    "Python uses _indentation_ to recognize which parts of the code are inside and outside a loop. Use at least a ```tab``` (although a single whitespace would suffice) to indent your code to make the structure clearly recognizeable!"
   ]
  },
  {
   "cell_type": "code",
   "execution_count": 5,
   "metadata": {},
   "outputs": [
    {
     "name": "stdout",
     "output_type": "stream",
     "text": [
      "a data type in Python:\n",
      "integer\n",
      "\n",
      "a data type in Python:\n",
      "float\n",
      "\n",
      "a data type in Python:\n",
      "string\n",
      "\n",
      "a data type in Python:\n",
      "list\n",
      "\n",
      "Now the loop is finished.\n"
     ]
    }
   ],
   "source": [
    "# control element of the loop\n",
    "for typ in data_types: \n",
    "    # here the part of the code starts\n",
    "    # that is inside the loop\n",
    "    # and gets executed four times\n",
    "    \n",
    "    # this command is the same for each iteration\n",
    "    print('a data type in Python:')\n",
    "    \n",
    "    # here the current element is displayed with a new line\n",
    "    print(typ + '\\n')    \n",
    "    \n",
    "# this line only gets executed once,\n",
    "# as it is not part of the loop\n",
    "print('Now the loop is finished.')"
   ]
  },
  {
   "cell_type": "markdown",
   "metadata": {},
   "source": [
    "You might be interested in the index of a variable in a list, not only in its value. Python has two handy ways of accessing the index.                            \n",
    "One is by using the ```index()``` function:"
   ]
  },
  {
   "cell_type": "code",
   "execution_count": 6,
   "metadata": {},
   "outputs": [
    {
     "name": "stdout",
     "output_type": "stream",
     "text": [
      "1\n"
     ]
    }
   ],
   "source": [
    "# displays the index of a specific \n",
    "# element of a list\n",
    "index = data_types.index('float')\n",
    "print(index)"
   ]
  },
  {
   "cell_type": "markdown",
   "metadata": {},
   "source": [
    "The alternative is using the ```enumerate()``` function:"
   ]
  },
  {
   "cell_type": "code",
   "execution_count": 7,
   "metadata": {},
   "outputs": [
    {
     "name": "stdout",
     "output_type": "stream",
     "text": [
      "the 0. data type is integer\n",
      "the 1. data type is float\n",
      "the 2. data type is string\n",
      "the 3. data type is list\n"
     ]
    }
   ],
   "source": [
    "# enumerate returns the value and the index\n",
    "# of each element of a list\n",
    "for index, value in enumerate(data_types):\n",
    "    print(\"the {}. data type is {}\".format(index, value))"
   ]
  },
  {
   "cell_type": "markdown",
   "metadata": {},
   "source": [
    "Of course we can modify the values ```enumerate()``` returns before we display them:"
   ]
  },
  {
   "cell_type": "code",
   "execution_count": 9,
   "metadata": {},
   "outputs": [
    {
     "name": "stdout",
     "output_type": "stream",
     "text": [
      "We prefer indices that start at 1, not at 0...\n",
      "the 1. data type is integer\n",
      "the 2. data type is float\n",
      "the 3. data type is string\n",
      "the 4. data type is list\n"
     ]
    }
   ],
   "source": [
    "print('We prefer indices that start at 1, not at 0...')\n",
    "for index, typ in enumerate(data_types):\n",
    "    print(\"the {}. data type is {}\".format(index + 1, typ))"
   ]
  },
  {
   "cell_type": "markdown",
   "metadata": {},
   "source": [
    "[top](#top)"
   ]
  },
  {
   "cell_type": "markdown",
   "metadata": {
    "collapsed": true
   },
   "source": [
    "##### Slicing lists "
   ]
  },
  {
   "cell_type": "markdown",
   "metadata": {
    "collapsed": true
   },
   "source": [
    "A very powerful concept for accessing lists is _slicing_. It allows you to access any subset of the items in the list. For this we access the list using\n",
    "* the start index of the subset\n",
    "* the end index of the subset\n",
    "* the stepsize (which is optional and 1 per default)  \n",
    "\n",
    "Syntax: ```[start : end (: step)]```"
   ]
  },
  {
   "cell_type": "code",
   "execution_count": 11,
   "metadata": {},
   "outputs": [
    {
     "name": "stdout",
     "output_type": "stream",
     "text": [
      "[1, 2, 3, 4, 5, 6, 7]\n"
     ]
    }
   ],
   "source": [
    "# let's make a new list with numbers\n",
    "numbers= [1, 2, 3, 4, 5, 6, 7]\n",
    "print(numbers)"
   ]
  },
  {
   "cell_type": "code",
   "execution_count": 12,
   "metadata": {},
   "outputs": [
    {
     "name": "stdout",
     "output_type": "stream",
     "text": [
      "[3, 4, 5]\n"
     ]
    }
   ],
   "source": [
    "# access the second to fourth element of the list\n",
    "print(numbers[2:5])"
   ]
  },
  {
   "cell_type": "markdown",
   "metadata": {},
   "source": [
    "**Note:** access is always _exclusive_ the end index!"
   ]
  },
  {
   "cell_type": "code",
   "execution_count": 13,
   "metadata": {},
   "outputs": [
    {
     "name": "stdout",
     "output_type": "stream",
     "text": [
      "[2, 4, 6]\n"
     ]
    }
   ],
   "source": [
    "# we can access all even numbers\n",
    "# by starting at the second element\n",
    "# and using a stepsize of 2\n",
    "even = numbers[1:-1:2]\n",
    "print(even)"
   ]
  },
  {
   "cell_type": "code",
   "execution_count": 14,
   "metadata": {},
   "outputs": [
    {
     "name": "stdout",
     "output_type": "stream",
     "text": [
      "[1, 2]\n"
     ]
    }
   ],
   "source": [
    "# access the first 2 elements\n",
    "print(numbers[0:2])"
   ]
  },
  {
   "cell_type": "code",
   "execution_count": 15,
   "metadata": {},
   "outputs": [
    {
     "name": "stdout",
     "output_type": "stream",
     "text": [
      "[4, 5, 6, 7]\n"
     ]
    }
   ],
   "source": [
    "# access the last 4 elements\n",
    "print(numbers[-4:])"
   ]
  },
  {
   "cell_type": "markdown",
   "metadata": {},
   "source": [
    "**Note:** If you omit the end index, Python automatically accesses all elements _to the end of the list_."
   ]
  },
  {
   "cell_type": "markdown",
   "metadata": {},
   "source": [
    "[top](#top)"
   ]
  },
  {
   "cell_type": "markdown",
   "metadata": {
    "collapsed": true
   },
   "source": [
    "##### Copying lists"
   ]
  },
  {
   "cell_type": "markdown",
   "metadata": {
    "collapsed": true
   },
   "source": [
    "You can assign list slices to variables:"
   ]
  },
  {
   "cell_type": "code",
   "execution_count": 16,
   "metadata": {},
   "outputs": [
    {
     "name": "stdout",
     "output_type": "stream",
     "text": [
      "['here', 'there']\n"
     ]
    }
   ],
   "source": [
    "# create a new list of strings\n",
    "strings = ['here', 'there', 'and', 'all', 'over']\n",
    "\n",
    "# create a slice of the list\n",
    "slc = strings[0:2]\n",
    "print(slc)"
   ]
  },
  {
   "cell_type": "markdown",
   "metadata": {},
   "source": [
    "We can copy a whole list by leaving both the start and the end index blank:"
   ]
  },
  {
   "cell_type": "code",
   "execution_count": 17,
   "metadata": {},
   "outputs": [
    {
     "name": "stdout",
     "output_type": "stream",
     "text": [
      "['here', 'there', 'and', 'all', 'over']\n"
     ]
    }
   ],
   "source": [
    "# create a copy of the list\n",
    "copied_strings = strings[:]\n",
    "print(copied_strings)"
   ]
  },
  {
   "cell_type": "markdown",
   "metadata": {},
   "source": [
    "Why is it important how to copy a list?"
   ]
  },
  {
   "cell_type": "code",
   "execution_count": 18,
   "metadata": {},
   "outputs": [
    {
     "name": "stdout",
     "output_type": "stream",
     "text": [
      "['here', 'there', 'and', 'all', 'over']\n",
      "['here', 'there', 'and', 'all', 'over']\n"
     ]
    }
   ],
   "source": [
    "# you would probbly expect that this is the way to copy a list\n",
    "new_strings = strings\n",
    "print(strings)\n",
    "print(new_strings)"
   ]
  },
  {
   "cell_type": "code",
   "execution_count": 19,
   "metadata": {},
   "outputs": [
    {
     "name": "stdout",
     "output_type": "stream",
     "text": [
      "[1, 'there', 'and', 'all', 'over']\n"
     ]
    }
   ],
   "source": [
    "# however, if we change an element of strings\n",
    "strings[0] = 1\n",
    "\n",
    "# what happens to new_strings?\n",
    "print(new_strings)"
   ]
  },
  {
   "cell_type": "code",
   "execution_count": 20,
   "metadata": {},
   "outputs": [
    {
     "name": "stdout",
     "output_type": "stream",
     "text": [
      "[1, 'there', 'and', 'all', 'over']\n",
      "[1, 'there', 'and', 'all', 'over']\n"
     ]
    }
   ],
   "source": [
    "new_strings = strings[:]\n",
    "print(new_strings)\n",
    "strings[0] = '2'\n",
    "print(new_strings)"
   ]
  },
  {
   "cell_type": "markdown",
   "metadata": {},
   "source": [
    "**IMPORTANT:** If you assign a list as a value to another list, you create only a _reference_ to that list, _not a copy_!"
   ]
  },
  {
   "cell_type": "markdown",
   "metadata": {},
   "source": [
    "This is different for the _elemental_ data types, such as numbers:"
   ]
  },
  {
   "cell_type": "code",
   "execution_count": 21,
   "metadata": {},
   "outputs": [
    {
     "name": "stdout",
     "output_type": "stream",
     "text": [
      "b before changing a: 10\n",
      "a now has the value of 14!\n",
      "b after changing a: 10\n"
     ]
    }
   ],
   "source": [
    "# just as above, we create a variable\n",
    "a = 10\n",
    "\n",
    "# and assign it to a new variable\n",
    "# however, this really creates a copy\n",
    "b = a\n",
    "\n",
    "print('b before changing a: {}'.format(b))\n",
    "\n",
    "# change the value of a\n",
    "a = 14\n",
    "print('a now has the value of {}!'.format(a))\n",
    "\n",
    "# the value of b is unchanged\n",
    "print('b after changing a: {}'.format(b))"
   ]
  },
  {
   "cell_type": "markdown",
   "metadata": {},
   "source": [
    "[top](#top)"
   ]
  },
  {
   "cell_type": "markdown",
   "metadata": {},
   "source": [
    "<a name=\"uebung02\"></a>Exercise 02: Lists\n",
    "==="
   ]
  },
  {
   "cell_type": "markdown",
   "metadata": {
    "collapsed": true
   },
   "source": [
    "\n",
    "1. **Lists and loops**\n",
    "  1. Create a list containing strings that form a sentence.\n",
    "  2. Add all the strings into a single string by looping over the list with ```for```.\n",
    "  Hint: you should define a new variable outside of the loop to save the new string.\n",
    "  3. Create a list containing the whole numbers 1 to 10. Display first all even, then all uneven elements. Display onle the first and the last 3 elements of the list.\n",
    "  4. **(Optional)**  Create a list of five numbers. Iterate the list and add the the sum of all elements of the list to each number. Save the result in a new list.\n",
    "    Hint: ```sum()``` calculates the sum of all elements of a list.\n",
    "  8. **(Optional)** Set every second element in the list to zero using a slice.\n",
    "  "
   ]
  },
  {
   "cell_type": "markdown",
   "metadata": {},
   "source": [
    "[top](#top)"
   ]
  }
 ],
 "metadata": {
  "kernelspec": {
   "display_name": "Python 3",
   "language": "python",
   "name": "python3"
  },
  "language_info": {
   "codemirror_mode": {
    "name": "ipython",
    "version": 3
   },
   "file_extension": ".py",
   "mimetype": "text/x-python",
   "name": "python",
   "nbconvert_exporter": "python",
   "pygments_lexer": "ipython3",
   "version": "3.6.1"
  }
 },
 "nbformat": 4,
 "nbformat_minor": 1
}
