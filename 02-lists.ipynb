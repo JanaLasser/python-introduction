{
 "cells": [
  {
   "cell_type": "markdown",
   "metadata": {},
   "source": [
    "<a name=\"top\"></a>Overview: Lists & Dictionaries\n",
    "==="
   ]
  },
  {
   "cell_type": "markdown",
   "metadata": {},
   "source": [
    "* [Lists](#listen)\n",
    "  * [Index](#index)\n",
    "  * [Iterating lists](#iteration)\n",
    "  * [Slicing](#slicing)\n",
    "  * [Copying](#copying)\n",
    "* [Dictionaries](#dictionaries)\n",
    "* [Exercise 02: lists](#uebung02)"
   ]
  },
  {
   "cell_type": "markdown",
   "metadata": {},
   "source": [
    "**Learning goals:** By the end or this lecture you will\n",
    "* have learned the concept of an _iterable_ container in Python\n",
    "* know how to store and access variables in lists\n",
    "* know how to store and access variables in dictionaries"
   ]
  },
  {
   "cell_type": "markdown",
   "metadata": {},
   "source": [
    "<a name=\"listen\"></a>Lists\n",
    "==="
   ]
  },
  {
   "cell_type": "markdown",
   "metadata": {},
   "source": [
    "* lists are collections of items, stored in a variable\n",
    "* there is no restrictions on what can be stored in a list\n",
    "* lists are declared using square brackets\n",
    "* items in a list are separated with commas"
   ]
  },
  {
   "cell_type": "markdown",
   "metadata": {},
   "source": [
    "_Everything in Python that can be perceived as a collection of different items is an **iterable**_ (i.e. we can _iterate_ over its items)."
   ]
  },
  {
   "cell_type": "markdown",
   "metadata": {
    "collapsed": true
   },
   "source": [
    "##### Example "
   ]
  },
  {
   "cell_type": "code",
   "execution_count": null,
   "metadata": {},
   "outputs": [],
   "source": [
    "# this is a list\n",
    "data_types = ['integer', 'float', 'string', 'list']\n",
    "\n",
    "# and like this you can iterate its items\n",
    "for typ in data_types:\n",
    "    print (\"{} is a data type in Python.\".format(typ))"
   ]
  },
  {
   "cell_type": "markdown",
   "metadata": {},
   "source": [
    "[top](#top)"
   ]
  },
  {
   "cell_type": "markdown",
   "metadata": {
    "collapsed": true
   },
   "source": [
    "## <a name=\"index\"></a>List index"
   ]
  },
  {
   "cell_type": "markdown",
   "metadata": {
    "collapsed": true
   },
   "source": [
    "You can access a specific item in a list using its **index** (i.e. position) in the list.  \n",
    "**NOTE:** the list index starts with zero."
   ]
  },
  {
   "cell_type": "code",
   "execution_count": null,
   "metadata": {},
   "outputs": [],
   "source": [
    "# access the element in position 0\n",
    "first_type = data_types[0]\n",
    "print(first_type)"
   ]
  },
  {
   "cell_type": "markdown",
   "metadata": {
    "collapsed": true
   },
   "source": [
    "You can also use negative indices to traverse the list from end to start."
   ]
  },
  {
   "cell_type": "code",
   "execution_count": null,
   "metadata": {},
   "outputs": [],
   "source": [
    "# access the last element of the list\n",
    "last_type = data_types[-1]\n",
    "print(last_type)"
   ]
  },
  {
   "cell_type": "markdown",
   "metadata": {},
   "source": [
    "To check the amount of objects in a list (its length) we can use the ```len()``` function:"
   ]
  },
  {
   "cell_type": "code",
   "execution_count": null,
   "metadata": {},
   "outputs": [],
   "source": [
    "# length of the list data_types\n",
    "number_of_types = len(data_types)\n",
    "\n",
    "print(\"There are {} elements in the list data_types.\" \\\n",
    "      .format(number_of_types))"
   ]
  },
  {
   "cell_type": "markdown",
   "metadata": {},
   "source": [
    "If you try to access an index that lies outside the length of the list, you will get an **IndexError**:  "
   ]
  },
  {
   "cell_type": "code",
   "execution_count": null,
   "metadata": {},
   "outputs": [],
   "source": [
    "data_types[4]"
   ]
  },
  {
   "cell_type": "markdown",
   "metadata": {},
   "source": [
    "[top](#top)"
   ]
  },
  {
   "cell_type": "markdown",
   "metadata": {},
   "source": [
    "## <a name=\"iteration\"></a>Iterating lists"
   ]
  },
  {
   "cell_type": "markdown",
   "metadata": {},
   "source": [
    "Iterating lists is one of the most important concepts in Python, if you handle big amounts of data or want to automate tasks. Even if a list has millions of elements, iterating through it takes only two lines of code. This way, you can quickly write code to complete a task for every element of a list."
   ]
  },
  {
   "cell_type": "markdown",
   "metadata": {},
   "source": [
    "##### The loop"
   ]
  },
  {
   "cell_type": "markdown",
   "metadata": {},
   "source": [
    "We use a _loop_ to access all the elements in a list. A loop is a block of code that repeats itself until it runs out of items to work with, or until a certain condition is met. In this case, our loop will run four times (once for every item in our list):"
   ]
  },
  {
   "cell_type": "code",
   "execution_count": null,
   "metadata": {},
   "outputs": [],
   "source": [
    "for typ in data_types:\n",
    "    print(typ)"
   ]
  },
  {
   "cell_type": "markdown",
   "metadata": {},
   "source": [
    "What happened?\n",
    "* ```for``` is a _keyword_ in python that is used to start a _loop_.\n",
    "* ```typ``` is a temporary variable that is only known to the program _within_ the loop.\n",
    "* The temporary variable has the value of each of the items in the list for each run of the loop respectively.\n",
    "* The loop will run four times as the number of items in the list is four and then finish.  \n",
    "\n",
    "The ```for``` keyword is also an example of a control element (more on that later).         \n",
    "**NOTE:** The colon after the first line is important! It tells python knows that the control element ends and the loop body starts at this point."
   ]
  },
  {
   "cell_type": "markdown",
   "metadata": {
    "collapsed": true
   },
   "source": [
    "##### Inside and outside loops"
   ]
  },
  {
   "cell_type": "markdown",
   "metadata": {
    "collapsed": true
   },
   "source": [
    "Python uses _indentation_ to recognize which parts of the code are inside the loop (the loop body) and outside the loop. Use at least a ```tab``` (although a single whitespace would suffice) to indent your code to make the structure clearly recognizeable!"
   ]
  },
  {
   "cell_type": "code",
   "execution_count": null,
   "metadata": {},
   "outputs": [],
   "source": [
    "# control element of the loop\n",
    "for typ in data_types: \n",
    "    # here the loop body starts.\n",
    "    # it is the part of the code\n",
    "    # that is inside the loop\n",
    "    # and gets executed four times\n",
    "    \n",
    "    # this command is the same for each iteration\n",
    "    print('a data type in Python:')\n",
    "    \n",
    "    # here the current element is displayed with a new line\n",
    "    print(typ + '\\n')\n",
    "    \n",
    "# this line only gets executed once,\n",
    "# as it is not part of the loop body\n",
    "print('Now the loop is finished.')"
   ]
  },
  {
   "cell_type": "markdown",
   "metadata": {},
   "source": [
    "You might be interested in the index of a variable in a list, not only in its value. Python has two handy ways of accessing the index.                            \n",
    "One is by using the ```index()``` function:"
   ]
  },
  {
   "cell_type": "code",
   "execution_count": null,
   "metadata": {},
   "outputs": [],
   "source": [
    "# displays the index of a specific \n",
    "# element of a list\n",
    "index = data_types.index('float')\n",
    "print(index)"
   ]
  },
  {
   "cell_type": "markdown",
   "metadata": {},
   "source": [
    "The alternative is using the ```enumerate()``` function:"
   ]
  },
  {
   "cell_type": "code",
   "execution_count": null,
   "metadata": {},
   "outputs": [],
   "source": [
    "# enumerate returns the value and the index\n",
    "# of each element of a list\n",
    "for index, value in enumerate(data_types):\n",
    "    print(\"the {}. data type is {}\".format(index, value))"
   ]
  },
  {
   "cell_type": "markdown",
   "metadata": {},
   "source": [
    "Of course we can modify the values ```enumerate()``` returns before we display them:"
   ]
  },
  {
   "cell_type": "code",
   "execution_count": null,
   "metadata": {},
   "outputs": [],
   "source": [
    "print('We prefer indices that start at 1, not at 0...')\n",
    "for index, typ in enumerate(data_types):\n",
    "    print(\"the {}. data type is {}\".format(index + 1, typ))"
   ]
  },
  {
   "cell_type": "markdown",
   "metadata": {},
   "source": [
    "[top](#top)"
   ]
  },
  {
   "cell_type": "markdown",
   "metadata": {
    "collapsed": true
   },
   "source": [
    "## Slicing lists<a name=\"breakcontinue\"></a>"
   ]
  },
  {
   "cell_type": "markdown",
   "metadata": {
    "collapsed": true
   },
   "source": [
    "A very powerful concept for accessing lists is _slicing_. It allows you to access any subset of the items in the list. For this we access the list using\n",
    "* the start index of the subset\n",
    "* the end index of the subset\n",
    "* the stepsize (which is optional and 1 by default)  \n",
    "\n",
    "Syntax: ```[start : end (: step)]```"
   ]
  },
  {
   "cell_type": "code",
   "execution_count": null,
   "metadata": {},
   "outputs": [],
   "source": [
    "# let's make a new list with numbers\n",
    "numbers = [1, 2, 3, 4, 5, 6, 7]\n",
    "print(numbers)"
   ]
  },
  {
   "cell_type": "code",
   "execution_count": null,
   "metadata": {},
   "outputs": [],
   "source": [
    "# access the second to fourth element of the list\n",
    "print(numbers[2:5])"
   ]
  },
  {
   "cell_type": "markdown",
   "metadata": {},
   "source": [
    "**Note:** access is always _exclusive_ the end index!"
   ]
  },
  {
   "cell_type": "code",
   "execution_count": null,
   "metadata": {},
   "outputs": [],
   "source": [
    "# we can access all even numbers\n",
    "# by starting at the second element\n",
    "# and using a stepsize of 2\n",
    "even = numbers[1::2]\n",
    "print(even)"
   ]
  },
  {
   "cell_type": "code",
   "execution_count": null,
   "metadata": {},
   "outputs": [],
   "source": [
    "# access the first 2 elements\n",
    "print(numbers[:2])"
   ]
  },
  {
   "cell_type": "code",
   "execution_count": null,
   "metadata": {},
   "outputs": [],
   "source": [
    "# access the last 4 elements\n",
    "print(numbers[-4:])"
   ]
  },
  {
   "cell_type": "markdown",
   "metadata": {},
   "source": [
    "**Note:** If you omit the start index, Python automatically accesses all elements _from the start of the list_. If you omit the end index, Python automatically accesses all elements _to the end of the list_."
   ]
  },
  {
   "cell_type": "markdown",
   "metadata": {},
   "source": [
    "[top](#top)"
   ]
  },
  {
   "cell_type": "markdown",
   "metadata": {
    "collapsed": true
   },
   "source": [
    "## Copying lists<a name=\"copying\"></a>"
   ]
  },
  {
   "cell_type": "markdown",
   "metadata": {
    "collapsed": true
   },
   "source": [
    "You can assign list slices to variables:"
   ]
  },
  {
   "cell_type": "code",
   "execution_count": null,
   "metadata": {},
   "outputs": [],
   "source": [
    "# create a new list of strings\n",
    "strings = ['here', 'there', 'and', 'all', 'over']\n",
    "\n",
    "# create a slice of the list\n",
    "slc = strings[:2]\n",
    "print(slc)"
   ]
  },
  {
   "cell_type": "markdown",
   "metadata": {},
   "source": [
    "We can copy a whole list by leaving both the start and the end index blank:"
   ]
  },
  {
   "cell_type": "code",
   "execution_count": null,
   "metadata": {},
   "outputs": [],
   "source": [
    "# create a copy of the list\n",
    "copied_strings = strings[:]\n",
    "print(copied_strings)"
   ]
  },
  {
   "cell_type": "markdown",
   "metadata": {},
   "source": [
    "Why is it important how to copy a list?"
   ]
  },
  {
   "cell_type": "code",
   "execution_count": null,
   "metadata": {},
   "outputs": [],
   "source": [
    "# you would probbly expect that this is the way to copy a list\n",
    "new_strings = strings\n",
    "print(strings)\n",
    "print(new_strings)"
   ]
  },
  {
   "cell_type": "code",
   "execution_count": null,
   "metadata": {},
   "outputs": [],
   "source": [
    "# however, if we change an element of strings\n",
    "strings[0] = 1\n",
    "\n",
    "# what happens to new_strings?\n",
    "print(new_strings)"
   ]
  },
  {
   "cell_type": "code",
   "execution_count": null,
   "metadata": {},
   "outputs": [],
   "source": [
    "new_strings = strings[:]\n",
    "print(new_strings)\n",
    "strings[0] = '2'\n",
    "print(new_strings)"
   ]
  },
  {
   "cell_type": "markdown",
   "metadata": {},
   "source": [
    "**IMPORTANT:** If you assign a list as a value to another list, you create only a _reference_ to that list, _not a copy_!"
   ]
  },
  {
   "cell_type": "markdown",
   "metadata": {},
   "source": [
    "This is different for the _elemental_ data types, such as numbers:"
   ]
  },
  {
   "cell_type": "code",
   "execution_count": null,
   "metadata": {},
   "outputs": [],
   "source": [
    "# just as above, we create a variable\n",
    "a = 10\n",
    "\n",
    "# and assign it to a new variable\n",
    "# however, this really creates a copy\n",
    "b = a\n",
    "\n",
    "print('b before changing a: {}'.format(b))\n",
    "\n",
    "# change the value of a\n",
    "a = 14\n",
    "print('a now has the value of {}!'.format(a))\n",
    "\n",
    "# the value of b is unchanged\n",
    "print('b after changing a: {}'.format(b))"
   ]
  },
  {
   "cell_type": "markdown",
   "metadata": {},
   "source": [
    "[top](#top)"
   ]
  },
  {
   "cell_type": "markdown",
   "metadata": {},
   "source": [
    "# <a name=\"dictionaries\"></a>Dictionaries"
   ]
  },
  {
   "cell_type": "markdown",
   "metadata": {},
   "source": [
    "Dictionaries share some properties with lists:\n",
    "\n",
    "* dictionaries are collections of items, stored in a variable\n",
    "* there is no restrictions on what can be stored in a dictionary\n",
    "\n",
    "In some other aspects they differ:\n",
    "\n",
    "* lists are declared using curly brackets (lists: [], dictionaries: {})\n",
    "* items in a dictionary are separated with commas\n",
    "\n",
    "Dictionaries are used to store things that you want to be able to look up, such as:\n",
    "\n",
    "* word: meaning (a classical dictionary)\n",
    "* name: phone number (a phonebook)\n",
    "* configuration: value (configuration for a program)"
   ]
  },
  {
   "cell_type": "markdown",
   "metadata": {},
   "source": [
    "##### Example"
   ]
  },
  {
   "cell_type": "code",
   "execution_count": null,
   "metadata": {},
   "outputs": [],
   "source": [
    "# this is a dictionary\n",
    "data_types = {'integer': 'whole number',\n",
    "              'float': 'number with digits behind the dot',\n",
    "              'string': 'sequence of characters',\n",
    "              'list': 'collection indexed with a number'}"
   ]
  },
  {
   "cell_type": "markdown",
   "metadata": {},
   "source": [
    "[top](#top)"
   ]
  },
  {
   "cell_type": "markdown",
   "metadata": {},
   "source": [
    "## <a name=\"dindex\"></a>Dictionary index"
   ]
  },
  {
   "cell_type": "markdown",
   "metadata": {},
   "source": [
    "Whereas lists are indexed with a number, dictionaries are indexed with a **key**!  Items are that most often used as keys, are numbers and strings."
   ]
  },
  {
   "cell_type": "code",
   "execution_count": null,
   "metadata": {},
   "outputs": [],
   "source": [
    "# access an element\n",
    "int_type = data_types['integer']\n",
    "print(int_type)"
   ]
  },
  {
   "cell_type": "markdown",
   "metadata": {
    "collapsed": true
   },
   "source": [
    "Because dictionaries are indexed by a key, which can be a number or a string or even something else, there is notion of a first or a last item.  As a result, dictionaries cannot be sliced."
   ]
  },
  {
   "cell_type": "markdown",
   "metadata": {},
   "source": [
    "To check the amount of objects in a dictionary we can use the ```len()``` function:"
   ]
  },
  {
   "cell_type": "code",
   "execution_count": null,
   "metadata": {},
   "outputs": [],
   "source": [
    "# length of the dictionary data_types\n",
    "number_of_types = len(data_types)\n",
    "\n",
    "print(\"There are {} elements in the list data_types.\"\n",
    "      .format(number_of_types))"
   ]
  },
  {
   "cell_type": "markdown",
   "metadata": {},
   "source": [
    "If you try to access a key that is not in the dictionary, you will get a **KeyError**:"
   ]
  },
  {
   "cell_type": "code",
   "execution_count": null,
   "metadata": {},
   "outputs": [],
   "source": [
    "data_types['bicycle']"
   ]
  },
  {
   "cell_type": "markdown",
   "metadata": {},
   "source": [
    "You can check if some key exists in a dictionary using the ```in``` operator:"
   ]
  },
  {
   "cell_type": "code",
   "execution_count": null,
   "metadata": {},
   "outputs": [],
   "source": [
    "if 'integer' in data_types:\n",
    "    print('integer is in data_types.')\n",
    "else:\n",
    "    print('integer is in not data_types.')\n",
    "    \n",
    "if 'bicycle' in data_types:\n",
    "    print('bicycle is in data_types.')\n",
    "else:\n",
    "    print('bicycle is not in data_types.')"
   ]
  },
  {
   "cell_type": "markdown",
   "metadata": {},
   "source": [
    "[top](#top)"
   ]
  },
  {
   "cell_type": "markdown",
   "metadata": {},
   "source": [
    "## <a name=\"diteration\"></a>Iterating dictionaries"
   ]
  },
  {
   "cell_type": "markdown",
   "metadata": {},
   "source": [
    "Just like lists, dictionaries can also be iterated.  There are three ways of doing this:\n",
    "\n",
    "* you can iterate a dictionary's keys; this the default.\n",
    "* you can iterate a dictionary's values\n",
    "* you can iterate pairs of key and value"
   ]
  },
  {
   "cell_type": "markdown",
   "metadata": {},
   "source": [
    "##### Iterating keys"
   ]
  },
  {
   "cell_type": "markdown",
   "metadata": {},
   "source": [
    "We use a _loop_ to access all the elements in a list. A loop is a block of code that repeats itself until it runs out of items to work with, or until a certain condition is met. In this case, our loop will run four times (once for every item in our list):"
   ]
  },
  {
   "cell_type": "code",
   "execution_count": null,
   "metadata": {},
   "outputs": [],
   "source": [
    "# iterate keys in the dictionary\n",
    "for key in data_types:\n",
    "    print (\"{} is a data type in Python.\".format(key))"
   ]
  },
  {
   "cell_type": "markdown",
   "metadata": {},
   "source": [
    "##### Iterating keys and values\n",
    "\n",
    "To iterate pairs of key and value in a dictionary, you can use the ```items()``` function:"
   ]
  },
  {
   "cell_type": "code",
   "execution_count": null,
   "metadata": {},
   "outputs": [],
   "source": [
    "# iterate key-and-value pairs in the dictionary\n",
    "for key, value in data_types.items():\n",
    "    print (\"{} is a {}.\".format(key,value))"
   ]
  },
  {
   "cell_type": "markdown",
   "metadata": {},
   "source": [
    "Of course you can also iterate over only keys, and then get the corresponding values by indexing the dictionary.  Note that this is slower than the above!"
   ]
  },
  {
   "cell_type": "code",
   "execution_count": null,
   "metadata": {},
   "outputs": [],
   "source": [
    "# iterate keys in the dictionary, and get the corresponding values manually\n",
    "# this is slower than iterating over key-value pairs!\n",
    "for key in data_types:\n",
    "    print (\"{} is a {}.\".format(key,data_types[key]))"
   ]
  },
  {
   "cell_type": "markdown",
   "metadata": {},
   "source": [
    "## <a name=\"dmodify\"></a>Modifying dictionaries\n",
    "\n",
    "Variables in dictionaries can be added, changed or removed."
   ]
  },
  {
   "cell_type": "markdown",
   "metadata": {},
   "source": [
    "##### Adding and changing variables\n",
    "\n",
    "In order to add or change a variable, index the dictionary as described above, and then assign to it:"
   ]
  },
  {
   "cell_type": "code",
   "execution_count": null,
   "metadata": {},
   "outputs": [],
   "source": [
    "data_types['dictionary'] = 'colletcion index wit kyes'\n",
    "\n",
    "for key, value in data_types.items():\n",
    "    print (\"{} is a {}.\".format(key,value))"
   ]
  },
  {
   "cell_type": "markdown",
   "metadata": {},
   "source": [
    "Woops, we made a typo.  Let's correct it:"
   ]
  },
  {
   "cell_type": "code",
   "execution_count": null,
   "metadata": {},
   "outputs": [],
   "source": [
    "print('A dictionary is a {}.'.format(data_types['dictionary']))\n",
    "data_types['dictionary'] = 'collection indexed with keys'\n",
    "print('A dictionary is a {}.'.format(data_types['dictionary']))"
   ]
  },
  {
   "cell_type": "markdown",
   "metadata": {},
   "source": [
    "##### Removing variables\n",
    "\n",
    "To remove a variable from a dictionary, use the ```del``` operator:"
   ]
  },
  {
   "cell_type": "code",
   "execution_count": null,
   "metadata": {},
   "outputs": [],
   "source": [
    "del data_types['dictionary']\n",
    "\n",
    "for key, value in data_types.items():\n",
    "    print (\"{} is a {}.\".format(key,value))"
   ]
  },
  {
   "cell_type": "markdown",
   "metadata": {},
   "source": [
    "[top](#top)"
   ]
  },
  {
   "cell_type": "markdown",
   "metadata": {},
   "source": [
    "<a name=\"uebung02\"></a>Exercise 02: Lists & Dictionaries\n",
    "==="
   ]
  },
  {
   "cell_type": "markdown",
   "metadata": {
    "collapsed": true
   },
   "source": [
    "1. **Lists and loops**\n",
    "  1. Create a list containing strings that form a sentence.\n",
    "  2. Add all the strings into a single string by looping over the list with ```for```.\n",
    "  Hint: you should define a new variable outside of the loop to save the new string.\n",
    "  3. Create a list containing the integer numbers 1 to 10. Display first all even, then all odd elements. Display only the first and the last 3 elements of the list.\n",
    "  4. **(Optional)**  Create a list of five numbers. Iterate the list and add the the sum of all elements of the list to each number. Save the result in a new list.\n",
    "    Hint: ```sum()``` calculates the sum of all elements of a list.\n",
    "  5. **(Optional)** Set every second element in the list to zero using a slice.\n",
    "\n",
    "2. **Dictionaries**\n",
    "  1. Create a dictionary that contains the names and e-mail addresses of the tutors.  The names should be used as keys.\n",
    "  2. Create a new dictionary also with names and e-mail addresses, but now use the e-mail addresses as keys.  Make the new dictionary by looping over the previous exercise's dictionary with ```for```.\n",
    "  3. Add the names and email addresses of your neighbours to previous exercise's dictionary.\n",
    "  4. Print the new dictionary by looping over it with ```for```."
   ]
  },
  {
   "cell_type": "markdown",
   "metadata": {},
   "source": [
    "[top](#top)"
   ]
  }
 ],
 "metadata": {
  "kernelspec": {
   "display_name": "Python 3",
   "language": "python",
   "name": "python3"
  },
  "language_info": {
   "codemirror_mode": {
    "name": "ipython",
    "version": 3
   },
   "file_extension": ".py",
   "mimetype": "text/x-python",
   "name": "python",
   "nbconvert_exporter": "python",
   "pygments_lexer": "ipython3",
   "version": "3.6.2"
  }
 },
 "nbformat": 4,
 "nbformat_minor": 1
}
