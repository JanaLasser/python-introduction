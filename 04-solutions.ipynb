{
 "cells": [
  {
   "cell_type": "markdown",
   "metadata": {},
   "source": [
    "<a name=\"loesung04\"></a>Solutions exercise 04\n",
    "==="
   ]
  },
  {
   "cell_type": "code",
   "execution_count": null,
   "metadata": {},
   "outputs": [],
   "source": [
    "# 1.a\n",
    "names = ['Jana']\n",
    "names.append('Katrin')\n",
    "names.append('Bianca')\n",
    "names.insert(2,'Susanne')\n",
    "names.extend(['Sophia'])\n",
    "print(names)"
   ]
  },
  {
   "cell_type": "code",
   "execution_count": null,
   "metadata": {},
   "outputs": [],
   "source": [
    "# 1.b\n",
    "new_list = []\n",
    "for name, index in enumerate(names):\n",
    "    new_list.append(index * name)\n",
    "    \n",
    "print(new_list)"
   ]
  },
  {
   "cell_type": "code",
   "execution_count": null,
   "metadata": {},
   "outputs": [],
   "source": [
    "# 1.c\n",
    "characters = 0\n",
    "for name in names:\n",
    "    characters = characters + len(name)\n",
    "    \n",
    "print('Length of the list: {}, Number of characters: {}'\\\n",
    "      .format(len(names), characters))"
   ]
  },
  {
   "cell_type": "code",
   "execution_count": null,
   "metadata": {},
   "outputs": [],
   "source": [
    "# 1.d\n",
    "even_numbers = list(range(2,51,2))\n",
    "print(even_numbers)\n",
    "\n",
    "summ = 0\n",
    "for number in even_numbers:\n",
    "    summ = summ + number\n",
    "\n",
    "print('Sum from the loop: {}, Sum from sum(): {}'\\\n",
    "     .format(summ, sum(even_numbers)))"
   ]
  },
  {
   "cell_type": "code",
   "execution_count": null,
   "metadata": {},
   "outputs": [],
   "source": [
    "# 2.a\n",
    "cubes = [number ** 3 for number in range(0,11)]\n",
    "print(cubes)"
   ]
  },
  {
   "cell_type": "code",
   "execution_count": null,
   "metadata": {},
   "outputs": [],
   "source": [
    "# 2.b\n",
    "fibonacci = [0, 1]\n",
    "\n",
    "for i in range(1,101):\n",
    "    fibonacci.append(fibonacci[i] + fibonacci[i - 1])\n",
    "    \n",
    "print(fibonacci)"
   ]
  }
 ],
 "metadata": {
  "kernelspec": {
   "display_name": "Python 3",
   "language": "python",
   "name": "python3"
  },
  "language_info": {
   "codemirror_mode": {
    "name": "ipython",
    "version": 3
   },
   "file_extension": ".py",
   "mimetype": "text/x-python",
   "name": "python",
   "nbconvert_exporter": "python",
   "pygments_lexer": "ipython3",
   "version": "3.6.1"
  }
 },
 "nbformat": 4,
 "nbformat_minor": 2
}
