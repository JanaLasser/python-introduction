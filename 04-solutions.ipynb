{
 "cells": [
  {
   "cell_type": "markdown",
   "metadata": {},
   "source": [
    "<a name=\"loesung04\"></a>Solutions exercise 04\n",
    "==="
   ]
  },
  {
   "cell_type": "code",
   "execution_count": 2,
   "metadata": {},
   "outputs": [
    {
     "name": "stdout",
     "output_type": "stream",
     "text": [
      "['Jana', 'Katrin', 'Susanne', 'Bianca', 'Sophia']\n"
     ]
    }
   ],
   "source": [
    "# 1.a\n",
    "names = ['Jana']\n",
    "names.append('Katrin')\n",
    "names.append('Bianca')\n",
    "names.insert(2,'Susanne')\n",
    "names.extend(['Sophia'])\n",
    "print(names)"
   ]
  },
  {
   "cell_type": "code",
   "execution_count": 3,
   "metadata": {},
   "outputs": [
    {
     "name": "stdout",
     "output_type": "stream",
     "text": [
      "['', 'Katrin', 'SusanneSusanne', 'BiancaBiancaBianca', 'SophiaSophiaSophiaSophia']\n"
     ]
    }
   ],
   "source": [
    "# 1.b\n",
    "new_list = []\n",
    "for name, index in enumerate(names):\n",
    "    new_list.append(index * name)\n",
    "    \n",
    "print(new_list)"
   ]
  },
  {
   "cell_type": "code",
   "execution_count": 6,
   "metadata": {},
   "outputs": [
    {
     "name": "stdout",
     "output_type": "stream",
     "text": [
      "Length of the list: 5, Number of characters: 29\n"
     ]
    }
   ],
   "source": [
    "# 1.c\n",
    "characters = 0\n",
    "for name in names:\n",
    "    characters = characters + len(name)\n",
    "    \n",
    "print('Length of the list: {}, Number of characters: {}'\\\n",
    "      .format(len(names), characters))"
   ]
  },
  {
   "cell_type": "code",
   "execution_count": 2,
   "metadata": {},
   "outputs": [
    {
     "name": "stdout",
     "output_type": "stream",
     "text": [
      "[2, 4, 6, 8, 10, 12, 14, 16, 18, 20, 22, 24, 26, 28, 30, 32, 34, 36, 38, 40, 42, 44, 46, 48, 50]\n",
      "Sum from the loop: 650, Sum from sum(): 650\n"
     ]
    }
   ],
   "source": [
    "# 1.d\n",
    "even_numbers = list(range(2,51,2))\n",
    "print(even_numbers)\n",
    "\n",
    "summ = 0\n",
    "for number in even_numbers:\n",
    "    summ = summ + number\n",
    "\n",
    "print('Sum from the loop: {}, Sum from sum(): {}'\\\n",
    "     .format(summ, sum(even_numbers)))"
   ]
  },
  {
   "cell_type": "code",
   "execution_count": 9,
   "metadata": {},
   "outputs": [
    {
     "name": "stdout",
     "output_type": "stream",
     "text": [
      "[0, 1, 8, 27, 64, 125, 216, 343, 512, 729, 1000]\n"
     ]
    }
   ],
   "source": [
    "# 2.a\n",
    "cubes = [number ** 3 for number in range(0,11)]\n",
    "print(cubes)"
   ]
  },
  {
   "cell_type": "code",
   "execution_count": 1,
   "metadata": {},
   "outputs": [
    {
     "name": "stdout",
     "output_type": "stream",
     "text": [
      "[0, 1, 1, 2, 3, 5, 8, 13, 21, 34, 55, 89, 144, 233, 377, 610, 987, 1597, 2584, 4181, 6765, 10946, 17711, 28657, 46368, 75025, 121393, 196418, 317811, 514229, 832040, 1346269, 2178309, 3524578, 5702887, 9227465, 14930352, 24157817, 39088169, 63245986, 102334155, 165580141, 267914296, 433494437, 701408733, 1134903170, 1836311903, 2971215073, 4807526976, 7778742049, 12586269025, 20365011074, 32951280099, 53316291173, 86267571272, 139583862445, 225851433717, 365435296162, 591286729879, 956722026041, 1548008755920, 2504730781961, 4052739537881, 6557470319842, 10610209857723, 17167680177565, 27777890035288, 44945570212853, 72723460248141, 117669030460994, 190392490709135, 308061521170129, 498454011879264, 806515533049393, 1304969544928657, 2111485077978050, 3416454622906707, 5527939700884757, 8944394323791464, 14472334024676221, 23416728348467685, 37889062373143906, 61305790721611591, 99194853094755497, 160500643816367088, 259695496911122585, 420196140727489673, 679891637638612258, 1100087778366101931, 1779979416004714189, 2880067194370816120, 4660046610375530309, 7540113804746346429, 12200160415121876738, 19740274219868223167, 31940434634990099905, 51680708854858323072, 83621143489848422977, 135301852344706746049, 218922995834555169026, 354224848179261915075, 573147844013817084101]\n"
     ]
    }
   ],
   "source": [
    "# 2.b\n",
    "fibonacci = [0, 1]\n",
    "\n",
    "for i in range(1,101):\n",
    "    fibonacci.append(fibonacci[i] + fibonacci[i - 1])\n",
    "    \n",
    "print(fibonacci)"
   ]
  }
 ],
 "metadata": {
  "kernelspec": {
   "display_name": "Python 3",
   "language": "python",
   "name": "python3"
  },
  "language_info": {
   "codemirror_mode": {
    "name": "ipython",
    "version": 3
   },
   "file_extension": ".py",
   "mimetype": "text/x-python",
   "name": "python",
   "nbconvert_exporter": "python",
   "pygments_lexer": "ipython3",
   "version": "3.5.2"
  }
 },
 "nbformat": 4,
 "nbformat_minor": 2
}
