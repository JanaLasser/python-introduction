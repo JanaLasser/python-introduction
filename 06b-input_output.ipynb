{
 "cells": [
  {
   "cell_type": "markdown",
   "metadata": {},
   "source": [
    "<a name=\"top\"></a>Overview: Dictionaries & I/O\n",
    "==="
   ]
  },
  {
   "cell_type": "markdown",
   "metadata": {},
   "source": [
    "* [Dictionaries](#dictionaries)\n",
    "  * [Indexing](#dindex)\n",
    "  * [Iterating](#diteration)\n",
    "  * [Modifying](#dmodify)\n",
    "* [Input/Output](#inputoutput)\n",
    "  * [Reading files](#reading)\n",
    "  * [Writing files](#writing)\n",
    "  * [User interaction](#userinteraction)\n",
    "* [Exercise 06b: Dictionaries & I/O](#exercise06b)"
   ]
  },
  {
   "cell_type": "markdown",
   "metadata": {},
   "source": [
    "**Learning Goals:** After this lecture you\n",
    "* know how to store and access variables in dictionaries\n",
    "* can read from and write to files\n",
    "* can interact with the user"
   ]
  },
  {
   "cell_type": "markdown",
   "metadata": {},
   "source": [
    "# <a name=\"dictionaries\"></a>Dictionaries"
   ]
  },
  {
   "cell_type": "markdown",
   "metadata": {},
   "source": [
    "Dictionaries share some properties with lists:\n",
    "\n",
    "* dictionaries are collections of items, stored in a variable\n",
    "* there is no restrictions on what can be stored in a dictionary\n",
    "\n",
    "In some other aspects they differ:\n",
    "\n",
    "* lists are declared using curly brackets (lists: [], dictionaries: {})\n",
    "* items in a dictionary are separated with commas\n",
    "\n",
    "Dictionaries are used to store things that you want to be able to look up, such as:\n",
    "\n",
    "* word: meaning (a classical dictionary)\n",
    "* name: phone number (a phonebook)\n",
    "* configuration: value (configuration for a program)"
   ]
  },
  {
   "cell_type": "markdown",
   "metadata": {},
   "source": [
    "##### Example"
   ]
  },
  {
   "cell_type": "code",
   "execution_count": null,
   "metadata": {
    "collapsed": true
   },
   "outputs": [],
   "source": [
    "# this is a dictionary\n",
    "data_types = {'integer': 'whole number',\n",
    "              'float': 'number with digits behind the dot',\n",
    "              'string': 'sequence of characters',\n",
    "              'list': 'collection indexed with a number'}"
   ]
  },
  {
   "cell_type": "markdown",
   "metadata": {},
   "source": [
    "[top](#top)"
   ]
  },
  {
   "cell_type": "markdown",
   "metadata": {},
   "source": [
    "## <a name=\"dindex\"></a>Dictionary index"
   ]
  },
  {
   "cell_type": "markdown",
   "metadata": {},
   "source": [
    "Whereas lists are indexed with a number, dictionaries are indexed with a **key**!  Items are that most often used as keys, are numbers and strings."
   ]
  },
  {
   "cell_type": "code",
   "execution_count": null,
   "metadata": {
    "collapsed": true
   },
   "outputs": [],
   "source": [
    "# access an element\n",
    "int_type = data_types['integer']\n",
    "print(int_type)"
   ]
  },
  {
   "cell_type": "markdown",
   "metadata": {
    "collapsed": true
   },
   "source": [
    "Because dictionaries are indexed by a key, which can be a number or a string or even something else, there is notion of a first or a last item.  As a result, dictionaries cannot be sliced."
   ]
  },
  {
   "cell_type": "markdown",
   "metadata": {},
   "source": [
    "To check the amount of objects in a dictionary we can use the ```len()``` function:"
   ]
  },
  {
   "cell_type": "code",
   "execution_count": null,
   "metadata": {
    "collapsed": true
   },
   "outputs": [],
   "source": [
    "# length of the dictionary data_types\n",
    "number_of_types = len(data_types)\n",
    "\n",
    "print(\"There are {} elements in the list data_types.\"\n",
    "      .format(number_of_types))"
   ]
  },
  {
   "cell_type": "markdown",
   "metadata": {},
   "source": [
    "If you try to access a key that is not in the dictionary, you will get a **KeyError**:"
   ]
  },
  {
   "cell_type": "code",
   "execution_count": null,
   "metadata": {
    "collapsed": true
   },
   "outputs": [],
   "source": [
    "data_types['bicycle']"
   ]
  },
  {
   "cell_type": "markdown",
   "metadata": {},
   "source": [
    "You can check if some key exists in a dictionary using the ```in``` operator:"
   ]
  },
  {
   "cell_type": "code",
   "execution_count": null,
   "metadata": {
    "collapsed": true
   },
   "outputs": [],
   "source": [
    "if 'integer' in data_types:\n",
    "    print('integer is in data_types.')\n",
    "else:\n",
    "    print('integer is in not data_types.')\n",
    "    \n",
    "if 'bicycle' in data_types:\n",
    "    print('bicycle is in data_types.')\n",
    "else:\n",
    "    print('bicycle is not in data_types.')"
   ]
  },
  {
   "cell_type": "markdown",
   "metadata": {},
   "source": [
    "[top](#top)"
   ]
  },
  {
   "cell_type": "markdown",
   "metadata": {},
   "source": [
    "## <a name=\"diteration\"></a>Iterating dictionaries"
   ]
  },
  {
   "cell_type": "markdown",
   "metadata": {},
   "source": [
    "Just like lists, dictionaries can also be iterated.  There are three ways of doing this:\n",
    "\n",
    "* you can iterate a dictionary's keys; this the default.\n",
    "* you can iterate a dictionary's values\n",
    "* you can iterate pairs of key and value"
   ]
  },
  {
   "cell_type": "markdown",
   "metadata": {},
   "source": [
    "##### Iterating keys"
   ]
  },
  {
   "cell_type": "markdown",
   "metadata": {},
   "source": [
    "We use a _loop_ to access all the elements in a list. A loop is a block of code that repeats itself until it runs out of items to work with, or until a certain condition is met. In this case, our loop will run four times (once for every item in our list):"
   ]
  },
  {
   "cell_type": "code",
   "execution_count": null,
   "metadata": {
    "collapsed": true
   },
   "outputs": [],
   "source": [
    "# iterate keys in the dictionary\n",
    "for key in data_types:\n",
    "    print (\"{} is a data type in Python.\".format(key))"
   ]
  },
  {
   "cell_type": "markdown",
   "metadata": {},
   "source": [
    "##### Iterating keys and values\n",
    "\n",
    "To iterate pairs of key and value in a dictionary, you can use the ```items()``` function:"
   ]
  },
  {
   "cell_type": "code",
   "execution_count": null,
   "metadata": {
    "collapsed": true
   },
   "outputs": [],
   "source": [
    "# iterate key-and-value pairs in the dictionary\n",
    "for key, value in data_types.items():\n",
    "    print (\"{} is a {}.\".format(key,value))"
   ]
  },
  {
   "cell_type": "markdown",
   "metadata": {},
   "source": [
    "Of course you can also iterate over only keys, and then get the corresponding values by indexing the dictionary.  Note that this is slower than the above!"
   ]
  },
  {
   "cell_type": "code",
   "execution_count": null,
   "metadata": {
    "collapsed": true
   },
   "outputs": [],
   "source": [
    "# iterate keys in the dictionary, and get the corresponding values manually\n",
    "# this is slower than iterating over key-value pairs!\n",
    "for key in data_types:\n",
    "    print (\"{} is a {}.\".format(key,data_types[key]))"
   ]
  },
  {
   "cell_type": "markdown",
   "metadata": {},
   "source": [
    "## <a name=\"dmodify\"></a>Modifying dictionaries\n",
    "\n",
    "Variables in dictionaries can be added, changed or removed."
   ]
  },
  {
   "cell_type": "markdown",
   "metadata": {},
   "source": [
    "##### Adding and changing variables\n",
    "\n",
    "In order to add or change a variable, index the dictionary as described above, and then assign to it:"
   ]
  },
  {
   "cell_type": "code",
   "execution_count": null,
   "metadata": {
    "collapsed": true
   },
   "outputs": [],
   "source": [
    "data_types['dictionary'] = 'colletcion index wit kyes'\n",
    "\n",
    "for key, value in data_types.items():\n",
    "    print (\"{} is a {}.\".format(key,value))"
   ]
  },
  {
   "cell_type": "markdown",
   "metadata": {},
   "source": [
    "Woops, we made a typo.  Let's correct it:"
   ]
  },
  {
   "cell_type": "code",
   "execution_count": null,
   "metadata": {
    "collapsed": true
   },
   "outputs": [],
   "source": [
    "print('A dictionary is a {}.'.format(data_types['dictionary']))\n",
    "data_types['dictionary'] = 'collection indexed with keys'\n",
    "print('A dictionary is a {}.'.format(data_types['dictionary']))"
   ]
  },
  {
   "cell_type": "markdown",
   "metadata": {},
   "source": [
    "##### Removing variables\n",
    "\n",
    "To remove a variable from a dictionary, use the ```del``` operator:"
   ]
  },
  {
   "cell_type": "code",
   "execution_count": null,
   "metadata": {
    "collapsed": true
   },
   "outputs": [],
   "source": [
    "del data_types['dictionary']\n",
    "\n",
    "for key, value in data_types.items():\n",
    "    print (\"{} is a {}.\".format(key,value))"
   ]
  },
  {
   "cell_type": "markdown",
   "metadata": {},
   "source": [
    "[top](#top)"
   ]
  },
  {
   "cell_type": "markdown",
   "metadata": {},
   "source": [
    "# <span id=\"inputoutput\"/>Input & Output"
   ]
  },
  {
   "cell_type": "markdown",
   "metadata": {},
   "source": [
    "## <span id=\"reading\"/>Reading files"
   ]
  },
  {
   "cell_type": "markdown",
   "metadata": {},
   "source": [
    "In the previous lesson we've already used ```open()``` to open files.  The ```open()``` function returns a **file-object** that can be be used to read from or to write to.\n",
    "\n",
    "By default a file is opened for reading text.  To read line of text, you can use the ```readline()``` function.  File objects are also **iterable**, which means that we use a ```for``` loop in order to read from them.  Both are demontrated here:"
   ]
  },
  {
   "cell_type": "code",
   "execution_count": 1,
   "metadata": {
    "collapsed": false
   },
   "outputs": [
    {
     "name": "stdout",
     "output_type": "stream",
     "text": [
      "This is a text file.\n",
      "\n",
      "It contains a number of lines,\n",
      "\n",
      "that we can read using a for loop.\n",
      "\n",
      "Lorum ipsum dolor sit amet.\n",
      "\n",
      "This is the last line, which is odd-numbered.\n",
      "\n"
     ]
    }
   ],
   "source": [
    "# Open a file for reading text.\n",
    "f = open(\"text_file.txt\")\n",
    "\n",
    "# Read a line, and print it.\n",
    "line = f.readline()\n",
    "print(line)\n",
    "\n",
    "# Iterate it and print its contents.\n",
    "for line in f:\n",
    "    print(line)\n",
    "    \n",
    "# Close the file.  (Important!!!)\n",
    "f.close()"
   ]
  },
  {
   "cell_type": "markdown",
   "metadata": {},
   "source": [
    "Finally we close the file using the ```close()``` function.  If you don't do this, your program will sooner or later crash unexplicably!\n",
    "\n",
    "Note that there are empty lines interleaved with the text.  These lines are not present in the original file.  They got there, because Python reads the newlines from the file, and then ```print()``` adds another one.  This can be solved with the ```rstrip()``` function:"
   ]
  },
  {
   "cell_type": "code",
   "execution_count": 2,
   "metadata": {
    "collapsed": false
   },
   "outputs": [
    {
     "name": "stdout",
     "output_type": "stream",
     "text": [
      "This is a text file.\n",
      "It contains a number of lines,\n",
      "that we can read using a for loop.\n",
      "Lorum ipsum dolor sit amet.\n",
      "This is the last line, which is odd-numbered.\n"
     ]
    }
   ],
   "source": [
    "# Open a file for reading text.\n",
    "f = open(\"text_file.txt\")\n",
    "\n",
    "# Read a line, and print it.  Note the addition of rstrip()!\n",
    "line = f.readline().rstrip()\n",
    "print(line)\n",
    "\n",
    "# Iterate it and print its contents.  Note the addition of rstrip()!\n",
    "for line in f:\n",
    "    line = line.rstrip()\n",
    "    print(line)\n",
    "    \n",
    "# Close the file.  (Important!!!)\n",
    "f.close()"
   ]
  },
  {
   "cell_type": "markdown",
   "metadata": {},
   "source": [
    "[top](#top)"
   ]
  },
  {
   "cell_type": "markdown",
   "metadata": {},
   "source": [
    "## <span id=\"writing\"/>Writing files"
   ]
  },
  {
   "cell_type": "markdown",
   "metadata": {},
   "source": [
    "By default a file is opened for reading text.  If we need to write to a file, we need to tell Python to open it for writing.  We can do this by passing an extra argument, ```'w'```, to ```open()```.\n",
    "\n",
    "Files that are opened for writing, can be written to using the ```print()``` function that we're already familiar with.  We can tell it what file-object to write to using the ```file=``` keyword argument."
   ]
  },
  {
   "cell_type": "code",
   "execution_count": 3,
   "metadata": {
    "collapsed": true
   },
   "outputs": [],
   "source": [
    "# Open a file for writing text.\n",
    "f = open('writing.txt','w')\n",
    "\n",
    "# Write a line of text to the file.\n",
    "print('This is a text file.', file=f)\n",
    "\n",
    "# Write a few lines to it:\n",
    "for number in range(1,6):\n",
    "    print('a number: {}'.format(number), file=f)\n",
    "    \n",
    "# And we close the file.\n",
    "f.close()"
   ]
  },
  {
   "cell_type": "markdown",
   "metadata": {},
   "source": [
    "[top](#top)"
   ]
  },
  {
   "cell_type": "markdown",
   "metadata": {},
   "source": [
    "## <span id=\"userinteraction\" />User interaction"
   ]
  },
  {
   "cell_type": "markdown",
   "metadata": {},
   "source": [
    "Sometimes you might want your program to talk with the user.  If you just want to give some information to the user, you can use the ```print()``` function.  Using the ```input()``` function we can also get information from the user.\n",
    "\n",
    "The ```input()``` function asks the user a questions, and waits for input.  The input is returned as a string."
   ]
  },
  {
   "cell_type": "code",
   "execution_count": 4,
   "metadata": {
    "collapsed": false
   },
   "outputs": [
    {
     "name": "stdout",
     "output_type": "stream",
     "text": [
      "What is your name? Guus\n",
      "Your name is Guus.\n"
     ]
    }
   ],
   "source": [
    "s = input('What is your name? ')\n",
    "print('Your name is {}.'.format(s))"
   ]
  },
  {
   "cell_type": "markdown",
   "metadata": {},
   "source": [
    "Here is more elaborate example, that uses the ```split()``` function to split a string into separate words."
   ]
  },
  {
   "cell_type": "code",
   "execution_count": 5,
   "metadata": {
    "collapsed": false
   },
   "outputs": [
    {
     "name": "stdout",
     "output_type": "stream",
     "text": [
      "Can you rhyme something for me? mary had a little lamb\n",
      "word #1 is \"mary\".\n",
      "word #2 is \"had\".\n",
      "word #3 is \"a\".\n",
      "word #4 is \"little\".\n",
      "word #5 is \"lamb\".\n"
     ]
    }
   ],
   "source": [
    "s = input('Can you rhyme something for me? ')\n",
    "\n",
    "# Split the string on every space.\n",
    "words = s.split(' ')\n",
    "\n",
    "word_num = 1\n",
    "for word in words:\n",
    "    print('word #{} is \"{}\".'.format(word_num, word))\n",
    "    word_num = word_num + 1"
   ]
  },
  {
   "cell_type": "markdown",
   "metadata": {},
   "source": [
    "Here is another example, that shows you how to make decisions based on input.\n",
    "\n",
    "(Note this is very general: you can use any string here, not just input from ```input()```!)"
   ]
  },
  {
   "cell_type": "code",
   "execution_count": 6,
   "metadata": {
    "collapsed": false
   },
   "outputs": [
    {
     "name": "stdout",
     "output_type": "stream",
     "text": [
      "If you're happy and you know it, clap your? Feet\n",
      "Hmm...  I always clap my hands...\n"
     ]
    }
   ],
   "source": [
    "answer = input('If you\\'re happy and you know it, clap your? ')\n",
    "if answer == 'hands':\n",
    "    print('If you\\'re happy and you know it, stomp your feet!')\n",
    "else:\n",
    "    print('Hmm...  I always clap my hands...')"
   ]
  },
  {
   "cell_type": "markdown",
   "metadata": {},
   "source": [
    "[top](#top)"
   ]
  },
  {
   "cell_type": "markdown",
   "metadata": {},
   "source": [
    "# <span id=\"exercise06b\"/>Exercise 06b: Dictionaries & I/O"
   ]
  },
  {
   "cell_type": "markdown",
   "metadata": {},
   "source": [
    "1. **Dictionaries**\n",
    "\n",
    "  1. Create a dictionary that contains the names and e-mail addresses of the tutors.  The names should be used as keys.\n",
    "  2. Create a new dictionary also with names and e-mail addresses, but now use the e-mail addresses as keys.  Make the new dictionary by looping over the previous exercise's dictionary with ```for```.\n",
    "  3. Add the names and email addresses of your neighbours to previous exercise's dictionary.\n",
    "  4. Print the new dictionary by looping over it with ```for```.\n",
    "  \n",
    "2. **Input/Output**\n",
    "\n",
    "  In this exercise you'll write a program that reads a list of names and e-mail addresses from a file.  Your program should do the following:\n",
    "\n",
    "  1. Read the names and e-mail addresses;\n",
    "  2. Print what was read;\n",
    "  2. Ask the user for a name, and print the e-mail address corresponding to that name.\n",
    "\n",
    "  We've provided a file that contains e-mail addresses.  It's in file called `email_addresses.txt`.  Each line in this file is formatted as follows:\n",
    "\n",
    "  `[name] [e-mail-address]`\n",
    "\n",
    "  In other words, on each line name and e-mail address are separated by a space.  There are only firstnames, which means that `name` doesn't contain spaces.\n",
    "\n",
    "  You should store the list as a dictionary, so you can do easy lookups.  You can of course also use lists, but this is more cumbersome.\n",
    "\n",
    "  Hint: use the ```split()``` function to split each line into a name, and an e-mail address.  The output of ```split()``` is a list: you can index it.\n",
    "\n",
    "  Hint: string comparison is case-sensitive.  That is: 'guus' won't work, but 'Guus' will!"
   ]
  },
  {
   "cell_type": "markdown",
   "metadata": {},
   "source": [
    "[top](#top)"
   ]
  }
 ],
 "metadata": {
  "kernelspec": {
   "display_name": "Python 3",
   "language": "python",
   "name": "python3"
  },
  "language_info": {
   "codemirror_mode": {
    "name": "ipython",
    "version": 3
   },
   "file_extension": ".py",
   "mimetype": "text/x-python",
   "name": "python",
   "nbconvert_exporter": "python",
   "pygments_lexer": "ipython3",
   "version": "3.5.3"
  }
 },
 "nbformat": 4,
 "nbformat_minor": 1
}
