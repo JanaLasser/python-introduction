{
 "cells": [
  {
   "cell_type": "markdown",
   "metadata": {},
   "source": [
    "<a name=\"top\"></a>Overview: Input & Output\n",
    "==="
   ]
  },
  {
   "cell_type": "markdown",
   "metadata": {},
   "source": [
    "* [Input & Output](#inputoutput)\n",
    "  * [Reading files](#reading)\n",
    "  * [Writing files](#writing)\n",
    "  * [User interaction](#userinteraction)\n",
    "* [Exercise 06b: Input & Output](#exercise06b)"
   ]
  },
  {
   "cell_type": "markdown",
   "metadata": {},
   "source": [
    "**Learning Goals:** After this lecture you\n",
    "* can read from files\n",
    "* can write to files\n",
    "* can interact with the user"
   ]
  },
  {
   "cell_type": "markdown",
   "metadata": {},
   "source": [
    "# <span id=\"inputoutput\"/>Input & Output"
   ]
  },
  {
   "cell_type": "markdown",
   "metadata": {},
   "source": [
    "## <span id=\"reading\"/>Reading files"
   ]
  },
  {
   "cell_type": "markdown",
   "metadata": {},
   "source": [
    "In the previous lesson we've already used ```open()``` to open files.  The ```open()``` function returns a **file-object** that can be be used to read from or to write to.\n",
    "\n",
    "By default a file is opened for reading text.  To read line of text, you can use the ```readline()``` function.  File objects are also **iterable**, which means that we use a ```for``` loop in order to read from them.  Both are demontrated here:"
   ]
  },
  {
   "cell_type": "code",
   "execution_count": 1,
   "metadata": {},
   "outputs": [
    {
     "name": "stdout",
     "output_type": "stream",
     "text": [
      "This is a text file.\n",
      "\n",
      "It contains a number of lines,\n",
      "\n",
      "that we can read using a for loop.\n",
      "\n",
      "Lorum ipsum dolor sit amet.\n",
      "\n",
      "This is the last line, which is odd-numbered.\n",
      "\n"
     ]
    }
   ],
   "source": [
    "# Open a file for reading text.\n",
    "f = open(\"text_file.txt\")\n",
    "\n",
    "# Read a line, and print it.\n",
    "line = f.readline()\n",
    "print(line)\n",
    "\n",
    "# Iterate it and print its contents.\n",
    "for line in f:\n",
    "    print(line)\n",
    "    \n",
    "# Close the file.  (Important!!!)\n",
    "f.close()"
   ]
  },
  {
   "cell_type": "markdown",
   "metadata": {},
   "source": [
    "Finally we close the file using the ```close()``` function.  If you don't do this, your program will sooner or later crash unexplicably!\n",
    "\n",
    "Note that there are empty lines interleaved with the text.  These lines are not present in the original file.  They got there, because Python reads the newlines from the file, and then ```print()``` adds another one.  This can be solved with the ```rstrip()``` function:"
   ]
  },
  {
   "cell_type": "code",
   "execution_count": 2,
   "metadata": {},
   "outputs": [
    {
     "name": "stdout",
     "output_type": "stream",
     "text": [
      "This is a text file.\n",
      "It contains a number of lines,\n",
      "that we can read using a for loop.\n",
      "Lorum ipsum dolor sit amet.\n",
      "This is the last line, which is odd-numbered.\n"
     ]
    }
   ],
   "source": [
    "# Open a file for reading text.\n",
    "f = open(\"text_file.txt\")\n",
    "\n",
    "# Read a line, and print it.  Note the addition of rstrip()!\n",
    "line = f.readline().rstrip()\n",
    "print(line)\n",
    "\n",
    "# Iterate it and print its contents.  Note the addition of rstrip()!\n",
    "for line in f:\n",
    "    line = line.rstrip()\n",
    "    print(line)\n",
    "    \n",
    "# Close the file.  (Important!!!)\n",
    "f.close()"
   ]
  },
  {
   "cell_type": "markdown",
   "metadata": {},
   "source": [
    "[top](#top)"
   ]
  },
  {
   "cell_type": "markdown",
   "metadata": {},
   "source": [
    "## <span id=\"writing\"/>Writing files"
   ]
  },
  {
   "cell_type": "markdown",
   "metadata": {},
   "source": [
    "By default a file is opened for reading text.  If we need to write to a file, we need to tell Python to open it for writing.  We can do this by passing an extra argument, ```'w'```, to ```open()```.\n",
    "\n",
    "Files that are opened for writing, can be written to using the ```print()``` function that we're already familiar with.  We can tell it what file-object to write to using the ```file=``` keyword argument."
   ]
  },
  {
   "cell_type": "code",
   "execution_count": 3,
   "metadata": {},
   "outputs": [],
   "source": [
    "# Open a file for writing text.\n",
    "f = open('writing.txt','w')\n",
    "\n",
    "# Write a line of text to the file.\n",
    "print('This is a text file.', file=f)\n",
    "\n",
    "# Write a few lines to it:\n",
    "for number in range(1,6):\n",
    "    print('a number: {}'.format(number), file=f)\n",
    "    \n",
    "# And we close the file.\n",
    "f.close()"
   ]
  },
  {
   "cell_type": "markdown",
   "metadata": {},
   "source": [
    "[top](#top)"
   ]
  },
  {
   "cell_type": "markdown",
   "metadata": {},
   "source": [
    "## <span id=\"userinteraction\" />User interaction"
   ]
  },
  {
   "cell_type": "markdown",
   "metadata": {},
   "source": [
    "Sometimes you might want your program to talk with the user.  If you just want to give some information to the user, you can use the ```print()``` function.  Using the ```input()``` function we can also get information from the user.\n",
    "\n",
    "The ```input()``` function asks the user a questions, and waits for input.  The input is returned as a string."
   ]
  },
  {
   "cell_type": "code",
   "execution_count": 4,
   "metadata": {},
   "outputs": [
    {
     "name": "stdout",
     "output_type": "stream",
     "text": [
      "What is your name? Guus\n",
      "Your name is Guus.\n"
     ]
    }
   ],
   "source": [
    "s = input('What is your name? ')\n",
    "print('Your name is {}.'.format(s))"
   ]
  },
  {
   "cell_type": "markdown",
   "metadata": {},
   "source": [
    "Here is more elaborate example, that uses the ```split()``` function to split a string into separate words."
   ]
  },
  {
   "cell_type": "code",
   "execution_count": 5,
   "metadata": {},
   "outputs": [
    {
     "name": "stdout",
     "output_type": "stream",
     "text": [
      "Can you rhyme something for me? mary had a little lamb\n",
      "word #1 is \"mary\".\n",
      "word #2 is \"had\".\n",
      "word #3 is \"a\".\n",
      "word #4 is \"little\".\n",
      "word #5 is \"lamb\".\n"
     ]
    }
   ],
   "source": [
    "s = input('Can you rhyme something for me? ')\n",
    "\n",
    "# Split the string on every space.\n",
    "words = s.split(' ')\n",
    "\n",
    "word_num = 1\n",
    "for word in words:\n",
    "    print('word #{} is \"{}\".'.format(word_num, word))\n",
    "    word_num = word_num + 1"
   ]
  },
  {
   "cell_type": "markdown",
   "metadata": {},
   "source": [
    "Here is another example, that shows you how to make decisions based on input.\n",
    "\n",
    "(Note this is very general: you can use any string here, not just input from ```input()```!)"
   ]
  },
  {
   "cell_type": "code",
   "execution_count": 6,
   "metadata": {},
   "outputs": [
    {
     "name": "stdout",
     "output_type": "stream",
     "text": [
      "If you're happy and you know it, clap your? Feet\n",
      "Hmm...  I always clap my hands...\n"
     ]
    }
   ],
   "source": [
    "answer = input('If you\\'re happy and you know it, clap your? ')\n",
    "if answer == 'hands':\n",
    "    print('If you\\'re happy and you know it, stomp your feet!')\n",
    "else:\n",
    "    print('Hmm...  I always clap my hands...')"
   ]
  },
  {
   "cell_type": "markdown",
   "metadata": {},
   "source": [
    "[top](#top)"
   ]
  },
  {
   "cell_type": "markdown",
   "metadata": {},
   "source": [
    "# <span id=\"exercise06b\"/>Exercise 06b: Input & Output"
   ]
  },
  {
   "cell_type": "markdown",
   "metadata": {},
   "source": [
    "In this exercise you'll write a program that reads a list of names and e-mail addresses from a file.  Your program should do the following:\n",
    "\n",
    "1. Read the list of names and e-mail addresses;\n",
    "2. Print the list;\n",
    "2. Ask the user for a name;\n",
    "3. Look the given name, and prints the corresponding e-mail address.\n",
    "\n",
    "We've provided a file that contains e-mail addresses.  It's in file called `email_addresses.txt`.  Each line in this file is formatted as follows:\n",
    "\n",
    "`[name] [e-mail-address]`\n",
    "\n",
    "In other words, on each line name and e-mail address are separated by a space.  There are only firstnames, which means that `name` doesn't contain spaces.\n",
    "\n",
    "Hint: the list is best stored as a dictionary, so you can do easy lookups.  You can of course also use lists, but this is much more cumbersome.\n",
    "\n",
    "Hint: use the ```split()``` function to split each line into a name, and an e-mail address.  The output of ```split()``` is a list: you can index it.\n",
    "\n",
    "Hint: string comparison is case-sensitive.  That is: 'guus' won't work, but 'Guus' will!"
   ]
  },
  {
   "cell_type": "markdown",
   "metadata": {},
   "source": [
    "[top](#top)"
   ]
  }
 ],
 "metadata": {
  "kernelspec": {
   "display_name": "Python 3",
   "language": "python",
   "name": "python3"
  },
  "language_info": {
   "codemirror_mode": {
    "name": "ipython",
    "version": 3
   },
   "file_extension": ".py",
   "mimetype": "text/x-python",
   "name": "python",
   "nbconvert_exporter": "python",
   "pygments_lexer": "ipython3",
   "version": "3.6.2"
  }
 },
 "nbformat": 4,
 "nbformat_minor": 1
}
