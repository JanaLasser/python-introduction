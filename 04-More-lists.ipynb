{
 "cells": [
  {
   "cell_type": "markdown",
   "metadata": {},
   "source": [
    "<a name=\"top\"></a>Overview:More lists\n",
    "==="
   ]
  },
  {
   "cell_type": "markdown",
   "metadata": {},
   "source": [
    "* [Operations on lists](#operationen)\n",
    "  * [Adding elements](#hinzufügen)\n",
    "  * [Removing elements](#entfernen)\n",
    "  * [Empty lists](#leer)\n",
    "  * [Sorting](#sortieren)\n",
    "  * [Reverting](#umkehren)\n",
    "  * [min, max, sum](#functionalitaet)\n",
    "* [Create lists](#erzeugen) \n",
    "  * [The range() function](#range)\n",
    "  * [List comprehension](#comprehensions)\n",
    "* [Exercise 04: More lists](#uebung04) "
   ]
  },
  {
   "cell_type": "markdown",
   "metadata": {},
   "source": [
    "**Learning golas:** At the end of this lection you\n",
    "* know how to add elements to lists, remove elements from lists and sort lists\n",
    "* know how to automatically create lists of numbers\n",
    "* understand how to use list comprehension to elegantly create complicated lists "
   ]
  },
  {
   "cell_type": "markdown",
   "metadata": {},
   "source": [
    "<a name=\"operationen\"></a>Operations on lists\n",
    "==="
   ]
  },
  {
   "cell_type": "markdown",
   "metadata": {},
   "source": [
    "##### Modifying elements"
   ]
  },
  {
   "cell_type": "markdown",
   "metadata": {},
   "source": [
    "As you have seen already, we can modify the elements of a list after it has been created:"
   ]
  },
  {
   "cell_type": "code",
   "execution_count": 1,
   "metadata": {},
   "outputs": [
    {
     "name": "stdout",
     "output_type": "stream",
     "text": [
      "['cat', 'dog', 'bird', 'horse']\n",
      "['cat', 'dog', 'penguin', 'horse']\n"
     ]
    }
   ],
   "source": [
    "# create a list\n",
    "animals = ['cat', 'dog', 'bird', 'horse']\n",
    "print(animals)\n",
    "\n",
    "# assign a new value to the element 2 of the list\n",
    "animals[2] = 'penguin'\n",
    "print(animals)"
   ]
  },
  {
   "cell_type": "markdown",
   "metadata": {},
   "source": [
    "<a name=\"hinzufuegen\"></a>Adding elements\n",
    "---"
   ]
  },
  {
   "cell_type": "markdown",
   "metadata": {
    "collapsed": true
   },
   "source": [
    "If you want to add items to a list you can use\n",
    "* **insert()** to add an item at a certain position (elements after it get shifted backwards)\n",
    "* **append()** to add an item to the end of the list\n",
    "* **extend()** to append another list to your list"
   ]
  },
  {
   "cell_type": "code",
   "execution_count": 2,
   "metadata": {
    "collapsed": true
   },
   "outputs": [],
   "source": [
    "# create two new example lists\n",
    "strings = ['a', 'b', 'c']\n",
    "numbers = [1, 2, 3]"
   ]
  },
  {
   "cell_type": "code",
   "execution_count": 3,
   "metadata": {},
   "outputs": [
    {
     "name": "stdout",
     "output_type": "stream",
     "text": [
      "['a', 'b', 'c']\n",
      "['a', 'b', 'z', 'c']\n"
     ]
    }
   ],
   "source": [
    "print(strings)\n",
    "# add a new element to strings at position 2\n",
    "strings.insert(2, 'z')\n",
    "print(strings)"
   ]
  },
  {
   "cell_type": "code",
   "execution_count": 4,
   "metadata": {},
   "outputs": [
    {
     "name": "stdout",
     "output_type": "stream",
     "text": [
      "[1, 2, 3]\n",
      "[1, 2, 3, 10]\n"
     ]
    }
   ],
   "source": [
    "print(numbers)\n",
    "# append an element to numbers\n",
    "numbers.append(10)\n",
    "print(numbers)"
   ]
  },
  {
   "cell_type": "code",
   "execution_count": 5,
   "metadata": {},
   "outputs": [
    {
     "name": "stdout",
     "output_type": "stream",
     "text": [
      "['a', 'b', 'z', 'c', 1, 2, 3, 10]\n"
     ]
    }
   ],
   "source": [
    "# append the list numbers to the list strings\n",
    "strings.extend(numbers)\n",
    "print(strings)"
   ]
  },
  {
   "cell_type": "code",
   "execution_count": 6,
   "metadata": {},
   "outputs": [
    {
     "name": "stdout",
     "output_type": "stream",
     "text": [
      "[1, 2, 3, 10, 'a', 'b', 'z', 'c', 1, 2, 3, 10]\n"
     ]
    }
   ],
   "source": [
    "numbers.extend(strings)\n",
    "print(numbers)"
   ]
  },
  {
   "cell_type": "markdown",
   "metadata": {},
   "source": [
    "<a name=\"entfernen\"></a>Removing elements\n",
    "---"
   ]
  },
  {
   "cell_type": "markdown",
   "metadata": {
    "collapsed": true
   },
   "source": [
    "If you want to remove items from a list, you can use\n",
    "* **remove()** to remove a certain item by value\n",
    "* **del** to remove an item at a certain index\n",
    "* **pop()** to remove and return the last item in the list"
   ]
  },
  {
   "cell_type": "code",
   "execution_count": 13,
   "metadata": {
    "scrolled": true
   },
   "outputs": [
    {
     "name": "stdout",
     "output_type": "stream",
     "text": [
      "['rock', 'flower', 'photo', 'pc', 'cake', 'stone']\n",
      "['rock', 'flower', 'photo', 'pc', 'cake']\n"
     ]
    }
   ],
   "source": [
    "# create a new list\n",
    "things = ['rock', 'flower', 'photo', 'pc', 'cake', 'stone']\n",
    "print(things)\n",
    "\n",
    "# remove the element with the value 'stone'\n",
    "# aus der Liste\n",
    "things.remove('stone')\n",
    "print(things)"
   ]
  },
  {
   "cell_type": "code",
   "execution_count": 14,
   "metadata": {},
   "outputs": [
    {
     "name": "stdout",
     "output_type": "stream",
     "text": [
      "['flower', 'photo', 'pc', 'cake']\n"
     ]
    }
   ],
   "source": [
    "# remove the element at index 0\n",
    "del things[0]\n",
    "print(things)"
   ]
  },
  {
   "cell_type": "code",
   "execution_count": 15,
   "metadata": {},
   "outputs": [
    {
     "name": "stdout",
     "output_type": "stream",
     "text": [
      "['flower', 'photo', 'pc']\n",
      "cake\n"
     ]
    }
   ],
   "source": [
    "# remove the last element of the list\n",
    "# we get it as a return value, so we save it\n",
    "last_element = things.pop()\n",
    "\n",
    "# things now only has three elements left\n",
    "print(things)\n",
    "# 'cake' is saved in last_element\n",
    "print(last_element)"
   ]
  },
  {
   "cell_type": "markdown",
   "metadata": {},
   "source": [
    "[top](#top)"
   ]
  },
  {
   "cell_type": "markdown",
   "metadata": {},
   "source": [
    "<a name=\"leer\"></a>Empty lists\n",
    "---"
   ]
  },
  {
   "cell_type": "markdown",
   "metadata": {
    "collapsed": true
   },
   "source": [
    "Sometimes it can be useful to initialize an empty list that can be filled with items later on."
   ]
  },
  {
   "cell_type": "code",
   "execution_count": 16,
   "metadata": {},
   "outputs": [
    {
     "name": "stdout",
     "output_type": "stream",
     "text": [
      "['aa', 'bb', 'cc', 'dd']\n"
     ]
    }
   ],
   "source": [
    "# we create a filled list\n",
    "letters = ['a', 'b', 'c', 'd']\n",
    "\n",
    "# and an empty list\n",
    "alphabet = []\n",
    "\n",
    "# we fill alphabet by using a for loop\n",
    "for letter in letters:\n",
    "    alphabet.append(letter + letter)\n",
    "    \n",
    "print(alphabet)"
   ]
  },
  {
   "cell_type": "code",
   "execution_count": 17,
   "metadata": {},
   "outputs": [
    {
     "name": "stdout",
     "output_type": "stream",
     "text": [
      "0\n"
     ]
    }
   ],
   "source": [
    "empty_list = []\n",
    "print(len(empty_list))"
   ]
  },
  {
   "cell_type": "markdown",
   "metadata": {},
   "source": [
    "[top](#top)"
   ]
  },
  {
   "cell_type": "markdown",
   "metadata": {},
   "source": [
    "<a name=\"sortieren\"></a>Sorting\n",
    "---"
   ]
  },
  {
   "cell_type": "markdown",
   "metadata": {},
   "source": [
    "We can automatically sort lists based on their elements by using the ```sort()``` function. \n",
    "This only works if relations to sort the elements are actually sensible (e.g. _larger_, _smaller_, _equal_)\n",
    "If not told otherwise, Python will sort strings alphabetically and numbers in ascending order. "
   ]
  },
  {
   "cell_type": "code",
   "execution_count": 1,
   "metadata": {},
   "outputs": [
    {
     "name": "stdout",
     "output_type": "stream",
     "text": [
      "original: ['b', 'a', 'z', 'c', 'y']\n",
      "alphabetically sorted: ['a', 'b', 'c', 'y', 'z']\n"
     ]
    }
   ],
   "source": [
    "# create an unordered list\n",
    "letters = ['b','a','z','c','y']\n",
    "print('original: {}'.format(letters))\n",
    "\n",
    "# sort the list\n",
    "letters.sort()\n",
    "print('alphabetically sorted: {}'.format(letters))"
   ]
  },
  {
   "cell_type": "markdown",
   "metadata": {},
   "source": [
    "**IMPORTANT:** The order of the elements is changed _permanently_ and thus lost."
   ]
  },
  {
   "cell_type": "markdown",
   "metadata": {},
   "source": [
    "If you do not want this, use the ```sorted()``` function instead:"
   ]
  },
  {
   "cell_type": "code",
   "execution_count": 2,
   "metadata": {},
   "outputs": [
    {
     "name": "stdout",
     "output_type": "stream",
     "text": [
      "Letters in alphabetical order\n",
      "a\n",
      "b\n",
      "c\n",
      "y\n",
      "z\n",
      "\n",
      "Letters in reverse alphabetical order\n",
      "z\n",
      "y\n",
      "c\n",
      "b\n",
      "a\n",
      "\n",
      "Original list order\n",
      "b\n",
      "a\n",
      "z\n",
      "c\n",
      "y\n"
     ]
    }
   ],
   "source": [
    "# using sorted()\n",
    "\n",
    "letters = ['b','a','z','c','y']\n",
    "# Print the letters in alphabetical order but keep the original order\n",
    "print('Letters in alphabetical order')\n",
    "for letter in sorted(letters):\n",
    "    print(letter)\n",
    "    \n",
    "print('\\nLetters in reverse alphabetical order')    \n",
    "# Print the letters in reverse alphabetical order but keep original order\n",
    "for letter in sorted(letters, reverse=True):\n",
    "    print(letter)\n",
    "    \n",
    "print('\\nOriginal list order')    \n",
    "# Show that the original order is preserved\n",
    "for letter in letters:\n",
    "    print(letter)"
   ]
  },
  {
   "cell_type": "markdown",
   "metadata": {},
   "source": [
    "[top](#top)"
   ]
  },
  {
   "cell_type": "markdown",
   "metadata": {},
   "source": [
    "<a name=\"umkehren\"></a>Reverse\n",
    "---"
   ]
  },
  {
   "cell_type": "markdown",
   "metadata": {},
   "source": [
    "We already saw that we can sort lists in reversed order as well. \n",
    "For ease of writing, there is a function, which does this directly -  ```reverse()```:"
   ]
  },
  {
   "cell_type": "code",
   "execution_count": 3,
   "metadata": {},
   "outputs": [
    {
     "name": "stdout",
     "output_type": "stream",
     "text": [
      "original: [10, 2, 5, 3]\n",
      "ascending: [2, 3, 5, 10]\n",
      "descending: [10, 5, 3, 2]\n"
     ]
    }
   ],
   "source": [
    "# create a list\n",
    "numbers = [10, 2, 5, 3]\n",
    "print('original: {}'.format(numbers))\n",
    "\n",
    "# sort it in ascending order\n",
    "numbers.sort()\n",
    "print('ascending: {}'.format(numbers))\n",
    "\n",
    "# reverse the order\n",
    "numbers.reverse()\n",
    "print('descending: {}'.format(numbers))"
   ]
  },
  {
   "cell_type": "markdown",
   "metadata": {},
   "source": [
    "[top](#top)"
   ]
  },
  {
   "cell_type": "markdown",
   "metadata": {},
   "source": [
    "<a name=\"funktionalitaet\"></a>min, max, sum\n",
    "---"
   ]
  },
  {
   "cell_type": "markdown",
   "metadata": {
    "collapsed": true
   },
   "source": [
    "For lists containing only numbers, we have some special helper functions:\n",
    "* **min()** returns the smallest item in a list\n",
    "* **max()** returns the largest item in a list\n",
    "* **sum()** returns the sum of all items in the list"
   ]
  },
  {
   "cell_type": "code",
   "execution_count": 4,
   "metadata": {},
   "outputs": [
    {
     "name": "stdout",
     "output_type": "stream",
     "text": [
      "Minimum: 1, maximum: 14, sum: 51\n"
     ]
    }
   ],
   "source": [
    "# create a list\n",
    "numbers = [5, 1, 3, 10, 8, 14, 10]\n",
    "\n",
    "# find the minimum\n",
    "minimum = min(numbers)\n",
    "\n",
    "# find the maximum\n",
    "maximum = max(numbers)\n",
    "\n",
    "# calculate the sum\n",
    "sum = sum(numbers)\n",
    "\n",
    "print('Minimum: {}, maximum: {}, sum: {}'\\\n",
    "     .format(minimum, maximum, sum))"
   ]
  },
  {
   "cell_type": "markdown",
   "metadata": {},
   "source": [
    "[top](#top)"
   ]
  },
  {
   "cell_type": "markdown",
   "metadata": {},
   "source": [
    "<a name=\"comprehensions\"></a>Create lists\n",
    "==="
   ]
  },
  {
   "cell_type": "markdown",
   "metadata": {},
   "source": [
    "<a name=\"range\"></a>The range() function\n",
    "---"
   ]
  },
  {
   "cell_type": "markdown",
   "metadata": {
    "collapsed": true
   },
   "source": [
    "Creating more complicated lists manually is tedious and takes way too long. For lists containing numbers there is the ```range()``` function, which automatically creates a list.              \n",
    "This function takes the same arguments we used in slicing: _start_, _end_ and _stepsize_ of the list of numbers:"
   ]
  },
  {
   "cell_type": "code",
   "execution_count": 2,
   "metadata": {},
   "outputs": [
    {
     "name": "stdout",
     "output_type": "stream",
     "text": [
      "0\n",
      "2\n",
      "4\n",
      "6\n",
      "8\n",
      "10\n",
      "12\n",
      "14\n"
     ]
    }
   ],
   "source": [
    "# display all even numbers from 0 to 15\n",
    "for number in range(0, 15, 2):\n",
    "    print(number)"
   ]
  },
  {
   "cell_type": "markdown",
   "metadata": {},
   "source": [
    "We can save these numbers into a list:"
   ]
  },
  {
   "cell_type": "code",
   "execution_count": 3,
   "metadata": {},
   "outputs": [
    {
     "name": "stdout",
     "output_type": "stream",
     "text": [
      "[0, 2, 4, 6, 8, 10, 12, 14]\n"
     ]
    }
   ],
   "source": [
    "# create an empty list\n",
    "even_numbers = []\n",
    "\n",
    "# for every iteration of the loop\n",
    "# append an element to the list\n",
    "for number in range(0, 15, 2):\n",
    "    even_numbers.append(number)\n",
    "\n",
    "print(even_numbers)"
   ]
  },
  {
   "cell_type": "markdown",
   "metadata": {},
   "source": [
    "An easier way to do this is by converting the output of ```range()``` to a list. To do this, we can use the ```list()``` function:"
   ]
  },
  {
   "cell_type": "code",
   "execution_count": 4,
   "metadata": {},
   "outputs": [
    {
     "name": "stdout",
     "output_type": "stream",
     "text": [
      "[0, 2, 4, 6, 8, 10, 12, 14]\n"
     ]
    }
   ],
   "source": [
    "# list() converts an iterable container to a list\n",
    "even_numbers = list(range(0, 15, 2))\n",
    "print(even_numbers)"
   ]
  },
  {
   "cell_type": "markdown",
   "metadata": {},
   "source": [
    "[top](#top)"
   ]
  },
  {
   "cell_type": "markdown",
   "metadata": {},
   "source": [
    "<a name=\"comprehensions\"></a>List comprehensions\n",
    "---"
   ]
  },
  {
   "cell_type": "markdown",
   "metadata": {},
   "source": [
    "If we want to create a list, that cannot be described using the ```range()``` function, there is one more alternative.\n",
    "We can define lists by using loops and expressions inside square brackets, this is called _list comprehension_:"
   ]
  },
  {
   "cell_type": "code",
   "execution_count": 5,
   "metadata": {},
   "outputs": [
    {
     "name": "stdout",
     "output_type": "stream",
     "text": [
      "[0, 4, 16, 36, 64, 100, 144, 196]\n"
     ]
    }
   ],
   "source": [
    "squares = [number ** 2 for number in range(0, 15, 2)]\n",
    "print(squares)"
   ]
  },
  {
   "cell_type": "markdown",
   "metadata": {
    "collapsed": true
   },
   "source": [
    "What did just happen?\n",
    "* the part after the **for** keyword initializes a loop that runs ten times and returns the next number every time\n",
    "* the part before the **for** keyword performs an operation on the number (in this case we square the number)\n",
    "* the square brackets \"channel\" the results into a list which is then assigned to the variable ```squares```"
   ]
  },
  {
   "cell_type": "markdown",
   "metadata": {},
   "source": [
    "List comprehension is quite powerful and very elegant way of creating lists.                     \n",
    "However, the concept is a bit hard to understand, so let's look at a few more examples:"
   ]
  },
  {
   "cell_type": "code",
   "execution_count": 8,
   "metadata": {},
   "outputs": [
    {
     "name": "stdout",
     "output_type": "stream",
     "text": [
      "[0, 1, 2, 3, 4, 5, 6, 7, 8, 9]\n",
      "[0.0, 0.5, 1.0, 1.5, 2.0, 2.5, 3.0, 3.5, 4.0, 4.5]\n"
     ]
    }
   ],
   "source": [
    "# create a new list containing the numbers 0 to 9\n",
    "numbers = [number for number in range(0,10,1)]\n",
    "print(numbers)\n",
    "\n",
    "# divide each number by 2 and save in a new list\n",
    "halves = [number / 2 for number in numbers]\n",
    "print(halves)"
   ]
  },
  {
   "cell_type": "code",
   "execution_count": 9,
   "metadata": {},
   "outputs": [
    {
     "name": "stdout",
     "output_type": "stream",
     "text": [
      "[2, 3, 4, 5, 6, 7, 8, 9, 10, 11]\n"
     ]
    }
   ],
   "source": [
    "# start at the same list, and add 2 to every number\n",
    "numbers = list(range(10))\n",
    "plus_two = [number + 2 for number in numbers]\n",
    "print(plus_two)"
   ]
  },
  {
   "cell_type": "code",
   "execution_count": 10,
   "metadata": {},
   "outputs": [
    {
     "name": "stdout",
     "output_type": "stream",
     "text": [
      "['Jana the Great', 'Katrin the Great']\n"
     ]
    }
   ],
   "source": [
    "# fun with strings\n",
    "names = ['Jana', 'Katrin']\n",
    "narcicists = [name + ' the Great' for name in names]\n",
    "print(narcicists)"
   ]
  },
  {
   "cell_type": "markdown",
   "metadata": {},
   "source": [
    "[top](#top)"
   ]
  },
  {
   "cell_type": "markdown",
   "metadata": {},
   "source": [
    "<a name=\"uebung04\"></a>Exercise 04: More lists\n",
    "==="
   ]
  },
  {
   "cell_type": "markdown",
   "metadata": {},
   "source": [
    "2. **Operations on lists**\n",
    "  1. Create a list of first names. Start with a list containing your own name, then fill it with the nmes of at least five more members of the course, using  ```append()```, ```insert()``` and ```extend()```.\n",
    "  2. Create a second, empty list. Iterate over the names list using ```for``` and ```enumerate()```. Multiply each name with its index and save the results in the empty list.\n",
    "  3. **(Optional)** Display both the length and the number of characters in the list together.\n",
    "  Hint: Strings themselves are collections of characters, you can find their length using ```len()```.\n",
    "  4. **(Optional)** Create a list of the first 50 even numbers using the ```range()``` function. Calculate the sum of all these numbers, once using a ```for``` loop and once using the ```sum()``` function.\n",
    "3. **Create lists**\n",
    "  1. Create a list of the first 10 numbers to the third power using list-comprehension.\n",
    "  2. **(Optional)** Create a list of the first 100 elements of the Fibonacci sequence. Which problems do arise, if you try to use list-comprehension for this exercise?"
   ]
  },
  {
   "cell_type": "markdown",
   "metadata": {},
   "source": [
    "[top](#top)"
   ]
  }
 ],
 "metadata": {
  "kernelspec": {
   "display_name": "Python 3",
   "language": "python",
   "name": "python3"
  },
  "language_info": {
   "codemirror_mode": {
    "name": "ipython",
    "version": 3
   },
   "file_extension": ".py",
   "mimetype": "text/x-python",
   "name": "python",
   "nbconvert_exporter": "python",
   "pygments_lexer": "ipython3",
   "version": "3.6.1"
  }
 },
 "nbformat": 4,
 "nbformat_minor": 1
}
