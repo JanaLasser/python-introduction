{
 "cells": [
  {
   "cell_type": "markdown",
   "metadata": {},
   "source": [
    "<a name=\"top\"></a>Overview: Matrices\n",
    "==="
   ]
  },
  {
   "cell_type": "markdown",
   "metadata": {},
   "source": [
    "* [Matrices](#matrizen)\n",
    "  * [Multi-dimensional lists](#listen)\n",
    "  * [NumPy Arrays](#arrays)\n",
    "  * [Creating Arrays](#erstellen)\n",
    "  * [Maths on Arrays](#mathe)\n",
    "  * [Filters](#filter)\n",
    "* [Exercies 07: Matrices](#uebung07)"
   ]
  },
  {
   "cell_type": "markdown",
   "metadata": {},
   "source": [
    "**Learning Goals:** After this lecture you\n",
    "* know what a third party library is and how to use it\n",
    "* can save multi-dimensional data in arrays\n",
    "* can use simple maths and filtering on arrarys\n",
    "* know how to save and load arrays in files"
   ]
  },
  {
   "cell_type": "markdown",
   "metadata": {},
   "source": [
    "<a name=\"matrizen\"></a>Matrices\n",
    "==="
   ]
  },
  {
   "cell_type": "markdown",
   "metadata": {},
   "source": [
    "Until now, we were only looking at one-dimensional data containers:"
   ]
  },
  {
   "cell_type": "code",
   "execution_count": 2,
   "metadata": {
    "collapsed": true
   },
   "outputs": [],
   "source": [
    "list = [1, 2, 3, 4, 5]"
   ]
  },
  {
   "cell_type": "markdown",
   "metadata": {},
   "source": [
    "So, what do we do to create a matrix?\n",
    "\\begin{equation*}\n",
    "A = \\begin{pmatrix} 1 & 2  & 3 \\\\ 4 & 5 & 6 \\\\ 7 & 8 & 9 \\end{pmatrix}\n",
    "\\end{equation*}  "
   ]
  },
  {
   "cell_type": "markdown",
   "metadata": {},
   "source": [
    "<a name=\"listen\"></a>Multi-dimensional lists\n",
    "---"
   ]
  },
  {
   "cell_type": "markdown",
   "metadata": {},
   "source": [
    "In theory, we can use nested lists as a matrix equivalent:"
   ]
  },
  {
   "cell_type": "code",
   "execution_count": 3,
   "metadata": {},
   "outputs": [
    {
     "name": "stdout",
     "output_type": "stream",
     "text": [
      "[[1, 2, 3], [4, 5, 6], [7, 8, 9]]\n"
     ]
    }
   ],
   "source": [
    "A = [[1, 2, 3], [4, 5, 6], [7, 8, 9]]\n",
    "print(A)"
   ]
  },
  {
   "cell_type": "markdown",
   "metadata": {},
   "source": [
    "Accessing single list elements isn't too hard:"
   ]
  },
  {
   "cell_type": "code",
   "execution_count": 4,
   "metadata": {},
   "outputs": [
    {
     "name": "stdout",
     "output_type": "stream",
     "text": [
      "5\n"
     ]
    }
   ],
   "source": [
    "print(A[1][1])"
   ]
  },
  {
   "cell_type": "markdown",
   "metadata": {},
   "source": [
    "However, getting equivalent functionality as slicing is quite comlicated already.\n",
    "Remember, for one-dimensional lists, it works like this:"
   ]
  },
  {
   "cell_type": "code",
   "execution_count": 5,
   "metadata": {},
   "outputs": [
    {
     "name": "stdout",
     "output_type": "stream",
     "text": [
      "[3, 4]\n"
     ]
    }
   ],
   "source": [
    "a = [1, 2, 3, 4, 5]\n",
    "print(a[2:4])"
   ]
  },
  {
   "cell_type": "markdown",
   "metadata": {},
   "source": [
    "[top](#top)"
   ]
  },
  {
   "cell_type": "markdown",
   "metadata": {},
   "source": [
    "<a name=\"arrays\"></a>NumPy Arrays\n",
    "---"
   ]
  },
  {
   "cell_type": "markdown",
   "metadata": {},
   "source": [
    "[a more detailed introduction to NumPy can be found here https://docs.scipy.org/doc/numpy-dev/user/quickstart.html]"
   ]
  },
  {
   "cell_type": "markdown",
   "metadata": {},
   "source": [
    "To solve this issue, we can use a _third party library_. In contrast to the Python standard libraries, this typ of library is not included in every Python installation, but has to be installed manually.\n",
    "\n",
    "However, many scientific Python distributions (for example Anaconda) already include most of the important third party libraries. Our installation is no exception to this rule.\n",
    "\n",
    "For multi-dimensional lists (called _arrays_) we need a library called ```NumPy``` (numeric Python).\n",
    "Since it is installed already, we can simply import NumPy into our script:"
   ]
  },
  {
   "cell_type": "code",
   "execution_count": 6,
   "metadata": {
    "collapsed": true
   },
   "outputs": [],
   "source": [
    "# the keyword 'as' assigns the keyword 'np' to 'numpy' \n",
    "# while importing it - this makes our code shorter and more readable\n",
    "import numpy as np"
   ]
  },
  {
   "cell_type": "code",
   "execution_count": 7,
   "metadata": {},
   "outputs": [
    {
     "name": "stdout",
     "output_type": "stream",
     "text": [
      "Nested list:\n",
      " [[1, 2, 3], [4, 5, 6], [7, 8, 9]]\n",
      "\n",
      "NumPy nD-array:\n",
      " [[1 2 3]\n",
      " [4 5 6]\n",
      " [7 8 9]]\n"
     ]
    }
   ],
   "source": [
    "# convert the nested list A to a NumPy array using the asarray() function\n",
    "B = np.asarray(A)\n",
    "\n",
    "# display A and B to compare\n",
    "print('Nested list:\\n {}\\n'.format(A))\n",
    "print('NumPy nD-array:\\n {}'.format(B))"
   ]
  },
  {
   "cell_type": "markdown",
   "metadata": {},
   "source": [
    "We can access elements of multi-dimensional arrays using multiple indices (one per dimension of the array):"
   ]
  },
  {
   "cell_type": "code",
   "execution_count": 8,
   "metadata": {},
   "outputs": [
    {
     "name": "stdout",
     "output_type": "stream",
     "text": [
      "5\n"
     ]
    }
   ],
   "source": [
    "print(B[1,1])"
   ]
  },
  {
   "cell_type": "markdown",
   "metadata": {},
   "source": [
    "Doesn't seem that impressive, but we can use slicing again! Thus, we can make multi-dimensional slice:"
   ]
  },
  {
   "cell_type": "code",
   "execution_count": 9,
   "metadata": {},
   "outputs": [
    {
     "name": "stdout",
     "output_type": "stream",
     "text": [
      "[[1 2]\n",
      " [4 5]]\n"
     ]
    }
   ],
   "source": [
    "print(B[0:2, 0:2])  # [row, column]"
   ]
  },
  {
   "cell_type": "code",
   "execution_count": 78,
   "metadata": {},
   "outputs": [
    {
     "name": "stdout",
     "output_type": "stream",
     "text": [
      "[[1 2]\n",
      " [4 5]\n",
      " [7 8]]\n"
     ]
    }
   ],
   "source": [
    "print(B[0:, 0:2])  # [row, column]"
   ]
  },
  {
   "cell_type": "code",
   "execution_count": 11,
   "metadata": {},
   "outputs": [
    {
     "name": "stdout",
     "output_type": "stream",
     "text": [
      "[[1 2 3]\n",
      " [4 5 6]]\n"
     ]
    }
   ],
   "source": [
    "print(B[0:2, 0:])  # [row, column]"
   ]
  },
  {
   "cell_type": "markdown",
   "metadata": {},
   "source": [
    "**Important:** The order of indices is important, as you can see above!"
   ]
  },
  {
   "cell_type": "markdown",
   "metadata": {},
   "source": [
    "[top](#top)"
   ]
  },
  {
   "cell_type": "markdown",
   "metadata": {},
   "source": [
    "<a name=\"erstellen\"></a>Creating Arrays\n",
    "---"
   ]
  },
  {
   "cell_type": "markdown",
   "metadata": {},
   "source": [
    "We have seen that we can convert a container into an array using the ```asarray()``` function.\n",
    "There are a lot more functions that allow us to create arrays. Let's take a look at three quite handy ones:"
   ]
  },
  {
   "cell_type": "markdown",
   "metadata": {},
   "source": [
    "* ```arange()```: same as ```range()```, but as an array.\n",
    "* ```reshape()```: changes the form of an array.\n",
    "* ```linspace()```: similar to ```arange()```, but doesn't create integers. Instead it fills the array with a linear interpolation between start and end."
   ]
  },
  {
   "cell_type": "code",
   "execution_count": 12,
   "metadata": {},
   "outputs": [
    {
     "name": "stdout",
     "output_type": "stream",
     "text": [
      "[ 0  1  2  3  4  5  6  7  8  9 10 11 12 13 14 15]\n",
      "<class 'numpy.ndarray'>\n"
     ]
    }
   ],
   "source": [
    "# create a 1-d array with 16 elements\n",
    "A = np.arange(16)\n",
    "print(A)\n",
    "print(type(A))"
   ]
  },
  {
   "cell_type": "code",
   "execution_count": 13,
   "metadata": {},
   "outputs": [
    {
     "name": "stdout",
     "output_type": "stream",
     "text": [
      "[[ 0  1  2  3]\n",
      " [ 4  5  6  7]\n",
      " [ 8  9 10 11]\n",
      " [12 13 14 15]]\n"
     ]
    }
   ],
   "source": [
    "# reshape A to a quadratic 2-d array\n",
    "A = A.reshape((4,4))\n",
    "print(A)\n",
    "\n",
    "# note: the number of elements has to be the same!"
   ]
  },
  {
   "cell_type": "code",
   "execution_count": 14,
   "metadata": {},
   "outputs": [
    {
     "name": "stdout",
     "output_type": "stream",
     "text": [
      "[  0.           0.20408163   0.40816327   0.6122449    0.81632653\n",
      "   1.02040816   1.2244898    1.42857143   1.63265306   1.83673469\n",
      "   2.04081633   2.24489796   2.44897959   2.65306122   2.85714286\n",
      "   3.06122449   3.26530612   3.46938776   3.67346939   3.87755102\n",
      "   4.08163265   4.28571429   4.48979592   4.69387755   4.89795918\n",
      "   5.10204082   5.30612245   5.51020408   5.71428571   5.91836735\n",
      "   6.12244898   6.32653061   6.53061224   6.73469388   6.93877551\n",
      "   7.14285714   7.34693878   7.55102041   7.75510204   7.95918367\n",
      "   8.16326531   8.36734694   8.57142857   8.7755102    8.97959184\n",
      "   9.18367347   9.3877551    9.59183673   9.79591837  10.        ]\n"
     ]
    }
   ],
   "source": [
    "start = 0\n",
    "stop = 10\n",
    "number = 50\n",
    "\n",
    "# linspace creates a 'number' of elements, uniformly distibuted\n",
    "# between start and stop \n",
    "B = np.linspace(start, stop, number)  # (start, stop, number)\n",
    "\n",
    "print(B)"
   ]
  },
  {
   "cell_type": "markdown",
   "metadata": {},
   "source": [
    "Additionally, we can load arrays from files or save them as such:\n",
    "* ```np.loadtxt()```\n",
    "* ```np.savetxt()```"
   ]
  },
  {
   "cell_type": "code",
   "execution_count": 16,
   "metadata": {},
   "outputs": [
    {
     "name": "stdout",
     "output_type": "stream",
     "text": [
      "[[ 2.93524537  2.9328648   2.93049891 ...,         nan         nan\n",
      "          nan]\n",
      " [ 2.934738    2.93261704  2.93027465 ...,         nan         nan\n",
      "          nan]\n",
      " [ 2.93613947  2.93298815  2.9306612  ...,         nan         nan\n",
      "          nan]\n",
      " ..., \n",
      " [ 2.962692    2.962387    2.963455   ...,  3.007614    3.003555    2.99913   ]\n",
      " [ 2.960098    2.959122    2.963394   ...,  3.012039    3.011398    3.010513  ]\n",
      " [ 2.960251    2.958511    2.961594   ...,  3.009201    3.011093    3.009872  ]]\n"
     ]
    }
   ],
   "source": [
    "polygone = np.loadtxt('polygons.txt')\n",
    "print(polygone)"
   ]
  },
  {
   "cell_type": "markdown",
   "metadata": {},
   "source": [
    "If an array is so big that direct visual display is not helpful, we can find out its size by using an _attribut_ of the array-object - ```shape```:"
   ]
  },
  {
   "cell_type": "code",
   "execution_count": 17,
   "metadata": {},
   "outputs": [
    {
     "name": "stdout",
     "output_type": "stream",
     "text": [
      "(1091, 1051)\n"
     ]
    }
   ],
   "source": [
    "print(polygone.shape)"
   ]
  },
  {
   "cell_type": "code",
   "execution_count": 20,
   "metadata": {},
   "outputs": [
    {
     "name": "stdout",
     "output_type": "stream",
     "text": [
      "Number of rows: 1091\n",
      "Number of columns: 1051\n"
     ]
    }
   ],
   "source": [
    "# shape is a tupel, an iterable container similar to a list\n",
    "# it has two values that we can access\n",
    "height, width = polygone.shape\n",
    "\n",
    "print('Number of rows: {}'.format(height))\n",
    "print('Number of columns: {}'.format(width))"
   ]
  },
  {
   "cell_type": "markdown",
   "metadata": {},
   "source": [
    "Saving an array into a file is about as easy as loading one from a file:"
   ]
  },
  {
   "cell_type": "code",
   "execution_count": 22,
   "metadata": {
    "collapsed": true
   },
   "outputs": [],
   "source": [
    "np.savetxt('array_b.txt', B)"
   ]
  },
  {
   "cell_type": "markdown",
   "metadata": {},
   "source": [
    "[top](#top)"
   ]
  },
  {
   "cell_type": "markdown",
   "metadata": {},
   "source": [
    "<a name=\"mathe\"></a>Maths on Arrays\n",
    "---"
   ]
  },
  {
   "cell_type": "markdown",
   "metadata": {},
   "source": [
    "Standard operations, like addition, subtraction, multiplication or division on arrays are interpreted _element wise_ on every element of the array:"
   ]
  },
  {
   "cell_type": "code",
   "execution_count": 23,
   "metadata": {},
   "outputs": [
    {
     "name": "stdout",
     "output_type": "stream",
     "text": [
      "before:\n",
      "[[ 0  1  2  3]\n",
      " [ 4  5  6  7]\n",
      " [ 8  9 10 11]\n",
      " [12 13 14 15]]\n",
      "\n",
      "after:\n",
      "[[ 2  3  4  5]\n",
      " [ 6  7  8  9]\n",
      " [10 11 12 13]\n",
      " [14 15 16 17]]\n"
     ]
    }
   ],
   "source": [
    "A = np.arange(16).reshape((4,4))\n",
    "\n",
    "print('before:')\n",
    "print(A)\n",
    "A = A + 2\n",
    "print('\\nafter:')\n",
    "print(A)"
   ]
  },
  {
   "cell_type": "markdown",
   "metadata": {},
   "source": [
    "This does not work with normal lists!"
   ]
  },
  {
   "cell_type": "code",
   "execution_count": 24,
   "metadata": {},
   "outputs": [
    {
     "ename": "TypeError",
     "evalue": "can only concatenate list (not \"int\") to list",
     "output_type": "error",
     "traceback": [
      "\u001b[0;31m---------------------------------------------------------------------------\u001b[0m",
      "\u001b[0;31mTypeError\u001b[0m                                 Traceback (most recent call last)",
      "\u001b[0;32m<ipython-input-24-12d177411d9b>\u001b[0m in \u001b[0;36m<module>\u001b[0;34m()\u001b[0m\n\u001b[1;32m      1\u001b[0m \u001b[0ma\u001b[0m \u001b[0;34m=\u001b[0m \u001b[0;34m[\u001b[0m\u001b[0;36m1\u001b[0m\u001b[0;34m,\u001b[0m \u001b[0;36m2\u001b[0m\u001b[0;34m,\u001b[0m \u001b[0;36m3\u001b[0m\u001b[0;34m,\u001b[0m \u001b[0;36m4\u001b[0m\u001b[0;34m]\u001b[0m\u001b[0;34m\u001b[0m\u001b[0m\n\u001b[0;32m----> 2\u001b[0;31m \u001b[0ma\u001b[0m \u001b[0;34m+\u001b[0m \u001b[0;36m2\u001b[0m\u001b[0;34m\u001b[0m\u001b[0m\n\u001b[0m",
      "\u001b[0;31mTypeError\u001b[0m: can only concatenate list (not \"int\") to list"
     ]
    }
   ],
   "source": [
    "a = [1, 2, 3, 4]\n",
    "a + 2"
   ]
  },
  {
   "cell_type": "markdown",
   "metadata": {},
   "source": [
    "Normal matrix-multiplication can be done by using the ```dot()``` function:"
   ]
  },
  {
   "cell_type": "code",
   "execution_count": 32,
   "metadata": {},
   "outputs": [
    {
     "name": "stdout",
     "output_type": "stream",
     "text": [
      "A:\n",
      "[[1 2 3]\n",
      " [0 1 0]\n",
      " [2 0 1]]\n",
      "\n",
      "B:\n",
      "[[3 0 4]\n",
      " [0 0 1]\n",
      " [2 2 2]]\n",
      "\n",
      "C:\n",
      "[[ 9  6 12]\n",
      " [ 0  0  1]\n",
      " [ 8  2 10]]\n"
     ]
    }
   ],
   "source": [
    "# create two 3x3 matrices from arrays\n",
    "A = np.asarray([[1, 2, 3], [0, 1, 0], [2, 0, 1]])\n",
    "B = np.asarray([[3, 0, 4], [0, 0, 1], [2, 2, 2]])\n",
    "\n",
    "# multiplicate the matrices and save the result\n",
    "C = np.dot(A, B)\n",
    "\n",
    "# check the result\n",
    "print('A:')\n",
    "print(A)\n",
    "print('\\nB:')\n",
    "print(B)\n",
    "print('\\nC:')\n",
    "print(C)"
   ]
  },
  {
   "cell_type": "markdown",
   "metadata": {},
   "source": [
    "[top](#top)"
   ]
  },
  {
   "cell_type": "markdown",
   "metadata": {},
   "source": [
    "<a name=\"filter\"></a>Filters\n",
    "---"
   ]
  },
  {
   "cell_type": "markdown",
   "metadata": {},
   "source": [
    "We can also use logical function on arrays to _filter_ them. The corresponding function is ```where()```:"
   ]
  },
  {
   "cell_type": "code",
   "execution_count": 33,
   "metadata": {},
   "outputs": [
    {
     "data": {
      "text/plain": [
       "(array([0, 0, 1, 1, 1, 2, 2]), array([0, 1, 0, 1, 2, 0, 1]))"
      ]
     },
     "execution_count": 33,
     "metadata": {},
     "output_type": "execute_result"
    }
   ],
   "source": [
    "# which of the elements is smaller than 10?\n",
    "# where returns the indices of the elements that fulfill the condtion\n",
    "np.where(C < 10)"
   ]
  },
  {
   "cell_type": "code",
   "execution_count": 34,
   "metadata": {},
   "outputs": [
    {
     "data": {
      "text/plain": [
       "array([9, 6, 0, 0, 1, 8, 2])"
      ]
     },
     "execution_count": 34,
     "metadata": {},
     "output_type": "execute_result"
    }
   ],
   "source": [
    "# which elements in C are smaller than 10?\n",
    "C[np.where(C < 10)]"
   ]
  },
  {
   "cell_type": "code",
   "execution_count": 36,
   "metadata": {},
   "outputs": [
    {
     "name": "stdout",
     "output_type": "stream",
     "text": [
      "[[0 0 1]\n",
      " [0 0 0]\n",
      " [0 0 1]]\n"
     ]
    }
   ],
   "source": [
    "# filter C such that every element smaller 10\n",
    "# is set to 0 and all other to 1\n",
    "D = np.where(C < 10, 0, 1)\n",
    "print(D)"
   ]
  },
  {
   "cell_type": "markdown",
   "metadata": {},
   "source": [
    "[top](#top)"
   ]
  },
  {
   "cell_type": "markdown",
   "metadata": {},
   "source": [
    "<a name=\"uebung07\"></a>Exercies 07: Matrices\n",
    "==="
   ]
  },
  {
   "cell_type": "markdown",
   "metadata": {},
   "source": [
    "1. **Matrices**\n",
    "  1. Create a list of 100 random integers. Convert this list to a NumPy array and reshape it to a 10x10 matrix.\n",
    "  2. Save this matrix in a text file.\n",
    "  3. **(Optional)** Investigate how you can write this much shorter, using ```numpy.random.randint()```.\n",
    "  4. Set the 5x5 sub-matrices in each corner of the 10x10 matrix to different variables.\n",
    "  5. Multiply those sub-matrices and display the result.\n",
    "  6. **(Optional)** Experiment a bit using the filter function ```where()```. Which type of logical statments can be used? How about operations? Saving elemtents of two matrixes into a third one?"
   ]
  },
  {
   "cell_type": "markdown",
   "metadata": {},
   "source": [
    "[top](#top)"
   ]
  }
 ],
 "metadata": {
  "kernelspec": {
   "display_name": "Python 3",
   "language": "python",
   "name": "python3"
  },
  "language_info": {
   "codemirror_mode": {
    "name": "ipython",
    "version": 3
   },
   "file_extension": ".py",
   "mimetype": "text/x-python",
   "name": "python",
   "nbconvert_exporter": "python",
   "pygments_lexer": "ipython3",
   "version": "3.6.1"
  }
 },
 "nbformat": 4,
 "nbformat_minor": 1
}
