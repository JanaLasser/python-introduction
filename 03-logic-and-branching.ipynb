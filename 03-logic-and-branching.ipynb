{
 "cells": [
  {
   "cell_type": "markdown",
   "metadata": {},
   "source": [
    "<a name=\"top\"></a>Overview: Logic and branching\n",
    "==="
   ]
  },
  {
   "cell_type": "markdown",
   "metadata": {},
   "source": [
    "* [Logic and truth values](#logik)\n",
    "  * [Boolean values (truth values)](#bools)\n",
    "  * [Comparisons](#comparisons)\n",
    "  * [Truth functions](#wahrheitsfunktionen)\n",
    "  \n",
    "  \n",
    "* [Branching](#verzweigungen)\n",
    "  * [If](#if)\n",
    "  * [If-else](#ifelse)\n",
    "  * [If-elif-else](#ifelifelse)\n",
    "  \n",
    "  \n",
    "* [Exercise 03: Logic and branching](#uebung03)"
   ]
  },
  {
   "cell_type": "markdown",
   "metadata": {},
   "source": [
    "**Learning goals:** By the end of this lecture you will\n",
    "* know how to use logical tests in your program\n",
    "* be able to write a branching program to provide for different cases\n",
    "* know how to combine logical tests and branching to create complex (and maybe even useful) programs"
   ]
  },
  {
   "cell_type": "markdown",
   "metadata": {},
   "source": [
    "<a name=\"logik\"></a>Logic and truth values\n",
    "==="
   ]
  },
  {
   "cell_type": "markdown",
   "metadata": {},
   "source": [
    "<a name=\"bools\"></a>Boolean values (truth values)\n",
    "---"
   ]
  },
  {
   "cell_type": "markdown",
   "metadata": {},
   "source": [
    "You probably remember the control part of a ```for``` loop:"
   ]
  },
  {
   "cell_type": "code",
   "execution_count": null,
   "metadata": {
    "collapsed": true
   },
   "outputs": [],
   "source": [
    "numbers = [1, 2, 3, 4, 5]\n",
    "for number in numbers: # line which controls the loop\n",
    "    print(number)"
   ]
  },
  {
   "cell_type": "markdown",
   "metadata": {},
   "source": [
    "There is one component in this line, which we did not look at before - what does the  ```in``` actually do?\n",
    "Intuitively, you'd read the ```in``` as a reference to elements _in_ the container (the list _numbers_), which get used in the loop.                                            \n",
    "There is an alternative way of using ```in``` though:"
   ]
  },
  {
   "cell_type": "markdown",
   "metadata": {},
   "source": [
    "##### Is the element in the container?"
   ]
  },
  {
   "cell_type": "markdown",
   "metadata": {
    "collapsed": true
   },
   "source": [
    "To check, whether an element is already in the list, we can use the keyword ```in```. \n",
    "There are only two possible answers to this - _yes_ (it is in the list) or _no_ (it is not in the list).\n",
    "This type of a _yes_ / _no_ value is called a _boolean value_, which can be either ```True``` or ```False``` (representing whether the statement is _true_ or _false_):"
   ]
  },
  {
   "cell_type": "code",
   "execution_count": null,
   "metadata": {
    "collapsed": true
   },
   "outputs": [],
   "source": [
    "# make a list\n",
    "container = ['cat', 'dog', 'bird', 'horse']\n",
    "print(container)"
   ]
  },
  {
   "cell_type": "code",
   "execution_count": null,
   "metadata": {
    "collapsed": true
   },
   "outputs": [],
   "source": [
    "# check whether the element\n",
    "# 'cat' is in the list\n",
    "element = 'cat'\n",
    "\n",
    "# the statement strongly resembels a sentence\n",
    "answer = element in container\n",
    "print(answer)"
   ]
  },
  {
   "cell_type": "code",
   "execution_count": null,
   "metadata": {
    "collapsed": true
   },
   "outputs": [],
   "source": [
    "# we can check for an element directly\n",
    "# there is no need to save it in a variable first\n",
    "print('hedgehog' in container)"
   ]
  },
  {
   "cell_type": "markdown",
   "metadata": {},
   "source": [
    "[top](#top)"
   ]
  },
  {
   "cell_type": "markdown",
   "metadata": {
    "collapsed": true
   },
   "source": [
    "<a name=\"comparisons\"></a>Comparisons\n",
    "---"
   ]
  },
  {
   "cell_type": "markdown",
   "metadata": {
    "collapsed": true
   },
   "source": [
    "There are a number of statements in Python which return boolean values. All of these examples share the property that they can only be _True_ or _False_. Besides the ```in``` keyword we already looked at, there are other _logical operators_:\n",
    "\n",
    "* equality: ``` == ```\n",
    "* inequality: ``` != ```\n",
    "* greater than and less than: ``` > ``` and ``` < ```\n",
    "* greater or equal and less or equal: ``` >= ``` and ``` <= ```"
   ]
  },
  {
   "cell_type": "markdown",
   "metadata": {
    "collapsed": true
   },
   "source": [
    "These operators allow us to compare variables or their values. These operators are crucial for writing code that only gets executed if a certain condition is met."
   ]
  },
  {
   "cell_type": "markdown",
   "metadata": {},
   "source": [
    "##### Examples"
   ]
  },
  {
   "cell_type": "code",
   "execution_count": null,
   "metadata": {
    "collapsed": true
   },
   "outputs": [],
   "source": [
    "3 == 3   # equality"
   ]
  },
  {
   "cell_type": "code",
   "execution_count": null,
   "metadata": {
    "collapsed": true
   },
   "outputs": [],
   "source": [
    "5 == 3   # inequality"
   ]
  },
  {
   "cell_type": "code",
   "execution_count": null,
   "metadata": {
    "collapsed": true
   },
   "outputs": [],
   "source": [
    "5 > 3   # larger than"
   ]
  },
  {
   "cell_type": "code",
   "execution_count": null,
   "metadata": {
    "collapsed": true
   },
   "outputs": [],
   "source": [
    "5 < 3   # smaller than"
   ]
  },
  {
   "cell_type": "code",
   "execution_count": null,
   "metadata": {
    "collapsed": true
   },
   "outputs": [],
   "source": [
    "3 >= 3.0 # larger or equal to"
   ]
  },
  {
   "cell_type": "code",
   "execution_count": null,
   "metadata": {
    "collapsed": true
   },
   "outputs": [],
   "source": [
    "5 <= 6   # smaller or equal to"
   ]
  },
  {
   "cell_type": "code",
   "execution_count": null,
   "metadata": {
    "collapsed": true
   },
   "outputs": [],
   "source": [
    "5 <= 4   # smaller or equal to"
   ]
  },
  {
   "cell_type": "code",
   "execution_count": null,
   "metadata": {
    "collapsed": true
   },
   "outputs": [],
   "source": [
    "vowels = ['a', 'e', 'i', 'o', 'u']\n",
    "'e' in vowels   # existence"
   ]
  },
  {
   "cell_type": "markdown",
   "metadata": {},
   "source": [
    "[top](#top)"
   ]
  },
  {
   "cell_type": "markdown",
   "metadata": {},
   "source": [
    "<a name=\"wahrheitsfunktionen\"></a>Boolean operations\n",
    "---"
   ]
  },
  {
   "cell_type": "markdown",
   "metadata": {},
   "source": [
    "_Boolean operations_ are keywords which work on two _boolean values_. There are three of them in Python:\n",
    "* **not**: the negation\n",
    "* **and**: the conjunction\n",
    "* **or**: the disjunction"
   ]
  },
  {
   "cell_type": "markdown",
   "metadata": {},
   "source": [
    "##### The negation \"not\""
   ]
  },
  {
   "cell_type": "markdown",
   "metadata": {},
   "source": [
    "**not** negates a boolean value:"
   ]
  },
  {
   "cell_type": "code",
   "execution_count": null,
   "metadata": {
    "collapsed": true
   },
   "outputs": [],
   "source": [
    "not True"
   ]
  },
  {
   "cell_type": "code",
   "execution_count": null,
   "metadata": {
    "collapsed": true
   },
   "outputs": [],
   "source": [
    "not False"
   ]
  },
  {
   "cell_type": "code",
   "execution_count": null,
   "metadata": {
    "collapsed": true
   },
   "outputs": [],
   "source": [
    "not 5 == 5"
   ]
  },
  {
   "cell_type": "code",
   "execution_count": null,
   "metadata": {
    "collapsed": true
   },
   "outputs": [],
   "source": [
    "not 'a' in vowels"
   ]
  },
  {
   "cell_type": "markdown",
   "metadata": {},
   "source": [
    "##### The conjunction \"and\""
   ]
  },
  {
   "cell_type": "markdown",
   "metadata": {},
   "source": [
    "**and** compares two boolean values and returns **True** if _both_ are true:"
   ]
  },
  {
   "cell_type": "code",
   "execution_count": null,
   "metadata": {
    "collapsed": true
   },
   "outputs": [],
   "source": [
    "5 == 5 and 3 > 2"
   ]
  },
  {
   "cell_type": "code",
   "execution_count": null,
   "metadata": {
    "collapsed": true
   },
   "outputs": [],
   "source": [
    "5 != 5 and 3 > 2"
   ]
  },
  {
   "cell_type": "markdown",
   "metadata": {},
   "source": [
    "We can build long chains of truth values with **and**. The entire chain will only be true if _every single element_ of it is true:"
   ]
  },
  {
   "cell_type": "code",
   "execution_count": null,
   "metadata": {
    "collapsed": true
   },
   "outputs": [],
   "source": [
    "5 == 5 and 3 < 5 and 6 >= 4 and 'a' in ['a','b','c']\n",
    "# True and True  and True   and  True = True"
   ]
  },
  {
   "cell_type": "code",
   "execution_count": null,
   "metadata": {
    "collapsed": true
   },
   "outputs": [],
   "source": [
    "5 != 5 and 3 < 5 and 6 >= 4 and 'a' in ['a','b','c']\n",
    "# False and True and True and True = False"
   ]
  },
  {
   "cell_type": "markdown",
   "metadata": {},
   "source": [
    "##### The disjunction \"or\""
   ]
  },
  {
   "cell_type": "markdown",
   "metadata": {},
   "source": [
    "**or** compares two boolean values and returns **True** if  _at least one of them_ is true:"
   ]
  },
  {
   "cell_type": "code",
   "execution_count": null,
   "metadata": {
    "collapsed": true
   },
   "outputs": [],
   "source": [
    "5 != 5 or 3 < 5\n",
    "# False or True"
   ]
  },
  {
   "cell_type": "code",
   "execution_count": null,
   "metadata": {
    "collapsed": true
   },
   "outputs": [],
   "source": [
    "False or True"
   ]
  },
  {
   "cell_type": "code",
   "execution_count": null,
   "metadata": {
    "collapsed": true
   },
   "outputs": [],
   "source": [
    "5 != 5 or 3 < 5 or 6 >= 4 or 'a' in ['a','b','c']\n",
    "# False or True or True or True = True"
   ]
  },
  {
   "cell_type": "code",
   "execution_count": null,
   "metadata": {
    "collapsed": true
   },
   "outputs": [],
   "source": [
    "5 != 5 or 3 > 5 or 6 <= 4 or 'a' not in ['a','b','c']\n",
    "# False or False or False or False = False"
   ]
  },
  {
   "cell_type": "markdown",
   "metadata": {},
   "source": [
    "[top](#top)"
   ]
  },
  {
   "cell_type": "markdown",
   "metadata": {},
   "source": [
    "<a name=\"verzweigungen\"></a>Branching\n",
    "==="
   ]
  },
  {
   "cell_type": "markdown",
   "metadata": {},
   "source": [
    "Until now, the computer always executed all of the code we wrote in a program. Sure, within loops it did the same thing a number of times, but everything we wrote was executed at least once.\n",
    "\n",
    "However, you will probably want to only execute certain parts of the code if a condition is met. This leads to _branching_ in your program, where different branches get executed depending on their conditions. We can do this by using a different keyword:"
   ]
  },
  {
   "cell_type": "markdown",
   "metadata": {},
   "source": [
    "<a name=\"if\"></a>If\n",
    "---"
   ]
  },
  {
   "cell_type": "markdown",
   "metadata": {},
   "source": [
    "The simplest **if** statement has a single logical test and a single action to execute if the test returns **True**:"
   ]
  },
  {
   "cell_type": "code",
   "execution_count": null,
   "metadata": {
    "collapsed": true
   },
   "outputs": [],
   "source": [
    "character = 'e'\n",
    "\n",
    "# here the code 'branches'\n",
    "if character in vowels:\n",
    "    print('vowel found!')"
   ]
  },
  {
   "cell_type": "code",
   "execution_count": null,
   "metadata": {
    "collapsed": true
   },
   "outputs": [],
   "source": [
    "character = 'k'\n",
    "\n",
    "# this time nothing happens \n",
    "# since 'k' is not an element of vowels\n",
    "if character in vowels:\n",
    "    print('vowel found!')"
   ]
  },
  {
   "cell_type": "markdown",
   "metadata": {},
   "source": [
    "**Important:** do not forget the colon at the end of the ```if``` statement, to tell the computer that the control part of the statement is over and the code part starts!"
   ]
  },
  {
   "cell_type": "markdown",
   "metadata": {},
   "source": [
    "With the knowledge we have thus far, we can already write a small program, which you might find helpful:"
   ]
  },
  {
   "cell_type": "code",
   "execution_count": null,
   "metadata": {
    "collapsed": true
   },
   "outputs": [],
   "source": [
    "# Search for a file\n",
    "\n",
    "# list of file names\n",
    "filenames = ['2017-03-15.csv', '2017-04-03.txt', '2017-05-01.txt']\n",
    "\n",
    "# file we are looking for\n",
    "file = '2017-04-03.txt'\n",
    "\n",
    "# test whether the file we are \n",
    "# looking for is in the list\n",
    "if file in filenames:\n",
    "    print('file {} found!'.format(file))"
   ]
  },
  {
   "cell_type": "markdown",
   "metadata": {},
   "source": [
    "We can combine ```if``` statements with logical operators:"
   ]
  },
  {
   "cell_type": "code",
   "execution_count": null,
   "metadata": {
    "collapsed": true
   },
   "outputs": [],
   "source": [
    "number = 60\n",
    "if number > 10 and number < 50:\n",
    "    print('Number in between 10 and 50 found!')"
   ]
  },
  {
   "cell_type": "markdown",
   "metadata": {},
   "source": [
    "As a side note, let us look at a handy small operator - the **modulo** operator:"
   ]
  },
  {
   "cell_type": "code",
   "execution_count": null,
   "metadata": {
    "collapsed": true
   },
   "outputs": [],
   "source": [
    "10 % 2"
   ]
  },
  {
   "cell_type": "code",
   "execution_count": null,
   "metadata": {
    "collapsed": true
   },
   "outputs": [],
   "source": [
    "10 % 3"
   ]
  },
  {
   "cell_type": "code",
   "execution_count": null,
   "metadata": {
    "collapsed": true
   },
   "outputs": [],
   "source": [
    "9 % 3"
   ]
  },
  {
   "cell_type": "markdown",
   "metadata": {},
   "source": [
    "The _modulo_ operator returns the residue left over after dividing the first number by the second. This is very handy, if you want to check whether a number is even:"
   ]
  },
  {
   "cell_type": "code",
   "execution_count": null,
   "metadata": {
    "collapsed": true
   },
   "outputs": [],
   "source": [
    "number = 10\n",
    "\n",
    "if number % 2 == 0:\n",
    "    print('The number is even!')"
   ]
  },
  {
   "cell_type": "code",
   "execution_count": null,
   "metadata": {
    "collapsed": true
   },
   "outputs": [],
   "source": [
    "number = 15\n",
    "\n",
    "if number % 2 == 0 and number > 10:\n",
    "    print('Found an even number greater than ten!')"
   ]
  },
  {
   "cell_type": "markdown",
   "metadata": {},
   "source": [
    "[top](#top)"
   ]
  },
  {
   "cell_type": "markdown",
   "metadata": {},
   "source": [
    "<a name=\"ifelse\"></a>If-else\n",
    "---"
   ]
  },
  {
   "cell_type": "markdown",
   "metadata": {},
   "source": [
    "An ```if``` statement only gets executed, if its condition is met.\n",
    "However, it is quite helpful to be able to include an option to execute if the condition is _not_ fullfiled.\n",
    "This really allows our program to have distinct branches, and can be done by using another keyword: ```else```"
   ]
  },
  {
   "cell_type": "code",
   "execution_count": null,
   "metadata": {
    "collapsed": true
   },
   "outputs": [],
   "source": [
    "character = 'o'\n",
    "\n",
    "# the output of this code changes\n",
    "# depending on the value of character\n",
    "if character in vowels:\n",
    "    print('vowel found!')\n",
    "else:\n",
    "    print('no vowel found :-(')"
   ]
  },
  {
   "cell_type": "code",
   "execution_count": null,
   "metadata": {
    "collapsed": true
   },
   "outputs": [],
   "source": [
    "number = 10\n",
    "if number % 2 == 0:\n",
    "    print('The number is even!')\n",
    "else:\n",
    "    print('The number is odd!')"
   ]
  },
  {
   "cell_type": "markdown",
   "metadata": {},
   "source": [
    "We can nest ```if``` statements to realise more complex branching:"
   ]
  },
  {
   "cell_type": "code",
   "execution_count": null,
   "metadata": {
    "collapsed": true
   },
   "outputs": [],
   "source": [
    "character = 'a'\n",
    "\n",
    "# first, test whether character holds a vowel\n",
    "if character in vowels:\n",
    "    \n",
    "    # if yes, display this result\n",
    "    print('vowel found!')\n",
    "    \n",
    "    # test whether character is\n",
    "    # an element of \"jana\"\n",
    "    if character in 'jana':\n",
    "        print('character is a part of \"jana\"!')\n",
    "    else:\n",
    "        print('weird character...')\n",
    "        \n",
    "# character is no vowel\n",
    "else:\n",
    "    print('no vowel found :-(')"
   ]
  },
  {
   "cell_type": "markdown",
   "metadata": {},
   "source": [
    "[top](#top)"
   ]
  },
  {
   "cell_type": "markdown",
   "metadata": {},
   "source": [
    "<a name=\"ifelifelse\"></a>If-elif-else\n",
    "---"
   ]
  },
  {
   "cell_type": "markdown",
   "metadata": {},
   "source": [
    "Theoretically, you already can realise any kind of branching structure in your code.\n",
    "However, it is hard to make nested branching work well, and even harder to understand these structures if you didn't write them yourself.\n",
    "Luckily, there is a third keyword, which allows us to make things more clear and readable: ```elif```.  \n",
    "With this keyword you can make cascades of branching without nesting."
   ]
  },
  {
   "cell_type": "code",
   "execution_count": null,
   "metadata": {
    "collapsed": true
   },
   "outputs": [],
   "source": [
    "# List of weekdays\n",
    "weekdays = ['monday', 'tuesday', 'wednesday', 'thursday', 'friday']\n",
    "\n",
    "# iterate over all five days\n",
    "for day in weekdays:\n",
    "    \n",
    "    # if day is monday or tuesday, be sad    \n",
    "    if day == 'monday' or day == 'tuesday':\n",
    "        print(\"It's {}. I am sad.\".format(day))\n",
    "        \n",
    "    # if day is wednesday, be hopeful\n",
    "    elif day == 'wednesday':\n",
    "        print(\"It's {}. I am hopeful\".format(day))\n",
    "        \n",
    "    # if it is thursday or friday be happy\n",
    "    elif day == 'thursday' or day == 'friday':\n",
    "        print(\"It's {}. I am happy.\".format(day))\n",
    "        \n",
    "    # this part will not be executed in this example\n",
    "    else:\n",
    "        print('Huh... its probably weekend')"
   ]
  },
  {
   "cell_type": "markdown",
   "metadata": {},
   "source": [
    "Using ```elif``` and a truth function, we can simplify the example with the vowel:"
   ]
  },
  {
   "cell_type": "code",
   "execution_count": null,
   "metadata": {
    "collapsed": true
   },
   "outputs": [],
   "source": [
    "character = 'a'\n",
    "\n",
    "# test whether character is a vowel and if it is in \"jana\"\n",
    "if character in vowels and character in \"jana\":\n",
    "    print('vowel found!')\n",
    "    print('character is a part of \"jana\"!') \n",
    "    \n",
    "# if not, test whether character is a vowel\n",
    "elif character in vowels:\n",
    "    print('vowel found!')\n",
    "    print('weird character...')   \n",
    "    \n",
    "# character is no vowel\n",
    "else:\n",
    "    print('no vowel found :-(')"
   ]
  },
  {
   "cell_type": "markdown",
   "metadata": {},
   "source": [
    "[top](#top)"
   ]
  },
  {
   "cell_type": "markdown",
   "metadata": {},
   "source": [
    "<a name='uebung03'></a>Exercise 03: Logic and branching\n",
    "==="
   ]
  },
  {
   "cell_type": "markdown",
   "metadata": {},
   "source": [
    "1. **Logic and truth values**\n",
    "  1. Write a program which tests if a number is divisible by three.  \n",
    "  2. Write a program which tests if a word includes the character 'e' and is shorter than five characters.  \n",
    "  \n",
    "  \n",
    "2. **Branching**\n",
    "  1. Create a list of the numbers from 0 to 20  \n",
    "  2. Write a program which uses a ```for``` to iterate the list and\n",
    "    * finds all even numbers and displays them\n",
    "    * finds all prime numbers and displays them\n",
    "    * has a special case for zero"
   ]
  },
  {
   "cell_type": "markdown",
   "metadata": {},
   "source": [
    "[top](#top)"
   ]
  }
 ],
 "metadata": {
  "kernelspec": {
   "display_name": "Python 3",
   "language": "python",
   "name": "python3"
  },
  "language_info": {
   "codemirror_mode": {
    "name": "ipython",
    "version": 3
   },
   "file_extension": ".py",
   "mimetype": "text/x-python",
   "name": "python",
   "nbconvert_exporter": "python",
   "pygments_lexer": "ipython3",
   "version": "3.6.1"
  }
 },
 "nbformat": 4,
 "nbformat_minor": 1
}
