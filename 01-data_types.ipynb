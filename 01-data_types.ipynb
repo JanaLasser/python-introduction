{
 "cells": [
  {
   "cell_type": "markdown",
   "metadata": {},
   "source": [
    "# Timetable"
   ]
  },
  {
   "cell_type": "markdown",
   "metadata": {},
   "source": [
    "**09:15 - 09:30**  $\\quad$ Introduction  \n",
    "**09:30 - 10:00**  $\\quad$ Input: _Data Types_  \n",
    "**10:00 - 10:45**  $\\quad$ Exercise 01: _Data Types_   \n",
    "**10:45 - 11:00**  $\\quad$ Coffee Break  \n",
    "**11:00 - 11:15**  $\\quad$ Input: _Lists_  \n",
    "**11:15 - 12:00**  $\\quad$ Exercise 02: _Lists_  \n",
    "\n",
    "**12:00 - 13:00**  $\\quad$ Lunch Break  \n",
    "\n",
    "**13:00 - 13:30**  $\\quad$ Input: _Logics and branching_  \n",
    "**13:30 - 14:15**  $\\quad$ Exercise 03: _Logics and branching_  \n",
    "**14:15 - 14:30**  $\\quad$ Coffee Break  \n",
    "**14:30 - 15:00**  $\\quad$ Input: _More Lists_  \n",
    "**15:00 - 16:00**  $\\quad$ Exercise 04: _More Lists_  \n",
    "**16:00 - 16:15**  $\\quad$ Questions & Feedback"
   ]
  },
  {
   "cell_type": "markdown",
   "metadata": {},
   "source": [
    "# Introduction"
   ]
  },
  {
   "cell_type": "markdown",
   "metadata": {},
   "source": [
    "## Course-Philosophy"
   ]
  },
  {
   "cell_type": "markdown",
   "metadata": {},
   "source": [
    "* We start at zero, requiring no previous programming knowledge (hopefully)\n",
    "* Short presentations, long exercises (20-30 min vs 45-60 min)\n",
    "* Questions/interruptions are allowed and encouraged!\n",
    "* Dayliy live of a programmer = 50% asking und googling questions, 40% looking for errors und 10% coding"
   ]
  },
  {
   "cell_type": "markdown",
   "metadata": {},
   "source": [
    "## Why programming?"
   ]
  },
  {
   "cell_type": "markdown",
   "metadata": {},
   "source": [
    "Programming is \"Talking to the computer\". Sometimes there is no ready to use software for the task you want to do. In this case being able to write a short script to execute the task is very helpful. The more specialized your research area, the more likely it is that no ready to use solutions exist.\n",
    "* Automating repetetive tasks (ever renamed more than 100 files by hand?)\n",
    "* Work with big amounts of data (3D point clouds, Image processing, long lists of objects...)\n",
    "* Simulations, solving of differential equations\n",
    "* Informative plots\n",
    "* Reproducibility & transparency\n",
    "* ..."
   ]
  },
  {
   "cell_type": "markdown",
   "metadata": {},
   "source": [
    "## Why Python?"
   ]
  },
  {
   "cell_type": "markdown",
   "metadata": {},
   "source": [
    "* Scripting language: easy to learn, fast to apply\n",
    "* Very fast coding: execute code directly in editor, no need to compile\n",
    "* Giant community: lots of help online, easy installation\n",
    "* Very good documentation\n",
    "* Open Source"
   ]
  },
  {
   "cell_type": "markdown",
   "metadata": {},
   "source": [
    "<a name=\"top\"></a>Overview: Data types\n",
    "==="
   ]
  },
  {
   "cell_type": "markdown",
   "metadata": {},
   "source": [
    "* [Variables](#variablen)\n",
    "  * [Values](#werte)\n",
    "  * [Names](#namen)\n",
    "  * [Errors](#fehler)\n",
    "  \n",
    "  \n",
    "* [Data types](#datentypen)\n",
    "  * [Numbers](#zahlen)\n",
    "  * [Strings (lists of characters)](#strings)\n",
    "  * [Commenting](#kommentare)\n",
    "  \n",
    "  \n",
    "* [The Jupyter notebook](#jupyter)\n",
    "  * [A few commands](#kommandos)\n",
    "  * [The Dashboard](#dashboard)\n",
    "  \n",
    "  \n",
    "* [Exercise 01: Variables and Data types](#uebung01)"
   ]
  },
  {
   "cell_type": "markdown",
   "metadata": {},
   "source": [
    "**Learning goals:** By the end or this lecture you will\n",
    "* have a basic understanding of how programming works, and why it is helpful,\n",
    "* be able to use Python as a calculator,\n",
    "* know how to document your code with comments and\n",
    "* be able to work with Jupyter notebooks."
   ]
  },
  {
   "cell_type": "markdown",
   "metadata": {},
   "source": [
    "[top](#top)"
   ]
  },
  {
   "cell_type": "markdown",
   "metadata": {},
   "source": [
    "<a name=\"variablen\"></a> Variables\n",
    "==="
   ]
  },
  {
   "cell_type": "markdown",
   "metadata": {},
   "source": [
    "<a name='werte'></a>Values\n",
    "---"
   ]
  },
  {
   "cell_type": "markdown",
   "metadata": {},
   "source": [
    "A variable has a name and a value.\n",
    "\n",
    "You assign a value to a variable with '=':"
   ]
  },
  {
   "cell_type": "code",
   "execution_count": null,
   "metadata": {
    "collapsed": true
   },
   "outputs": [],
   "source": [
    "a = 10  #variable = value"
   ]
  },
  {
   "cell_type": "markdown",
   "metadata": {},
   "source": [
    "By assigning a value to a variable you _define_ that variable.  After defining a variable, it is known to the computer and can be used for calculations.\n",
    "\n",
    "With the  ```print()``` _function_ you can get a display of the value of a variable (we will cover functions later).\n",
    "The value is then shown in the _command line_."
   ]
  },
  {
   "cell_type": "code",
   "execution_count": null,
   "metadata": {
    "collapsed": true
   },
   "outputs": [],
   "source": [
    "print(a)   #Displays the value of variable a"
   ]
  },
  {
   "cell_type": "markdown",
   "metadata": {},
   "source": [
    "You can change the value of a variable at any time. If you do this, the variable saves the new value."
   ]
  },
  {
   "cell_type": "code",
   "execution_count": null,
   "metadata": {
    "collapsed": true
   },
   "outputs": [],
   "source": [
    "b = 100    #new variable 'b' with a value of 100\n",
    "print(b)   #display b in the command line \n",
    "\n",
    "b = 50     #assign a new value to b\n",
    "print(b)\n",
    "\n",
    "b = b/2    #assign half of its former value to b\n",
    "print(b)"
   ]
  },
  {
   "cell_type": "markdown",
   "metadata": {},
   "source": [
    "[top](#top)"
   ]
  },
  {
   "cell_type": "markdown",
   "metadata": {},
   "source": [
    "<a name='namen'></a>Names\n",
    "---"
   ]
  },
  {
   "cell_type": "markdown",
   "metadata": {},
   "source": [
    "The two variables we used, have the names 'a' and 'b'. In your code you should use more descriptive names:"
   ]
  },
  {
   "cell_type": "code",
   "execution_count": null,
   "metadata": {
    "collapsed": true
   },
   "outputs": [],
   "source": [
    "example_var_1 = a    #assign the value of a to example_var_1 \n",
    "example_var_2 = b\n",
    "\n",
    "print(example_var_1) #check the value\n",
    "print(example_var_2)"
   ]
  },
  {
   "cell_type": "markdown",
   "metadata": {},
   "source": [
    "Names of variables can be chosen relatively flexibly. However, the computer needs to be able to _interpret_ the code, so there are some rules for variable names:"
   ]
  },
  {
   "cell_type": "markdown",
   "metadata": {},
   "source": [
    "- Variables can only contain letters, numbers, and underscores. Variable names can start with a letter or an underscore, but cannot start with a number.\n",
    "- Spaces are not allowed in variable names (for the computer a space indicates that we mean two different variables), so we use underscores instead of spaces. For example, use \"student_name\" instead of \"student name\".\n",
    "- You cannot use [Python keywords](http://docs.python.org/3/reference/lexical_analysis.html#keywords) as variable names (more on that later).\n",
    "- Variable names should be descriptive, without being too long. For example \"MPI_rooms\" is better than just \"rooms\", and \"number_of_rooms_at_the_MPI\".\n",
    "- Try not to use any special characters of your native language (for example ä,ö,ü)."
   ]
  },
  {
   "cell_type": "markdown",
   "metadata": {},
   "source": [
    "[top](#top)"
   ]
  },
  {
   "cell_type": "markdown",
   "metadata": {},
   "source": [
    "<a name='fehler'></a>Errors\n",
    "---"
   ]
  },
  {
   "cell_type": "markdown",
   "metadata": {},
   "source": [
    "If we write something in our code that the computer doesn't understand, it cannot execute the code and shows an error. This isn't bad but actually happens quite often. Most of the time, the computer tells us why it did not understand us."
   ]
  },
  {
   "cell_type": "code",
   "execution_count": null,
   "metadata": {
    "collapsed": true
   },
   "outputs": [],
   "source": [
    "uni_rooms = 83\n",
    "print(uni_roms)"
   ]
  },
  {
   "cell_type": "markdown",
   "metadata": {},
   "source": [
    "The anatomy of an error message:\n",
    "* the type of the error (NameError)\n",
    "* the file that was responsible for the error (not very helpful here...)\n",
    "* the line in which the error occured\n",
    "* the cause of the error\n",
    "\n",
    "Make sure to spell variables right and always assign values to them before you use them!"
   ]
  },
  {
   "cell_type": "code",
   "execution_count": null,
   "metadata": {
    "collapsed": true
   },
   "outputs": [],
   "source": [
    "print(uni_rooms)"
   ]
  },
  {
   "cell_type": "markdown",
   "metadata": {},
   "source": [
    "[top](#top)"
   ]
  },
  {
   "cell_type": "markdown",
   "metadata": {},
   "source": [
    "<a name=\"datentypen\"></a>Data types\n",
    "==="
   ]
  },
  {
   "cell_type": "markdown",
   "metadata": {},
   "source": [
    "<a name='zahlen'></a>Numbers\n",
    "---"
   ]
  },
  {
   "cell_type": "markdown",
   "metadata": {},
   "source": [
    "##### Integers"
   ]
  },
  {
   "cell_type": "markdown",
   "metadata": {},
   "source": [
    "As we have seen in the examples above, variables can have a numerical value. If the value is a whole number, we call it an *integer*. We can do normal calculations with numbers just as if we were using a calculator:"
   ]
  },
  {
   "cell_type": "markdown",
   "metadata": {},
   "source": [
    "Addition and subtraction use the \"+\" and \"-\" symbols:"
   ]
  },
  {
   "cell_type": "code",
   "execution_count": null,
   "metadata": {
    "collapsed": true
   },
   "outputs": [],
   "source": [
    "print(10 + 3)"
   ]
  },
  {
   "cell_type": "code",
   "execution_count": null,
   "metadata": {
    "collapsed": true
   },
   "outputs": [],
   "source": [
    "print(10 - 3)"
   ]
  },
  {
   "cell_type": "code",
   "execution_count": null,
   "metadata": {
    "collapsed": true
   },
   "outputs": [],
   "source": [
    "# new variable for number of toilets\n",
    "uni_toilets = 10\n",
    "\n",
    "# compute number of non-toilet rooms and store the\n",
    "# result in a new variable\n",
    "non_toilets = uni_rooms - uni_toilets \n",
    "\n",
    "# show the result\n",
    "print(non_toilets)"
   ]
  },
  {
   "cell_type": "markdown",
   "metadata": {},
   "source": [
    "Multiplication and exponentiation use the \"\\*\" and \"\\**\" symbols:"
   ]
  },
  {
   "cell_type": "code",
   "execution_count": null,
   "metadata": {
    "collapsed": true
   },
   "outputs": [],
   "source": [
    "print(10 * 3)"
   ]
  },
  {
   "cell_type": "code",
   "execution_count": null,
   "metadata": {
    "collapsed": true
   },
   "outputs": [],
   "source": [
    "print(10 ** 3)"
   ]
  },
  {
   "cell_type": "code",
   "execution_count": null,
   "metadata": {
    "collapsed": true
   },
   "outputs": [],
   "source": [
    "# caculate the 14th power of 2\n",
    "c = 2\n",
    "d = 14\n",
    "result = c ** d\n",
    "print(result)"
   ]
  },
  {
   "cell_type": "markdown",
   "metadata": {},
   "source": [
    "As with every calculator, you can use parentheses (only round ones!) to modify the order of operators:"
   ]
  },
  {
   "cell_type": "code",
   "execution_count": null,
   "metadata": {
    "collapsed": true
   },
   "outputs": [],
   "source": [
    "standard_order = 2 + 3 * 4   # normal order\n",
    "changed_order = (2 + 3) * 4  # changed order\n",
    "print(standard_order)\n",
    "print(changed_order)"
   ]
  },
  {
   "cell_type": "markdown",
   "metadata": {},
   "source": [
    "Division is implemented by using the \"/\" symbol:"
   ]
  },
  {
   "cell_type": "code",
   "execution_count": null,
   "metadata": {
    "collapsed": true
   },
   "outputs": [],
   "source": [
    "print(10/3)"
   ]
  },
  {
   "cell_type": "markdown",
   "metadata": {},
   "source": [
    "##### Floating point numbers"
   ]
  },
  {
   "cell_type": "markdown",
   "metadata": {},
   "source": [
    "If a calculation results in a non-integer number, the computer automatically produces a *floating point* number, or *float* for short.\n",
    "\n",
    "**Important**: floats do *not* have infinite length! The computer rounds a float in the 16th decimal place, which can lead to errors and loss of precision!"
   ]
  },
  {
   "cell_type": "markdown",
   "metadata": {},
   "source": [
    "The kind of the value that is saved in a variable is called *type* of the variable. \n",
    "You can find out what 'type' a variable is by using the ```type(variable)``` function:"
   ]
  },
  {
   "cell_type": "code",
   "execution_count": null,
   "metadata": {
    "collapsed": true
   },
   "outputs": [],
   "source": [
    "# define variables a and b\n",
    "a = 10\n",
    "b = 3\n",
    "\n",
    "# calculate a/b assign this value to c\n",
    "c = a/b\n",
    "\n",
    "# display the types of a,b, and c\n",
    "print(type(a))\n",
    "print(type(b))\n",
    "print(type(c))"
   ]
  },
  {
   "cell_type": "markdown",
   "metadata": {},
   "source": [
    "##### Variable types"
   ]
  },
  {
   "cell_type": "markdown",
   "metadata": {},
   "source": [
    "If we want to do division without remainder, we can 'force' variables to save an integer value (or vice versa, if we want to save an integer as a float).\n",
    "\n",
    "We can use the functions ```int()``` and ```float()``` to do this (converting a variable from one type to another is called *cast* ): "
   ]
  },
  {
   "cell_type": "code",
   "execution_count": null,
   "metadata": {
    "collapsed": true
   },
   "outputs": [],
   "source": [
    "# c is a float at the moment\n",
    "c = a/b\n",
    "print(c)\n",
    "\n",
    "# now we cast c as a float\n",
    "c = int(c)\n",
    "print(c)\n",
    "\n",
    "# a is an integer at the moment\n",
    "a = 10\n",
    "print(a)\n",
    "\n",
    "# now we cast a as a float\n",
    "a = float(a)\n",
    "print(a)"
   ]
  },
  {
   "cell_type": "markdown",
   "metadata": {},
   "source": [
    "[top](#top)"
   ]
  },
  {
   "cell_type": "markdown",
   "metadata": {},
   "source": [
    "<a name='strings'></a>Strings (lists of characters)\n",
    "---"
   ]
  },
  {
   "cell_type": "markdown",
   "metadata": {},
   "source": [
    "We have seen that variables can save different types of numbers. However they are much more powerful than just that.\n",
    "Another very useful example is to save sets of characters (called *strings*) in a variable:"
   ]
  },
  {
   "cell_type": "code",
   "execution_count": null,
   "metadata": {
    "collapsed": true
   },
   "outputs": [],
   "source": [
    "nonsense = \"katzeklnslerns\\\n",
    "skdrjlokseltj\"\n",
    "print(nonsense)"
   ]
  },
  {
   "cell_type": "markdown",
   "metadata": {},
   "source": [
    "* Strings are sets of characters (letters and symbols), which are mostly used to store text.  \n",
    "* We declare strings by using either double or single quotes -> write text -> 'close' the string again with double or single quotes respectively.\n",
    "* Use the escape character '\\' to insert line breaks into strings without 'closing' the string.\n",
    "* Use triple quotes for multiline strings."
   ]
  },
  {
   "cell_type": "markdown",
   "metadata": {},
   "source": [
    "##### String examples"
   ]
  },
  {
   "cell_type": "code",
   "execution_count": null,
   "metadata": {
    "collapsed": true
   },
   "outputs": [],
   "source": [
    "# use a string to save text\n",
    "fact = \"Cats are cuter than dogs\"\n",
    "print(fact)"
   ]
  },
  {
   "cell_type": "code",
   "execution_count": null,
   "metadata": {
    "collapsed": true
   },
   "outputs": [],
   "source": [
    "# declare a string with \"...\"\n",
    "animal_1 = \"cat\"\n",
    "\n",
    "# or with '...'\n",
    "animal_2 = 'dog'\n",
    "\n",
    "# these two alternatives allow us to use quotation marks in strings\n",
    "animal_3 = '\"bird\"'\n",
    "\n",
    "print(animal_1)\n",
    "print(animal_2)\n",
    "print(animal_3)"
   ]
  },
  {
   "cell_type": "code",
   "execution_count": null,
   "metadata": {
    "collapsed": true
   },
   "outputs": [],
   "source": [
    "# a string which is too long for one line\n",
    "quote = \"Linus Torvalds once said, \\\n",
    "'Any program is only as good as it is useful.'\"\n",
    "print(quote)"
   ]
  },
  {
   "cell_type": "code",
   "execution_count": null,
   "metadata": {
    "collapsed": true
   },
   "outputs": [],
   "source": [
    "# a string that covers multiple lines\n",
    "\n",
    "multiline_string = '''This is a string in which I \n",
    "can comfortably write on multiple lines\n",
    "without worring about using the escape character \"\\\\\" as in\n",
    "the previous example. \n",
    "As you'll see, the original string formating is preserved.\n",
    "'''\n",
    "\n",
    "print(multiline_string)"
   ]
  },
  {
   "cell_type": "markdown",
   "metadata": {},
   "source": [
    "##### Concatenating strings"
   ]
  },
  {
   "cell_type": "markdown",
   "metadata": {},
   "source": [
    "The 'plus' sign combines two strings into one, we call this *concatenation*:"
   ]
  },
  {
   "cell_type": "code",
   "execution_count": null,
   "metadata": {
    "collapsed": true
   },
   "outputs": [],
   "source": [
    "# define two variables which each save one string\n",
    "first_name = 'jana'\n",
    "last_name = 'lasser'\n",
    "\n",
    "# combine both variables\n",
    "full_name = first_name + last_name\n",
    "print(full_name)"
   ]
  },
  {
   "cell_type": "code",
   "execution_count": null,
   "metadata": {
    "collapsed": true
   },
   "outputs": [],
   "source": [
    "# improved example with a whitespace\n",
    "whitespace = ' '\n",
    "full_name = first_name + whitespace * 3 + last_name\n",
    "print(full_name)"
   ]
  },
  {
   "cell_type": "markdown",
   "metadata": {},
   "source": [
    "There is no limit to the number of strings you can combine. Using the ```str()``` function you can also create strings from numbers to print nicer looking result messages to the command line:"
   ]
  },
  {
   "cell_type": "code",
   "execution_count": null,
   "metadata": {
    "collapsed": true
   },
   "outputs": [],
   "source": [
    "a = 15   # define variables\n",
    "b = 3\n",
    "c = a * b  # calculate something\n",
    "\n",
    "# make the output more readable\n",
    "print('if you multiply ' + str(a) + ' by ' + str(b) + \\\n",
    "          ', the result is ' + str(c))"
   ]
  },
  {
   "cell_type": "markdown",
   "metadata": {},
   "source": [
    "##### String formatting"
   ]
  },
  {
   "cell_type": "markdown",
   "metadata": {},
   "source": [
    "Adding strings is often a bit cumbersome. There is an easier alternative to format strings with the ```format()``` function:"
   ]
  },
  {
   "cell_type": "code",
   "execution_count": null,
   "metadata": {
    "collapsed": true
   },
   "outputs": [],
   "source": [
    "calculation = '(5 * 4) + 2'\n",
    "result = (5 * 4) + 2\n",
    "string_template = 'The result of {} is {}!'\n",
    "\n",
    "print(string_template.format(calculation, result))"
   ]
  },
  {
   "cell_type": "code",
   "execution_count": null,
   "metadata": {
    "collapsed": true
   },
   "outputs": [],
   "source": [
    "# alternatively, put the string in a variable first\n",
    "new_string = string_template.format(calculation, result)\n",
    "print(new_string)"
   ]
  },
  {
   "cell_type": "markdown",
   "metadata": {},
   "source": [
    "##### Whitespace"
   ]
  },
  {
   "cell_type": "markdown",
   "metadata": {},
   "source": [
    "* \"whitespace\" is a character, which the computer recognizes, but which is invisible to the reader, e.g. a blank, tab or newline.\n",
    "* These characters can be used with special commands in a string\n",
    "* \"\\t\" for a tab\n",
    "* \"\\n\" for a newline"
   ]
  },
  {
   "cell_type": "code",
   "execution_count": null,
   "metadata": {
    "collapsed": true
   },
   "outputs": [],
   "source": [
    "# tabs\n",
    "print('Hello world!')\n",
    "print('\\tHello world!')\n",
    "print('Hello \\tworld!')"
   ]
  },
  {
   "cell_type": "code",
   "execution_count": null,
   "metadata": {
    "collapsed": true
   },
   "outputs": [],
   "source": [
    "# New line at the start of the string\n",
    "print('\\nHello world!')"
   ]
  },
  {
   "cell_type": "code",
   "execution_count": null,
   "metadata": {
    "collapsed": true
   },
   "outputs": [],
   "source": [
    "# New line at the end of the string\n",
    "print('Hello world!\\n')"
   ]
  },
  {
   "cell_type": "code",
   "execution_count": null,
   "metadata": {
    "collapsed": true
   },
   "outputs": [],
   "source": [
    "# New line in the middle of the string\n",
    "print('Hello \\nworld!')"
   ]
  },
  {
   "cell_type": "markdown",
   "metadata": {},
   "source": [
    "[top](#top)"
   ]
  },
  {
   "cell_type": "markdown",
   "metadata": {},
   "source": [
    "<a name='kommentare'></a>Comments\n",
    "---"
   ]
  },
  {
   "cell_type": "markdown",
   "metadata": {},
   "source": [
    "Comments allow you to write in plain text, within your program. In Python, any line that starts with a pound (#) symbol is ignored by the Python interpreter."
   ]
  },
  {
   "cell_type": "code",
   "execution_count": null,
   "metadata": {
    "collapsed": true
   },
   "outputs": [],
   "source": [
    "# This line is a good comment.\n",
    "#this \n",
    "#is \n",
    "#not\n",
    "\n",
    "print(\"This line is not a comment, it is code.\")"
   ]
  },
  {
   "cell_type": "markdown",
   "metadata": {},
   "source": [
    "##### What makes a good comment?\n",
    "- It is short and to the point, but a complete thought. Most comments should be written in complete sentences.\n",
    "- It explains your thinking, so that when you return to the code later, you will understand how you were approaching the problem.\n",
    "- It explains your thinking, so that others who work with your code will understand your overall approach to a problem.\n",
    "- It explains particularly difficult sections of code in detail."
   ]
  },
  {
   "cell_type": "markdown",
   "metadata": {},
   "source": [
    "##### When should you write a comment?\n",
    "- When you have to think about code before writing it.\n",
    "- When you are likely to forget exactly how you were approaching a problem (which is most of the time...).\n",
    "- When there is more than one way to solve a problem.\n",
    "- When others are unlikely to anticipate your way of thinking about a problem."
   ]
  },
  {
   "cell_type": "markdown",
   "metadata": {},
   "source": [
    "[top](#top)"
   ]
  },
  {
   "cell_type": "markdown",
   "metadata": {},
   "source": [
    "<a name=\"jupyter\"></a>The Jupyter Notebook\n",
    "==="
   ]
  },
  {
   "cell_type": "markdown",
   "metadata": {},
   "source": [
    "The document in which this presentation and the examples are written is a so called Jupyter Notebook. It allows us to write nicely formatted text together with executable code. Additionally, the code snippets from the presentation can be used as templates for the exercises."
   ]
  },
  {
   "cell_type": "markdown",
   "metadata": {},
   "source": [
    "##### Modal Editor"
   ]
  },
  {
   "cell_type": "markdown",
   "metadata": {},
   "source": [
    "The Jupyter Notebook is a _modal editor_. There are two modes: \n",
    "* the **Edit Mode** for writing _within_ cells and\n",
    "* the **Command Mode** to edit blocks of cells.\n",
    "\n",
    "**Edit mode** is indicated by a green and **Command mode** by a grey cell border:"
   ]
  },
  {
   "cell_type": "markdown",
   "metadata": {},
   "source": [
    "Change to a mode by:\n",
    "* **Edit Mode**: press \"enter\" or click _inside_ a cell\n",
    "* **Command Mode**: press \"Esc\" or click _next to_ the cell"
   ]
  },
  {
   "cell_type": "markdown",
   "metadata": {},
   "source": [
    "##### Cell-types"
   ]
  },
  {
   "cell_type": "markdown",
   "metadata": {},
   "source": [
    "A Jupyter Notebook has _cells_ with different contents:\n",
    "* structured **Text** (called \"Markdown\")\n",
    "* and **Code** (note the ```In [1]:``` in front of the cell)"
   ]
  },
  {
   "cell_type": "code",
   "execution_count": null,
   "metadata": {
    "collapsed": true
   },
   "outputs": [],
   "source": [
    "a = 10\n",
    "print(a)"
   ]
  },
  {
   "cell_type": "markdown",
   "metadata": {},
   "source": [
    "To change the typ of the content of a cell:\n",
    "* **Code**: press ```y``` or click Cell $\\rightarrow$ Cell Type $\\rightarrow$ Code\n",
    "* **Text**: press ```m``` or click Cell $\\rightarrow$ Cell Type $\\rightarrow$ Markdown"
   ]
  },
  {
   "cell_type": "markdown",
   "metadata": {},
   "source": [
    "<a name='kommandos'></a>A few commands\n",
    "---"
   ]
  },
  {
   "cell_type": "markdown",
   "metadata": {},
   "source": [
    "* **Edit Mode**:\n",
    "    * ```tab``` for text completion\n",
    "    * ```ctrl-c``` to copy the content of a cell\n",
    "    * ```ctrl-v``` to paste the content inside a cell"
   ]
  },
  {
   "cell_type": "markdown",
   "metadata": {},
   "source": [
    "All commands can be found and used in the toolbar (see above). Howevere, some short keys might be useful:\n",
    "* **Command Mode**:\n",
    "    * ```h``` shows a list of commands\n",
    "    * ```a``` or ```b``` to create a new cell above or under the active cell\n",
    "    * ```d-d``` to delete the active cell\n",
    "    * ```shift-enter``` to execute the active cell"
   ]
  },
  {
   "cell_type": "markdown",
   "metadata": {},
   "source": [
    "<a name='dashboard'></a>The Dashboard\n",
    "---"
   ]
  },
  {
   "cell_type": "markdown",
   "metadata": {},
   "source": [
    "The \"Dashbboard\" is the home directory of the Jupyter Notebooks. To get to the Dashboard click on the \"Jupyter\" logo in left upper corner. There you can open notebooks and create new ones."
   ]
  },
  {
   "cell_type": "markdown",
   "metadata": {},
   "source": [
    "[top](#top)"
   ]
  },
  {
   "cell_type": "markdown",
   "metadata": {},
   "source": [
    "<a name=\"uebung01\"></a>Exercise 01: Variables and Data types\n",
    "==="
   ]
  },
  {
   "cell_type": "markdown",
   "metadata": {},
   "source": [
    "If an error occurs:\n",
    "1. _Read_ and _understand_ the error message\n",
    "2. Try to find a solution yourself ($\\rightarrow$ this is where you learn!)\n",
    "3. Ask us/Google/Stackoverflow or your neighbour\n",
    "\n",
    "Parts of the exercise noted as **(Optional)** are for very fast coders :-)."
   ]
  },
  {
   "cell_type": "markdown",
   "metadata": {},
   "source": [
    "1. **Preparation**\n",
    "  1. Navigate to the Dashboard (we recommend $\\rightarrow$ \"open in a new tab\")\n",
    "  2. Create a new Jupyter-notebook for the exercise: \"new\" (upper right) $\\rightarrow$ \"Python 3\"\n",
    "  3. Give the Notebook a descriptive name (for example) \"Exercise01\" by clicking into the \"Untitled\" field in the upper left corner.\n",
    "  \n",
    "  \n",
    "2. **Numbers**\n",
    "  1. Write a program that prints out the results of a calculation (```print()```). Use each of the basic operations (+, - , \\*, /, \\**) at least once.\n",
    "  2. **(Optional)** Implement a calculation without remainder (```int()```) and print the type of the result using ```type()```.\n",
    "  3. Use multiple operations in one calculation, use brackets to change the order of the operations.\n",
    "  4. **(Optional)** Investigate the concept of \"numerical accuracy\" and where it can lead to problems. Implement a small example.\n",
    "\n",
    "\n",
    "3. **Strings**\n",
    "  1. Choose a famous scientist (from Göttingen of course..), store their first name, last name and a quote from or about them in variables.\n",
    "  2. Add the strings (\"concatenation\") to make a sentence with the person and the quote, print the quote.\n",
    "  3. Format the output of the calculations from part 2A with the ```format()``` function in such a way that it is readable and makes sense.\n",
    "\n",
    "\n",
    "4. **Comments**\n",
    "  1. Write a program that uses every new concept you have learned in this notebook so far.\n",
    "  2. Write comments that explain each section of your program.\n",
    "  3. **(Optional)** For each new thing the program does, write a line of output that explains what happened."
   ]
  },
  {
   "cell_type": "markdown",
   "metadata": {},
   "source": [
    "[top](#top)"
   ]
  }
 ],
 "metadata": {
  "kernelspec": {
   "display_name": "Python 3",
   "language": "python",
   "name": "python3"
  },
  "language_info": {
   "codemirror_mode": {
    "name": "ipython",
    "version": 3
   },
   "file_extension": ".py",
   "mimetype": "text/x-python",
   "name": "python",
   "nbconvert_exporter": "python",
   "pygments_lexer": "ipython3",
   "version": "3.6.1"
  }
 },
 "nbformat": 4,
 "nbformat_minor": 1
}
